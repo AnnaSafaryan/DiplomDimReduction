{
 "cells": [
  {
   "cell_type": "code",
   "execution_count": 1,
   "id": "cd0b6204-7261-488e-9812-87a011491271",
   "metadata": {
    "execution": {
     "iopub.execute_input": "2025-06-02T17:18:25.337060Z",
     "iopub.status.busy": "2025-06-02T17:18:25.335568Z",
     "iopub.status.idle": "2025-06-02T17:18:36.006685Z",
     "shell.execute_reply": "2025-06-02T17:18:36.005719Z",
     "shell.execute_reply.started": "2025-06-02T17:18:25.337016Z"
    },
    "tags": []
   },
   "outputs": [
    {
     "data": {
      "text/plain": [
       "<module 'utils' from '/home/jupyter/work/resources/DiplomDimReduction/utils.py'>"
      ]
     },
     "execution_count": 1,
     "metadata": {},
     "output_type": "execute_result"
    }
   ],
   "source": [
    "import sys\n",
    "\n",
    "import numpy as np\n",
    "import pandas as pd\n",
    "from tqdm import tqdm\n",
    "\n",
    "sys.path.append(\"/home/jupyter/work/resources/DiplomDimReduction/\")\n",
    "import importlib\n",
    "\n",
    "\n",
    "import config\n",
    "\n",
    "importlib.reload(config)\n",
    "import utils\n",
    "from config import config_dict\n",
    "\n",
    "importlib.reload(utils)\n"
   ]
  },
  {
   "cell_type": "code",
   "execution_count": 2,
   "id": "fe136258-050c-4c09-a58a-927b1e8d8b67",
   "metadata": {
    "execution": {
     "iopub.execute_input": "2025-06-02T17:18:36.009755Z",
     "iopub.status.busy": "2025-06-02T17:18:36.008248Z",
     "iopub.status.idle": "2025-06-02T17:18:36.029527Z",
     "shell.execute_reply": "2025-06-02T17:18:36.028572Z",
     "shell.execute_reply.started": "2025-06-02T17:18:36.009714Z"
    },
    "tags": []
   },
   "outputs": [],
   "source": [
    "corpus_prefix = config_dict[\"marco_prefix\"]\n",
    "split_suffix = config_dict[\"test_suffix\"]\n",
    "method_prefix = config_dict[\"dpr_prefix\"]\n",
    "\n",
    "\n",
    "data_path = config_dict[\"data_template\"].format(corpus_prefix, split_suffix)\n",
    "\n",
    "corpus_vector_path = config_dict[\"corpus_vector_template\"].format(\n",
    "    corpus_prefix, method_prefix, split_suffix\n",
    ")\n",
    "corpus_mapping_path = config_dict[\"corpus_mapping_template\"].format(\n",
    "    corpus_prefix, method_prefix, split_suffix\n",
    ")\n",
    "\n",
    "queries_vector_path = config_dict[\"queries_vector_template\"].format(\n",
    "    corpus_prefix, method_prefix, split_suffix\n",
    ")\n",
    "queries_mapping_path = config_dict[\"queries_mapping_template\"].format(\n",
    "    corpus_prefix, method_prefix, split_suffix\n",
    ")\n"
   ]
  },
  {
   "cell_type": "code",
   "execution_count": 3,
   "id": "ed1ef4fa-176d-4001-9414-8f1dc43e6b4b",
   "metadata": {
    "execution": {
     "iopub.execute_input": "2025-06-02T17:18:36.036177Z",
     "iopub.status.busy": "2025-06-02T17:18:36.030746Z",
     "iopub.status.idle": "2025-06-02T17:18:36.633911Z",
     "shell.execute_reply": "2025-06-02T17:18:36.632626Z",
     "shell.execute_reply.started": "2025-06-02T17:18:36.036137Z"
    },
    "tags": []
   },
   "outputs": [
    {
     "data": {
      "text/html": [
       "<div>\n",
       "<style scoped>\n",
       "    .dataframe tbody tr th:only-of-type {\n",
       "        vertical-align: middle;\n",
       "    }\n",
       "\n",
       "    .dataframe tbody tr th {\n",
       "        vertical-align: top;\n",
       "    }\n",
       "\n",
       "    .dataframe thead th {\n",
       "        text-align: right;\n",
       "    }\n",
       "</style>\n",
       "<table border=\"1\" class=\"dataframe\">\n",
       "  <thead>\n",
       "    <tr style=\"text-align: right;\">\n",
       "      <th></th>\n",
       "      <th>query_id</th>\n",
       "      <th>corpus_id</th>\n",
       "      <th>label</th>\n",
       "      <th>corpus_text</th>\n",
       "      <th>query_text</th>\n",
       "    </tr>\n",
       "  </thead>\n",
       "  <tbody>\n",
       "    <tr>\n",
       "      <th>0</th>\n",
       "      <td>19335</td>\n",
       "      <td>8412683</td>\n",
       "      <td>1</td>\n",
       "      <td>Ecological anthropology is defined as the stud...</td>\n",
       "      <td>anthropological definition of environment</td>\n",
       "    </tr>\n",
       "    <tr>\n",
       "      <th>1</th>\n",
       "      <td>19335</td>\n",
       "      <td>1729</td>\n",
       "      <td>1</td>\n",
       "      <td>Graduate Study in Anthropology. The graduate p...</td>\n",
       "      <td>anthropological definition of environment</td>\n",
       "    </tr>\n",
       "    <tr>\n",
       "      <th>2</th>\n",
       "      <td>19335</td>\n",
       "      <td>8412684</td>\n",
       "      <td>1</td>\n",
       "      <td>Ecological Anthropology. Ecological anthropolo...</td>\n",
       "      <td>anthropological definition of environment</td>\n",
       "    </tr>\n",
       "    <tr>\n",
       "      <th>3</th>\n",
       "      <td>19335</td>\n",
       "      <td>3683653</td>\n",
       "      <td>0</td>\n",
       "      <td>The branches of Earth Science are: 1  Geology ...</td>\n",
       "      <td>anthropological definition of environment</td>\n",
       "    </tr>\n",
       "    <tr>\n",
       "      <th>4</th>\n",
       "      <td>19335</td>\n",
       "      <td>342432</td>\n",
       "      <td>0</td>\n",
       "      <td>Five Disciplines of Anthropology. 1  Applied A...</td>\n",
       "      <td>anthropological definition of environment</td>\n",
       "    </tr>\n",
       "    <tr>\n",
       "      <th>...</th>\n",
       "      <td>...</td>\n",
       "      <td>...</td>\n",
       "      <td>...</td>\n",
       "      <td>...</td>\n",
       "      <td>...</td>\n",
       "    </tr>\n",
       "    <tr>\n",
       "      <th>425</th>\n",
       "      <td>1133167</td>\n",
       "      <td>6467520</td>\n",
       "      <td>0</td>\n",
       "      <td>Climate data for ball mtn lake, Longitude: -72...</td>\n",
       "      <td>how is the weather in jamaica</td>\n",
       "    </tr>\n",
       "    <tr>\n",
       "      <th>426</th>\n",
       "      <td>1133167</td>\n",
       "      <td>4712274</td>\n",
       "      <td>0</td>\n",
       "      <td>Re: Best Time of Year to Visit Jamaica Mar 17,...</td>\n",
       "      <td>how is the weather in jamaica</td>\n",
       "    </tr>\n",
       "    <tr>\n",
       "      <th>427</th>\n",
       "      <td>1133167</td>\n",
       "      <td>7115353</td>\n",
       "      <td>0</td>\n",
       "      <td>Hurricane season has ended over a month ago an...</td>\n",
       "      <td>how is the weather in jamaica</td>\n",
       "    </tr>\n",
       "    <tr>\n",
       "      <th>428</th>\n",
       "      <td>1133167</td>\n",
       "      <td>8415745</td>\n",
       "      <td>0</td>\n",
       "      <td>The weather stations sit near sea level, with ...</td>\n",
       "      <td>how is the weather in jamaica</td>\n",
       "    </tr>\n",
       "    <tr>\n",
       "      <th>429</th>\n",
       "      <td>1133167</td>\n",
       "      <td>2365200</td>\n",
       "      <td>0</td>\n",
       "      <td>Jamaica Airport Transfers [3] Jamaica Airport ...</td>\n",
       "      <td>how is the weather in jamaica</td>\n",
       "    </tr>\n",
       "  </tbody>\n",
       "</table>\n",
       "<p>430 rows × 5 columns</p>\n",
       "</div>"
      ],
      "text/plain": [
       "     query_id  ...                                 query_text\n",
       "0       19335  ...  anthropological definition of environment\n",
       "1       19335  ...  anthropological definition of environment\n",
       "2       19335  ...  anthropological definition of environment\n",
       "3       19335  ...  anthropological definition of environment\n",
       "4       19335  ...  anthropological definition of environment\n",
       "..        ...  ...                                        ...\n",
       "425   1133167  ...              how is the weather in jamaica\n",
       "426   1133167  ...              how is the weather in jamaica\n",
       "427   1133167  ...              how is the weather in jamaica\n",
       "428   1133167  ...              how is the weather in jamaica\n",
       "429   1133167  ...              how is the weather in jamaica\n",
       "\n",
       "[430 rows x 5 columns]"
      ]
     },
     "execution_count": 3,
     "metadata": {},
     "output_type": "execute_result"
    }
   ],
   "source": [
    "data = pd.read_parquet(data_path)\n",
    "data"
   ]
  },
  {
   "cell_type": "code",
   "execution_count": 4,
   "id": "b2db0213-7c77-48ae-8343-5f57540841d4",
   "metadata": {
    "execution": {
     "iopub.execute_input": "2025-06-02T17:18:36.636133Z",
     "iopub.status.busy": "2025-06-02T17:18:36.635573Z",
     "iopub.status.idle": "2025-06-02T17:18:36.668138Z",
     "shell.execute_reply": "2025-06-02T17:18:36.667348Z",
     "shell.execute_reply.started": "2025-06-02T17:18:36.636096Z"
    },
    "tags": []
   },
   "outputs": [
    {
     "data": {
      "text/plain": [
       "43"
      ]
     },
     "execution_count": 4,
     "metadata": {},
     "output_type": "execute_result"
    }
   ],
   "source": [
    "data['query_id'].nunique()"
   ]
  },
  {
   "cell_type": "code",
   "execution_count": 5,
   "id": "3441b71c-1236-4520-87c0-97b598b901d1",
   "metadata": {
    "execution": {
     "iopub.execute_input": "2025-06-02T17:18:36.670603Z",
     "iopub.status.busy": "2025-06-02T17:18:36.669218Z",
     "iopub.status.idle": "2025-06-02T17:18:36.693655Z",
     "shell.execute_reply": "2025-06-02T17:18:36.692691Z",
     "shell.execute_reply.started": "2025-06-02T17:18:36.670561Z"
    },
    "tags": []
   },
   "outputs": [
    {
     "data": {
      "text/plain": [
       "428"
      ]
     },
     "execution_count": 5,
     "metadata": {},
     "output_type": "execute_result"
    }
   ],
   "source": [
    "data['corpus_id'].nunique()"
   ]
  },
  {
   "cell_type": "code",
   "execution_count": 20,
   "id": "63cdfc66-b7f5-4059-89f6-dff4c46a9990",
   "metadata": {
    "execution": {
     "iopub.execute_input": "2025-06-02T17:53:30.259944Z",
     "iopub.status.busy": "2025-06-02T17:53:30.258978Z",
     "iopub.status.idle": "2025-06-02T17:53:30.308039Z",
     "shell.execute_reply": "2025-06-02T17:53:30.307062Z",
     "shell.execute_reply.started": "2025-06-02T17:53:30.259900Z"
    },
    "tags": []
   },
   "outputs": [
    {
     "data": {
      "text/html": [
       "<div>\n",
       "<style scoped>\n",
       "    .dataframe tbody tr th:only-of-type {\n",
       "        vertical-align: middle;\n",
       "    }\n",
       "\n",
       "    .dataframe tbody tr th {\n",
       "        vertical-align: top;\n",
       "    }\n",
       "\n",
       "    .dataframe thead th {\n",
       "        text-align: right;\n",
       "    }\n",
       "</style>\n",
       "<table border=\"1\" class=\"dataframe\">\n",
       "  <thead>\n",
       "    <tr style=\"text-align: right;\">\n",
       "      <th></th>\n",
       "      <th>query_id</th>\n",
       "      <th>corpus_id</th>\n",
       "      <th>label</th>\n",
       "      <th>corpus_text</th>\n",
       "      <th>query_text</th>\n",
       "    </tr>\n",
       "  </thead>\n",
       "  <tbody>\n",
       "    <tr>\n",
       "      <th>390</th>\n",
       "      <td>1121709</td>\n",
       "      <td>8049583</td>\n",
       "      <td>1</td>\n",
       "      <td>The Three Percenters, formed in late 2008, are...</td>\n",
       "      <td>what are the three percenters?</td>\n",
       "    </tr>\n",
       "    <tr>\n",
       "      <th>391</th>\n",
       "      <td>1121709</td>\n",
       "      <td>3423067</td>\n",
       "      <td>1</td>\n",
       "      <td>A loose affiliation of like minded Americans w...</td>\n",
       "      <td>what are the three percenters?</td>\n",
       "    </tr>\n",
       "    <tr>\n",
       "      <th>392</th>\n",
       "      <td>1121709</td>\n",
       "      <td>8049584</td>\n",
       "      <td>1</td>\n",
       "      <td>The Oath Keepers and Three Percenters, both pa...</td>\n",
       "      <td>what are the three percenters?</td>\n",
       "    </tr>\n",
       "    <tr>\n",
       "      <th>393</th>\n",
       "      <td>1121709</td>\n",
       "      <td>7499157</td>\n",
       "      <td>0</td>\n",
       "      <td>Opinions differ over what constitutes a safe n...</td>\n",
       "      <td>what are the three percenters?</td>\n",
       "    </tr>\n",
       "    <tr>\n",
       "      <th>394</th>\n",
       "      <td>1121709</td>\n",
       "      <td>5974052</td>\n",
       "      <td>0</td>\n",
       "      <td>The COLA was 1.7 percent in 2015. 1.5 percent ...</td>\n",
       "      <td>what are the three percenters?</td>\n",
       "    </tr>\n",
       "    <tr>\n",
       "      <th>395</th>\n",
       "      <td>1121709</td>\n",
       "      <td>7810596</td>\n",
       "      <td>0</td>\n",
       "      <td>The militia movement is a newer right-wing ext...</td>\n",
       "      <td>what are the three percenters?</td>\n",
       "    </tr>\n",
       "    <tr>\n",
       "      <th>396</th>\n",
       "      <td>1121709</td>\n",
       "      <td>1080396</td>\n",
       "      <td>0</td>\n",
       "      <td>The American Revolution (1775-83) is also know...</td>\n",
       "      <td>what are the three percenters?</td>\n",
       "    </tr>\n",
       "    <tr>\n",
       "      <th>397</th>\n",
       "      <td>1121709</td>\n",
       "      <td>2117896</td>\n",
       "      <td>0</td>\n",
       "      <td>The American Revolutionary War (1775â1783), ...</td>\n",
       "      <td>what are the three percenters?</td>\n",
       "    </tr>\n",
       "    <tr>\n",
       "      <th>398</th>\n",
       "      <td>1121709</td>\n",
       "      <td>1774646</td>\n",
       "      <td>0</td>\n",
       "      <td>percent means out of 100 20 percent of 5000 is...</td>\n",
       "      <td>what are the three percenters?</td>\n",
       "    </tr>\n",
       "    <tr>\n",
       "      <th>399</th>\n",
       "      <td>1121709</td>\n",
       "      <td>2541472</td>\n",
       "      <td>0</td>\n",
       "      <td>By getting involved with the revolutionary mov...</td>\n",
       "      <td>what are the three percenters?</td>\n",
       "    </tr>\n",
       "  </tbody>\n",
       "</table>\n",
       "</div>"
      ],
      "text/plain": [
       "     query_id  ...                      query_text\n",
       "390   1121709  ...  what are the three percenters?\n",
       "391   1121709  ...  what are the three percenters?\n",
       "392   1121709  ...  what are the three percenters?\n",
       "393   1121709  ...  what are the three percenters?\n",
       "394   1121709  ...  what are the three percenters?\n",
       "395   1121709  ...  what are the three percenters?\n",
       "396   1121709  ...  what are the three percenters?\n",
       "397   1121709  ...  what are the three percenters?\n",
       "398   1121709  ...  what are the three percenters?\n",
       "399   1121709  ...  what are the three percenters?\n",
       "\n",
       "[10 rows x 5 columns]"
      ]
     },
     "execution_count": 20,
     "metadata": {},
     "output_type": "execute_result"
    }
   ],
   "source": [
    "text = \"what are the three percenters?\"\n",
    "data[data['query_text'] == text]"
   ]
  },
  {
   "cell_type": "code",
   "execution_count": null,
   "id": "de365c13-4a7e-474e-91d2-4906dd2ea32e",
   "metadata": {},
   "outputs": [],
   "source": []
  }
 ],
 "metadata": {
  "kernelspec": {
   "display_name": "DataSphere Kernel",
   "language": "python",
   "name": "python3"
  },
  "language_info": {
   "codemirror_mode": {
    "name": "ipython",
    "version": 3
   },
   "file_extension": ".py",
   "mimetype": "text/x-python",
   "name": "python",
   "nbconvert_exporter": "python",
   "pygments_lexer": "ipython3",
   "version": "3.10.12"
  }
 },
 "nbformat": 4,
 "nbformat_minor": 5
}
