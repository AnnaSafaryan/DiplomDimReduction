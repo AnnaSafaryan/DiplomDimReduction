{
  "nbformat": 4,
  "nbformat_minor": 0,
  "metadata": {
    "colab": {
      "provenance": []
    },
    "kernelspec": {
      "name": "python3",
      "display_name": "Python 3"
    },
    "language_info": {
      "name": "python"
    }
  },
  "cells": [
    {
      "cell_type": "markdown",
      "source": [
        "# Импорты"
      ],
      "metadata": {
        "id": "ZbPv1KqO4Ooc"
      }
    },
    {
      "cell_type": "code",
      "execution_count": null,
      "metadata": {
        "id": "s30o5cyY_Fbz"
      },
      "outputs": [],
      "source": [
        "import pandas as pd\n",
        "from transformers import AutoTokenizer, AutoModel\n",
        "import torch\n",
        "import numpy as np\n",
        "from tqdm import tqdm\n",
        "import json\n",
        "import joblib\n",
        "from sklearn.metrics import ndcg_score\n",
        "\n",
        "import torch\n",
        "import torch.nn as nn\n",
        "\n",
        "import sys\n",
        "sys.path.append('/content/drive/MyDrive/Colab Notebooks/Diplom/')\n",
        "import importlib\n",
        "\n",
        "import config\n",
        "importlib.reload(config)\n",
        "from config import config_dict\n",
        "\n",
        "import utils\n",
        "importlib.reload(utils)\n",
        "from utils import create_path"
      ]
    },
    {
      "cell_type": "markdown",
      "source": [
        "# Пути"
      ],
      "metadata": {
        "id": "xtIYvPBy4Z5R"
      }
    },
    {
      "cell_type": "code",
      "source": [
        "model_name = config_dict['colbert_model']\n",
        "\n",
        "method_prefix = config_dict['late interaction prefix']\n",
        "corpus_prefix = config_dict['marco_prefix']\n",
        "split_suffix = config_dict['test_suffix']\n",
        "\n",
        "data_path = config_dict['data_template'].format(corpus_prefix, split_suffix)\n",
        "\n",
        "corpus_vector_path = config_dict['corpus_vector_template'].format(corpus_prefix, method_prefix, split_suffix)\n",
        "corpus_mapping_path = config_dict['corpus_mapping_template'].format(corpus_prefix, method_prefix, split_suffix)\n",
        "\n",
        "queries_vector_path = config_dict['queries_vector_template'].format(corpus_prefix, method_prefix, split_suffix)\n",
        "queries_mapping_path = config_dict['queries_mapping_template'].format(corpus_prefix, method_prefix, split_suffix)\n",
        "\n",
        "sk_model_path_template = config_dict['reduction_sk_model_template']\n",
        "ae_model_path_template = config_dict['reduction_ae_model_template']"
      ],
      "metadata": {
        "id": "d3LMuw5Q4dHu"
      },
      "execution_count": null,
      "outputs": []
    },
    {
      "cell_type": "markdown",
      "source": [
        "# Данные"
      ],
      "metadata": {
        "id": "cG017VVN42wK"
      }
    },
    {
      "cell_type": "code",
      "source": [
        "data = pd.read_parquet(data_path)\n",
        "data"
      ],
      "metadata": {
        "colab": {
          "base_uri": "https://localhost:8080/",
          "height": 423
        },
        "id": "nY5QrzQAFh_P",
        "outputId": "4a10573f-26aa-45a1-ee49-26548177fb4a"
      },
      "execution_count": null,
      "outputs": [
        {
          "output_type": "execute_result",
          "data": {
            "text/plain": [
              "     query_id  corpus_id  label  \\\n",
              "0       19335    8412683      1   \n",
              "1       19335       1729      1   \n",
              "2       19335    8412684      1   \n",
              "3       19335    3683653      0   \n",
              "4       19335     342432      0   \n",
              "..        ...        ...    ...   \n",
              "425   1133167    6467520      0   \n",
              "426   1133167    4712274      0   \n",
              "427   1133167    7115353      0   \n",
              "428   1133167    8415745      0   \n",
              "429   1133167    2365200      0   \n",
              "\n",
              "                                           corpus_text  \\\n",
              "0    Ecological anthropology is defined as the stud...   \n",
              "1    Graduate Study in Anthropology. The graduate p...   \n",
              "2    Ecological Anthropology. Ecological anthropolo...   \n",
              "3    The branches of Earth Science are: 1  Geology ...   \n",
              "4    Five Disciplines of Anthropology. 1  Applied A...   \n",
              "..                                                 ...   \n",
              "425  Climate data for ball mtn lake, Longitude: -72...   \n",
              "426  Re: Best Time of Year to Visit Jamaica Mar 17,...   \n",
              "427  Hurricane season has ended over a month ago an...   \n",
              "428  The weather stations sit near sea level, with ...   \n",
              "429  Jamaica Airport Transfers [3] Jamaica Airport ...   \n",
              "\n",
              "                                    query_text  \n",
              "0    anthropological definition of environment  \n",
              "1    anthropological definition of environment  \n",
              "2    anthropological definition of environment  \n",
              "3    anthropological definition of environment  \n",
              "4    anthropological definition of environment  \n",
              "..                                         ...  \n",
              "425              how is the weather in jamaica  \n",
              "426              how is the weather in jamaica  \n",
              "427              how is the weather in jamaica  \n",
              "428              how is the weather in jamaica  \n",
              "429              how is the weather in jamaica  \n",
              "\n",
              "[430 rows x 5 columns]"
            ],
            "text/html": [
              "\n",
              "  <div id=\"df-06318f04-61da-42c1-837f-aec3f64060d1\" class=\"colab-df-container\">\n",
              "    <div>\n",
              "<style scoped>\n",
              "    .dataframe tbody tr th:only-of-type {\n",
              "        vertical-align: middle;\n",
              "    }\n",
              "\n",
              "    .dataframe tbody tr th {\n",
              "        vertical-align: top;\n",
              "    }\n",
              "\n",
              "    .dataframe thead th {\n",
              "        text-align: right;\n",
              "    }\n",
              "</style>\n",
              "<table border=\"1\" class=\"dataframe\">\n",
              "  <thead>\n",
              "    <tr style=\"text-align: right;\">\n",
              "      <th></th>\n",
              "      <th>query_id</th>\n",
              "      <th>corpus_id</th>\n",
              "      <th>label</th>\n",
              "      <th>corpus_text</th>\n",
              "      <th>query_text</th>\n",
              "    </tr>\n",
              "  </thead>\n",
              "  <tbody>\n",
              "    <tr>\n",
              "      <th>0</th>\n",
              "      <td>19335</td>\n",
              "      <td>8412683</td>\n",
              "      <td>1</td>\n",
              "      <td>Ecological anthropology is defined as the stud...</td>\n",
              "      <td>anthropological definition of environment</td>\n",
              "    </tr>\n",
              "    <tr>\n",
              "      <th>1</th>\n",
              "      <td>19335</td>\n",
              "      <td>1729</td>\n",
              "      <td>1</td>\n",
              "      <td>Graduate Study in Anthropology. The graduate p...</td>\n",
              "      <td>anthropological definition of environment</td>\n",
              "    </tr>\n",
              "    <tr>\n",
              "      <th>2</th>\n",
              "      <td>19335</td>\n",
              "      <td>8412684</td>\n",
              "      <td>1</td>\n",
              "      <td>Ecological Anthropology. Ecological anthropolo...</td>\n",
              "      <td>anthropological definition of environment</td>\n",
              "    </tr>\n",
              "    <tr>\n",
              "      <th>3</th>\n",
              "      <td>19335</td>\n",
              "      <td>3683653</td>\n",
              "      <td>0</td>\n",
              "      <td>The branches of Earth Science are: 1  Geology ...</td>\n",
              "      <td>anthropological definition of environment</td>\n",
              "    </tr>\n",
              "    <tr>\n",
              "      <th>4</th>\n",
              "      <td>19335</td>\n",
              "      <td>342432</td>\n",
              "      <td>0</td>\n",
              "      <td>Five Disciplines of Anthropology. 1  Applied A...</td>\n",
              "      <td>anthropological definition of environment</td>\n",
              "    </tr>\n",
              "    <tr>\n",
              "      <th>...</th>\n",
              "      <td>...</td>\n",
              "      <td>...</td>\n",
              "      <td>...</td>\n",
              "      <td>...</td>\n",
              "      <td>...</td>\n",
              "    </tr>\n",
              "    <tr>\n",
              "      <th>425</th>\n",
              "      <td>1133167</td>\n",
              "      <td>6467520</td>\n",
              "      <td>0</td>\n",
              "      <td>Climate data for ball mtn lake, Longitude: -72...</td>\n",
              "      <td>how is the weather in jamaica</td>\n",
              "    </tr>\n",
              "    <tr>\n",
              "      <th>426</th>\n",
              "      <td>1133167</td>\n",
              "      <td>4712274</td>\n",
              "      <td>0</td>\n",
              "      <td>Re: Best Time of Year to Visit Jamaica Mar 17,...</td>\n",
              "      <td>how is the weather in jamaica</td>\n",
              "    </tr>\n",
              "    <tr>\n",
              "      <th>427</th>\n",
              "      <td>1133167</td>\n",
              "      <td>7115353</td>\n",
              "      <td>0</td>\n",
              "      <td>Hurricane season has ended over a month ago an...</td>\n",
              "      <td>how is the weather in jamaica</td>\n",
              "    </tr>\n",
              "    <tr>\n",
              "      <th>428</th>\n",
              "      <td>1133167</td>\n",
              "      <td>8415745</td>\n",
              "      <td>0</td>\n",
              "      <td>The weather stations sit near sea level, with ...</td>\n",
              "      <td>how is the weather in jamaica</td>\n",
              "    </tr>\n",
              "    <tr>\n",
              "      <th>429</th>\n",
              "      <td>1133167</td>\n",
              "      <td>2365200</td>\n",
              "      <td>0</td>\n",
              "      <td>Jamaica Airport Transfers [3] Jamaica Airport ...</td>\n",
              "      <td>how is the weather in jamaica</td>\n",
              "    </tr>\n",
              "  </tbody>\n",
              "</table>\n",
              "<p>430 rows × 5 columns</p>\n",
              "</div>\n",
              "    <div class=\"colab-df-buttons\">\n",
              "\n",
              "  <div class=\"colab-df-container\">\n",
              "    <button class=\"colab-df-convert\" onclick=\"convertToInteractive('df-06318f04-61da-42c1-837f-aec3f64060d1')\"\n",
              "            title=\"Convert this dataframe to an interactive table.\"\n",
              "            style=\"display:none;\">\n",
              "\n",
              "  <svg xmlns=\"http://www.w3.org/2000/svg\" height=\"24px\" viewBox=\"0 -960 960 960\">\n",
              "    <path d=\"M120-120v-720h720v720H120Zm60-500h600v-160H180v160Zm220 220h160v-160H400v160Zm0 220h160v-160H400v160ZM180-400h160v-160H180v160Zm440 0h160v-160H620v160ZM180-180h160v-160H180v160Zm440 0h160v-160H620v160Z\"/>\n",
              "  </svg>\n",
              "    </button>\n",
              "\n",
              "  <style>\n",
              "    .colab-df-container {\n",
              "      display:flex;\n",
              "      gap: 12px;\n",
              "    }\n",
              "\n",
              "    .colab-df-convert {\n",
              "      background-color: #E8F0FE;\n",
              "      border: none;\n",
              "      border-radius: 50%;\n",
              "      cursor: pointer;\n",
              "      display: none;\n",
              "      fill: #1967D2;\n",
              "      height: 32px;\n",
              "      padding: 0 0 0 0;\n",
              "      width: 32px;\n",
              "    }\n",
              "\n",
              "    .colab-df-convert:hover {\n",
              "      background-color: #E2EBFA;\n",
              "      box-shadow: 0px 1px 2px rgba(60, 64, 67, 0.3), 0px 1px 3px 1px rgba(60, 64, 67, 0.15);\n",
              "      fill: #174EA6;\n",
              "    }\n",
              "\n",
              "    .colab-df-buttons div {\n",
              "      margin-bottom: 4px;\n",
              "    }\n",
              "\n",
              "    [theme=dark] .colab-df-convert {\n",
              "      background-color: #3B4455;\n",
              "      fill: #D2E3FC;\n",
              "    }\n",
              "\n",
              "    [theme=dark] .colab-df-convert:hover {\n",
              "      background-color: #434B5C;\n",
              "      box-shadow: 0px 1px 3px 1px rgba(0, 0, 0, 0.15);\n",
              "      filter: drop-shadow(0px 1px 2px rgba(0, 0, 0, 0.3));\n",
              "      fill: #FFFFFF;\n",
              "    }\n",
              "  </style>\n",
              "\n",
              "    <script>\n",
              "      const buttonEl =\n",
              "        document.querySelector('#df-06318f04-61da-42c1-837f-aec3f64060d1 button.colab-df-convert');\n",
              "      buttonEl.style.display =\n",
              "        google.colab.kernel.accessAllowed ? 'block' : 'none';\n",
              "\n",
              "      async function convertToInteractive(key) {\n",
              "        const element = document.querySelector('#df-06318f04-61da-42c1-837f-aec3f64060d1');\n",
              "        const dataTable =\n",
              "          await google.colab.kernel.invokeFunction('convertToInteractive',\n",
              "                                                    [key], {});\n",
              "        if (!dataTable) return;\n",
              "\n",
              "        const docLinkHtml = 'Like what you see? Visit the ' +\n",
              "          '<a target=\"_blank\" href=https://colab.research.google.com/notebooks/data_table.ipynb>data table notebook</a>'\n",
              "          + ' to learn more about interactive tables.';\n",
              "        element.innerHTML = '';\n",
              "        dataTable['output_type'] = 'display_data';\n",
              "        await google.colab.output.renderOutput(dataTable, element);\n",
              "        const docLink = document.createElement('div');\n",
              "        docLink.innerHTML = docLinkHtml;\n",
              "        element.appendChild(docLink);\n",
              "      }\n",
              "    </script>\n",
              "  </div>\n",
              "\n",
              "\n",
              "    <div id=\"df-2af394f8-1e7d-4f50-a57f-9a1487e2d622\">\n",
              "      <button class=\"colab-df-quickchart\" onclick=\"quickchart('df-2af394f8-1e7d-4f50-a57f-9a1487e2d622')\"\n",
              "                title=\"Suggest charts\"\n",
              "                style=\"display:none;\">\n",
              "\n",
              "<svg xmlns=\"http://www.w3.org/2000/svg\" height=\"24px\"viewBox=\"0 0 24 24\"\n",
              "     width=\"24px\">\n",
              "    <g>\n",
              "        <path d=\"M19 3H5c-1.1 0-2 .9-2 2v14c0 1.1.9 2 2 2h14c1.1 0 2-.9 2-2V5c0-1.1-.9-2-2-2zM9 17H7v-7h2v7zm4 0h-2V7h2v10zm4 0h-2v-4h2v4z\"/>\n",
              "    </g>\n",
              "</svg>\n",
              "      </button>\n",
              "\n",
              "<style>\n",
              "  .colab-df-quickchart {\n",
              "      --bg-color: #E8F0FE;\n",
              "      --fill-color: #1967D2;\n",
              "      --hover-bg-color: #E2EBFA;\n",
              "      --hover-fill-color: #174EA6;\n",
              "      --disabled-fill-color: #AAA;\n",
              "      --disabled-bg-color: #DDD;\n",
              "  }\n",
              "\n",
              "  [theme=dark] .colab-df-quickchart {\n",
              "      --bg-color: #3B4455;\n",
              "      --fill-color: #D2E3FC;\n",
              "      --hover-bg-color: #434B5C;\n",
              "      --hover-fill-color: #FFFFFF;\n",
              "      --disabled-bg-color: #3B4455;\n",
              "      --disabled-fill-color: #666;\n",
              "  }\n",
              "\n",
              "  .colab-df-quickchart {\n",
              "    background-color: var(--bg-color);\n",
              "    border: none;\n",
              "    border-radius: 50%;\n",
              "    cursor: pointer;\n",
              "    display: none;\n",
              "    fill: var(--fill-color);\n",
              "    height: 32px;\n",
              "    padding: 0;\n",
              "    width: 32px;\n",
              "  }\n",
              "\n",
              "  .colab-df-quickchart:hover {\n",
              "    background-color: var(--hover-bg-color);\n",
              "    box-shadow: 0 1px 2px rgba(60, 64, 67, 0.3), 0 1px 3px 1px rgba(60, 64, 67, 0.15);\n",
              "    fill: var(--button-hover-fill-color);\n",
              "  }\n",
              "\n",
              "  .colab-df-quickchart-complete:disabled,\n",
              "  .colab-df-quickchart-complete:disabled:hover {\n",
              "    background-color: var(--disabled-bg-color);\n",
              "    fill: var(--disabled-fill-color);\n",
              "    box-shadow: none;\n",
              "  }\n",
              "\n",
              "  .colab-df-spinner {\n",
              "    border: 2px solid var(--fill-color);\n",
              "    border-color: transparent;\n",
              "    border-bottom-color: var(--fill-color);\n",
              "    animation:\n",
              "      spin 1s steps(1) infinite;\n",
              "  }\n",
              "\n",
              "  @keyframes spin {\n",
              "    0% {\n",
              "      border-color: transparent;\n",
              "      border-bottom-color: var(--fill-color);\n",
              "      border-left-color: var(--fill-color);\n",
              "    }\n",
              "    20% {\n",
              "      border-color: transparent;\n",
              "      border-left-color: var(--fill-color);\n",
              "      border-top-color: var(--fill-color);\n",
              "    }\n",
              "    30% {\n",
              "      border-color: transparent;\n",
              "      border-left-color: var(--fill-color);\n",
              "      border-top-color: var(--fill-color);\n",
              "      border-right-color: var(--fill-color);\n",
              "    }\n",
              "    40% {\n",
              "      border-color: transparent;\n",
              "      border-right-color: var(--fill-color);\n",
              "      border-top-color: var(--fill-color);\n",
              "    }\n",
              "    60% {\n",
              "      border-color: transparent;\n",
              "      border-right-color: var(--fill-color);\n",
              "    }\n",
              "    80% {\n",
              "      border-color: transparent;\n",
              "      border-right-color: var(--fill-color);\n",
              "      border-bottom-color: var(--fill-color);\n",
              "    }\n",
              "    90% {\n",
              "      border-color: transparent;\n",
              "      border-bottom-color: var(--fill-color);\n",
              "    }\n",
              "  }\n",
              "</style>\n",
              "\n",
              "      <script>\n",
              "        async function quickchart(key) {\n",
              "          const quickchartButtonEl =\n",
              "            document.querySelector('#' + key + ' button');\n",
              "          quickchartButtonEl.disabled = true;  // To prevent multiple clicks.\n",
              "          quickchartButtonEl.classList.add('colab-df-spinner');\n",
              "          try {\n",
              "            const charts = await google.colab.kernel.invokeFunction(\n",
              "                'suggestCharts', [key], {});\n",
              "          } catch (error) {\n",
              "            console.error('Error during call to suggestCharts:', error);\n",
              "          }\n",
              "          quickchartButtonEl.classList.remove('colab-df-spinner');\n",
              "          quickchartButtonEl.classList.add('colab-df-quickchart-complete');\n",
              "        }\n",
              "        (() => {\n",
              "          let quickchartButtonEl =\n",
              "            document.querySelector('#df-2af394f8-1e7d-4f50-a57f-9a1487e2d622 button');\n",
              "          quickchartButtonEl.style.display =\n",
              "            google.colab.kernel.accessAllowed ? 'block' : 'none';\n",
              "        })();\n",
              "      </script>\n",
              "    </div>\n",
              "    </div>\n",
              "  </div>\n"
            ],
            "application/vnd.google.colaboratory.intrinsic+json": {
              "type": "dataframe",
              "variable_name": "data",
              "summary": "{\n  \"name\": \"data\",\n  \"rows\": 430,\n  \"fields\": [\n    {\n      \"column\": \"query_id\",\n      \"properties\": {\n        \"dtype\": \"number\",\n        \"std\": 428918,\n        \"min\": 19335,\n        \"max\": 1133167,\n        \"num_unique_values\": 43,\n        \"samples\": [\n          1117099,\n          855410,\n          915593\n        ],\n        \"semantic_type\": \"\",\n        \"description\": \"\"\n      }\n    },\n    {\n      \"column\": \"corpus_id\",\n      \"properties\": {\n        \"dtype\": \"number\",\n        \"std\": 2625625,\n        \"min\": 350,\n        \"max\": 8832484,\n        \"num_unique_values\": 428,\n        \"samples\": [\n          190809,\n          6748421,\n          3440849\n        ],\n        \"semantic_type\": \"\",\n        \"description\": \"\"\n      }\n    },\n    {\n      \"column\": \"label\",\n      \"properties\": {\n        \"dtype\": \"number\",\n        \"std\": 0,\n        \"min\": 0,\n        \"max\": 1,\n        \"num_unique_values\": 2,\n        \"samples\": [\n          0,\n          1\n        ],\n        \"semantic_type\": \"\",\n        \"description\": \"\"\n      }\n    },\n    {\n      \"column\": \"corpus_text\",\n      \"properties\": {\n        \"dtype\": \"string\",\n        \"num_unique_values\": 428,\n        \"samples\": [\n          \"Here's a month-by-month idea of weather in Jamaica. The weather is perfect most of the year. This month-by-month Jamaica weather forecast will help you in deciding when is the best time to visit Jamaica. December Weather in Jamaica: It's high season, and a cool time of year.\",\n          \"Six ounces of milk make one ounce of cheese. If one slice is equal to one ounce, then it takes 12 ounces to make 2 slices of cheese.   Check the label to see how many ounce \\u00e2\\u0080\\u00a6 s are in a slice of cheese. 3 people found this useful.\"\n        ],\n        \"semantic_type\": \"\",\n        \"description\": \"\"\n      }\n    },\n    {\n      \"column\": \"query_text\",\n      \"properties\": {\n        \"dtype\": \"category\",\n        \"num_unique_values\": 43,\n        \"samples\": [\n          \"what is a active margin\",\n          \"what is theraderm used for\"\n        ],\n        \"semantic_type\": \"\",\n        \"description\": \"\"\n      }\n    }\n  ]\n}"
            }
          },
          "metadata": {},
          "execution_count": 9
        }
      ]
    },
    {
      "cell_type": "code",
      "source": [
        "corpus_mapping = json.load(open(corpus_mapping_path))"
      ],
      "metadata": {
        "id": "tMgkakhRGRr3"
      },
      "execution_count": null,
      "outputs": []
    },
    {
      "cell_type": "code",
      "source": [
        "corpus_vectors = np.load(corpus_vector_path, allow_pickle=True)['data']\n",
        "corpus_vectors.shape"
      ],
      "metadata": {
        "colab": {
          "base_uri": "https://localhost:8080/"
        },
        "id": "rYYE41F_E6jR",
        "outputId": "fb966dda-5c77-4c9d-d8b1-0fdf683eab2c"
      },
      "execution_count": null,
      "outputs": [
        {
          "output_type": "execute_result",
          "data": {
            "text/plain": [
              "(428,)"
            ]
          },
          "metadata": {},
          "execution_count": 10
        }
      ]
    },
    {
      "cell_type": "code",
      "source": [
        "queries_mapping = json.load(open(queries_mapping_path))"
      ],
      "metadata": {
        "id": "_LGLQInHGPQJ"
      },
      "execution_count": null,
      "outputs": []
    },
    {
      "cell_type": "code",
      "source": [
        "queries_vectors = np.load(queries_vector_path, allow_pickle=True)['data']\n",
        "queries_vectors.shape"
      ],
      "metadata": {
        "colab": {
          "base_uri": "https://localhost:8080/"
        },
        "id": "6c96Ch32FSWL",
        "outputId": "f527aae2-4a47-440d-b75c-18f86fce3874"
      },
      "execution_count": null,
      "outputs": [
        {
          "output_type": "execute_result",
          "data": {
            "text/plain": [
              "(43,)"
            ]
          },
          "metadata": {},
          "execution_count": 11
        }
      ]
    },
    {
      "cell_type": "code",
      "source": [
        "def late_score(query_emb, doc_emb):\n",
        "    score_matrix = np.matmul(query_emb, doc_emb.T)\n",
        "    max_per_query_token = np.max(score_matrix, axis=1)\n",
        "    return max_per_query_token.sum().item()"
      ],
      "metadata": {
        "id": "e70ChVCQGKRW"
      },
      "execution_count": null,
      "outputs": []
    },
    {
      "cell_type": "code",
      "source": [
        "red_dims = [512, 256, 128, 64]"
      ],
      "metadata": {
        "id": "AkCkZkOsHEwV"
      },
      "execution_count": null,
      "outputs": []
    },
    {
      "cell_type": "code",
      "source": [
        "def score_ndcg(data, query_embeds, queries_mapping, corpus_embeds, corpus_mapping):\n",
        "  ndcgs = []\n",
        "\n",
        "  for q, g in tqdm(data.groupby('query_id')):\n",
        "    q_text = g['query_text'].values[0]\n",
        "    q_i = queries_mapping['text2i'][q_text]\n",
        "    q_vec = query_embeds[q_i]\n",
        "\n",
        "    c_texts = g['corpus_text'].values.tolist()\n",
        "    c_vecs = []\n",
        "    for i, c_text in enumerate(c_texts):\n",
        "      c_i = corpus_mapping['text2i'][c_text]\n",
        "      c_vec = corpus_embeds[c_i]\n",
        "      c_vecs.append(c_vec)\n",
        "\n",
        "\n",
        "\n",
        "    scores = [late_score(np.array(q_vec), np.array(c_vec)) for c_vec in c_vecs]\n",
        "\n",
        "    labels = g['label'].values\n",
        "    ndcg = ndcg_score([labels], [scores], k=10)\n",
        "    ndcgs.append(ndcg)\n",
        "\n",
        "  mean_ndcg = np.mean(ndcgs)\n",
        "  print(f\"Mean nDCG: {mean_ndcg:.4f}\")"
      ],
      "metadata": {
        "id": "_ydDI91H_VRa"
      },
      "execution_count": null,
      "outputs": []
    },
    {
      "cell_type": "code",
      "source": [
        "score_ndcg(data, queries_vectors, queries_mapping, corpus_vectors, corpus_mapping)"
      ],
      "metadata": {
        "id": "Yd4poQX3p1Ep",
        "colab": {
          "base_uri": "https://localhost:8080/"
        },
        "outputId": "a42ae097-c1c8-447f-f7a4-ccd26fe09f46"
      },
      "execution_count": null,
      "outputs": [
        {
          "output_type": "stream",
          "name": "stderr",
          "text": [
            "100%|██████████| 43/43 [00:00<00:00, 204.13it/s]"
          ]
        },
        {
          "output_type": "stream",
          "name": "stdout",
          "text": [
            "Mean nDCG: 0.8846\n"
          ]
        },
        {
          "output_type": "stream",
          "name": "stderr",
          "text": [
            "\n"
          ]
        }
      ]
    },
    {
      "cell_type": "code",
      "source": [
        "def reduct_sk(query_embeds, corpus_embeds, model_name, red_dim):\n",
        "  model_path = sk_model_path_template.format(corpus_prefix, method_prefix, model_name, red_dim)\n",
        "  red_model = joblib.load(model_path)\n",
        "  # TODO: по-умному, с длинами предложений, см раньше делала:\n",
        "    # lens = [vec.shape[0] for vec in c_vecs]\n",
        "    # c_vecs = np.vstack(c_vecs)\n",
        "    # понижение размерности\n",
        "    # c_vecs = np.split(c_vecs, np.cumsum(lens[:-1]))\n",
        "  red_queries_vectors = [red_model.transform(q_vec) for q_vec in query_embeds]\n",
        "  red_corpus_vectors = [red_model.transform(c_vec) for c_vec in corpus_embeds]\n",
        "  return red_queries_vectors, red_corpus_vectors"
      ],
      "metadata": {
        "id": "-Yo4Y4kXHmZA"
      },
      "execution_count": null,
      "outputs": []
    },
    {
      "cell_type": "code",
      "source": [
        "def score_dims(red_fn, red_dims, method):\n",
        "  for red_dim in red_dims:\n",
        "    red_query_embeds, red_corpus_embeds = red_fn(queries_vectors, corpus_vectors, method, red_dim)\n",
        "    embed_dim = red_dim\n",
        "    score_ndcg(data, red_query_embeds, queries_mapping, red_corpus_embeds, corpus_mapping)"
      ],
      "metadata": {
        "id": "7ZEJVg3CHbAB"
      },
      "execution_count": null,
      "outputs": []
    },
    {
      "cell_type": "code",
      "source": [
        "score_dims(reduct_sk, red_dims, \"PCA\")"
      ],
      "metadata": {
        "colab": {
          "base_uri": "https://localhost:8080/"
        },
        "id": "xN8hF7oGHfSG",
        "outputId": "fefff19d-1e28-4257-bdee-cd14216b0a2c"
      },
      "execution_count": null,
      "outputs": [
        {
          "output_type": "stream",
          "name": "stderr",
          "text": [
            "100%|██████████| 43/43 [00:00<00:00, 233.08it/s]\n"
          ]
        },
        {
          "output_type": "stream",
          "name": "stdout",
          "text": [
            "Mean nDCG: 0.8802\n"
          ]
        },
        {
          "output_type": "stream",
          "name": "stderr",
          "text": [
            "100%|██████████| 43/43 [00:00<00:00, 453.25it/s]\n"
          ]
        },
        {
          "output_type": "stream",
          "name": "stdout",
          "text": [
            "Mean nDCG: 0.8851\n"
          ]
        },
        {
          "output_type": "stream",
          "name": "stderr",
          "text": [
            "100%|██████████| 43/43 [00:00<00:00, 553.49it/s]\n"
          ]
        },
        {
          "output_type": "stream",
          "name": "stdout",
          "text": [
            "Mean nDCG: 0.8867\n"
          ]
        },
        {
          "output_type": "stream",
          "name": "stderr",
          "text": [
            "100%|██████████| 43/43 [00:00<00:00, 464.73it/s]"
          ]
        },
        {
          "output_type": "stream",
          "name": "stdout",
          "text": [
            "Mean nDCG: 0.8745\n"
          ]
        },
        {
          "output_type": "stream",
          "name": "stderr",
          "text": [
            "\n"
          ]
        }
      ]
    }
  ]
}