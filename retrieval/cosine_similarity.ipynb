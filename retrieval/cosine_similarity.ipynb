{
 "cells": [
  {
   "cell_type": "code",
   "execution_count": 2,
   "metadata": {
    "execution": {
     "iopub.execute_input": "2025-05-14T16:56:59.054898Z",
     "iopub.status.busy": "2025-05-14T16:56:59.052970Z",
     "iopub.status.idle": "2025-05-14T16:56:59.084285Z",
     "shell.execute_reply": "2025-05-14T16:56:59.083176Z",
     "shell.execute_reply.started": "2025-05-14T16:56:59.054840Z"
    },
    "id": "yoOHH9bKKgp5",
    "tags": []
   },
   "outputs": [],
   "source": [
    "import pandas as pd\n",
    "from transformers import AutoTokenizer, AutoModel\n",
    "import torch\n",
    "from tqdm import tqdm\n",
    "import numpy as np\n",
    "import os\n",
    "import sys\n",
    "import json\n",
    "import joblib\n",
    "\n",
    "import sys\n",
    "sys.path.append(\"/home/jupyter/work/resources/DiplomDimReduction/\")\n",
    "import importlib\n",
    "\n",
    "import config\n",
    "importlib.reload(config)\n",
    "from config import config_dict\n",
    "\n",
    "import utils\n",
    "importlib.reload(utils)\n",
    "from utils import create_path, cosine_similarity\n",
    "\n",
    "from sklearn.metrics import ndcg_score\n",
    "\n",
    "import torch\n",
    "import torch.nn as nn"
   ]
  },
  {
   "cell_type": "code",
   "execution_count": 3,
   "metadata": {
    "execution": {
     "iopub.execute_input": "2025-05-14T16:57:00.163096Z",
     "iopub.status.busy": "2025-05-14T16:57:00.161481Z",
     "iopub.status.idle": "2025-05-14T16:57:00.201680Z",
     "shell.execute_reply": "2025-05-14T16:57:00.200379Z",
     "shell.execute_reply.started": "2025-05-14T16:57:00.163038Z"
    },
    "id": "M6SMNybfKsDR",
    "tags": []
   },
   "outputs": [],
   "source": [
    "model_name = config_dict['dpr_model']\n",
    "method_prefix = config_dict['dpr_prefix']\n",
    "\n",
    "# model_name = config_dict['ance_model']\n",
    "# method_prefix = config_dict['ance_prefix']\n",
    "\n",
    "# model_name = config_dict['tas-b_model']\n",
    "# method_prefix = config_dict['tas-b_prefix']\n",
    "\n",
    "corpus_prefix = config_dict['marco_prefix']\n",
    "split_suffix = config_dict['test_suffix']\n",
    "\n",
    "data_path = config_dict['data_template'].format(corpus_prefix, split_suffix)\n",
    "\n",
    "corpus_vector_path = config_dict['corpus_vector_template'].format(corpus_prefix, method_prefix, split_suffix)\n",
    "corpus_mapping_path = config_dict['corpus_mapping_template'].format(corpus_prefix, method_prefix, split_suffix)\n",
    "\n",
    "queries_vector_path = config_dict['queries_vector_template'].format(corpus_prefix, method_prefix, split_suffix)\n",
    "queries_mapping_path = config_dict['queries_mapping_template'].format(corpus_prefix, method_prefix, split_suffix)\n",
    "\n",
    "sk_model_path_template = config_dict['reduction_sk_model_template']\n",
    "ae_model_path_template = config_dict['reduction_ae_model_template']"
   ]
  },
  {
   "cell_type": "code",
   "execution_count": 4,
   "metadata": {
    "colab": {
     "base_uri": "https://localhost:8080/",
     "height": 423
    },
    "execution": {
     "iopub.execute_input": "2025-05-14T16:57:00.774172Z",
     "iopub.status.busy": "2025-05-14T16:57:00.772814Z",
     "iopub.status.idle": "2025-05-14T16:57:01.104924Z",
     "shell.execute_reply": "2025-05-14T16:57:01.103592Z",
     "shell.execute_reply.started": "2025-05-14T16:57:00.774098Z"
    },
    "id": "ye27U0NceL-1",
    "outputId": "7cb0efe1-e678-4334-9057-c5397236a3fb",
    "tags": []
   },
   "outputs": [
    {
     "data": {
      "text/html": [
       "<div>\n",
       "<style scoped>\n",
       "    .dataframe tbody tr th:only-of-type {\n",
       "        vertical-align: middle;\n",
       "    }\n",
       "\n",
       "    .dataframe tbody tr th {\n",
       "        vertical-align: top;\n",
       "    }\n",
       "\n",
       "    .dataframe thead th {\n",
       "        text-align: right;\n",
       "    }\n",
       "</style>\n",
       "<table border=\"1\" class=\"dataframe\">\n",
       "  <thead>\n",
       "    <tr style=\"text-align: right;\">\n",
       "      <th></th>\n",
       "      <th>query_id</th>\n",
       "      <th>corpus_id</th>\n",
       "      <th>label</th>\n",
       "      <th>corpus_text</th>\n",
       "      <th>query_text</th>\n",
       "    </tr>\n",
       "  </thead>\n",
       "  <tbody>\n",
       "    <tr>\n",
       "      <th>0</th>\n",
       "      <td>19335</td>\n",
       "      <td>8412683</td>\n",
       "      <td>1</td>\n",
       "      <td>Ecological anthropology is defined as the stud...</td>\n",
       "      <td>anthropological definition of environment</td>\n",
       "    </tr>\n",
       "    <tr>\n",
       "      <th>1</th>\n",
       "      <td>19335</td>\n",
       "      <td>1729</td>\n",
       "      <td>1</td>\n",
       "      <td>Graduate Study in Anthropology. The graduate p...</td>\n",
       "      <td>anthropological definition of environment</td>\n",
       "    </tr>\n",
       "    <tr>\n",
       "      <th>2</th>\n",
       "      <td>19335</td>\n",
       "      <td>8412684</td>\n",
       "      <td>1</td>\n",
       "      <td>Ecological Anthropology. Ecological anthropolo...</td>\n",
       "      <td>anthropological definition of environment</td>\n",
       "    </tr>\n",
       "    <tr>\n",
       "      <th>3</th>\n",
       "      <td>19335</td>\n",
       "      <td>3683653</td>\n",
       "      <td>0</td>\n",
       "      <td>The branches of Earth Science are: 1  Geology ...</td>\n",
       "      <td>anthropological definition of environment</td>\n",
       "    </tr>\n",
       "    <tr>\n",
       "      <th>4</th>\n",
       "      <td>19335</td>\n",
       "      <td>342432</td>\n",
       "      <td>0</td>\n",
       "      <td>Five Disciplines of Anthropology. 1  Applied A...</td>\n",
       "      <td>anthropological definition of environment</td>\n",
       "    </tr>\n",
       "    <tr>\n",
       "      <th>...</th>\n",
       "      <td>...</td>\n",
       "      <td>...</td>\n",
       "      <td>...</td>\n",
       "      <td>...</td>\n",
       "      <td>...</td>\n",
       "    </tr>\n",
       "    <tr>\n",
       "      <th>425</th>\n",
       "      <td>1133167</td>\n",
       "      <td>6467520</td>\n",
       "      <td>0</td>\n",
       "      <td>Climate data for ball mtn lake, Longitude: -72...</td>\n",
       "      <td>how is the weather in jamaica</td>\n",
       "    </tr>\n",
       "    <tr>\n",
       "      <th>426</th>\n",
       "      <td>1133167</td>\n",
       "      <td>4712274</td>\n",
       "      <td>0</td>\n",
       "      <td>Re: Best Time of Year to Visit Jamaica Mar 17,...</td>\n",
       "      <td>how is the weather in jamaica</td>\n",
       "    </tr>\n",
       "    <tr>\n",
       "      <th>427</th>\n",
       "      <td>1133167</td>\n",
       "      <td>7115353</td>\n",
       "      <td>0</td>\n",
       "      <td>Hurricane season has ended over a month ago an...</td>\n",
       "      <td>how is the weather in jamaica</td>\n",
       "    </tr>\n",
       "    <tr>\n",
       "      <th>428</th>\n",
       "      <td>1133167</td>\n",
       "      <td>8415745</td>\n",
       "      <td>0</td>\n",
       "      <td>The weather stations sit near sea level, with ...</td>\n",
       "      <td>how is the weather in jamaica</td>\n",
       "    </tr>\n",
       "    <tr>\n",
       "      <th>429</th>\n",
       "      <td>1133167</td>\n",
       "      <td>2365200</td>\n",
       "      <td>0</td>\n",
       "      <td>Jamaica Airport Transfers [3] Jamaica Airport ...</td>\n",
       "      <td>how is the weather in jamaica</td>\n",
       "    </tr>\n",
       "  </tbody>\n",
       "</table>\n",
       "<p>430 rows × 5 columns</p>\n",
       "</div>"
      ],
      "text/plain": [
       "     query_id  ...                                 query_text\n",
       "0       19335  ...  anthropological definition of environment\n",
       "1       19335  ...  anthropological definition of environment\n",
       "2       19335  ...  anthropological definition of environment\n",
       "3       19335  ...  anthropological definition of environment\n",
       "4       19335  ...  anthropological definition of environment\n",
       "..        ...  ...                                        ...\n",
       "425   1133167  ...              how is the weather in jamaica\n",
       "426   1133167  ...              how is the weather in jamaica\n",
       "427   1133167  ...              how is the weather in jamaica\n",
       "428   1133167  ...              how is the weather in jamaica\n",
       "429   1133167  ...              how is the weather in jamaica\n",
       "\n",
       "[430 rows x 5 columns]"
      ]
     },
     "execution_count": 4,
     "metadata": {},
     "output_type": "execute_result"
    }
   ],
   "source": [
    "data = pd.read_parquet(data_path)\n",
    "data"
   ]
  },
  {
   "cell_type": "code",
   "execution_count": 5,
   "metadata": {
    "execution": {
     "iopub.execute_input": "2025-05-14T16:57:01.193927Z",
     "iopub.status.busy": "2025-05-14T16:57:01.192301Z",
     "iopub.status.idle": "2025-05-14T16:57:01.215139Z",
     "shell.execute_reply": "2025-05-14T16:57:01.213911Z",
     "shell.execute_reply.started": "2025-05-14T16:57:01.193877Z"
    },
    "id": "4h_FBR59TBsG",
    "tags": []
   },
   "outputs": [],
   "source": [
    "def reduct_sk(query_embeds, corpus_embeds, model_name, red_dim):\n",
    "  model_path = sk_model_path_template.format(corpus_prefix, method_prefix, model_name, red_dim)\n",
    "  red_model = joblib.load(model_path)\n",
    "  red_embeddings = red_model.transform(np.vstack([query_embeds, corpus_embeds]))\n",
    "  return np.split(red_embeddings, [len(query_embeds)])"
   ]
  },
  {
   "cell_type": "code",
   "execution_count": 6,
   "metadata": {
    "execution": {
     "iopub.execute_input": "2025-05-14T16:57:01.686988Z",
     "iopub.status.busy": "2025-05-14T16:57:01.685689Z",
     "iopub.status.idle": "2025-05-14T16:57:01.740675Z",
     "shell.execute_reply": "2025-05-14T16:57:01.739511Z",
     "shell.execute_reply.started": "2025-05-14T16:57:01.686942Z"
    },
    "id": "NcExku3CkcUM",
    "tags": []
   },
   "outputs": [],
   "source": [
    "query_embeds = np.load(queries_vector_path)['data']\n",
    "queries_mapping = json.load(open(queries_mapping_path))"
   ]
  },
  {
   "cell_type": "code",
   "execution_count": 7,
   "metadata": {
    "execution": {
     "iopub.execute_input": "2025-05-14T16:57:02.598111Z",
     "iopub.status.busy": "2025-05-14T16:57:02.596583Z",
     "iopub.status.idle": "2025-05-14T16:57:02.683044Z",
     "shell.execute_reply": "2025-05-14T16:57:02.681909Z",
     "shell.execute_reply.started": "2025-05-14T16:57:02.598039Z"
    },
    "id": "a3r7b8u6lPpA",
    "tags": []
   },
   "outputs": [],
   "source": [
    "corpus_embeds = np.load(corpus_vector_path)['data']\n",
    "corpus_mapping = json.load(open(corpus_mapping_path))"
   ]
  },
  {
   "cell_type": "code",
   "execution_count": 8,
   "metadata": {
    "execution": {
     "iopub.execute_input": "2025-05-14T16:57:03.676687Z",
     "iopub.status.busy": "2025-05-14T16:57:03.675251Z",
     "iopub.status.idle": "2025-05-14T16:57:03.731823Z",
     "shell.execute_reply": "2025-05-14T16:57:03.730477Z",
     "shell.execute_reply.started": "2025-05-14T16:57:03.676635Z"
    },
    "id": "gNcAKeFv99Se",
    "tags": []
   },
   "outputs": [],
   "source": [
    "red_dims = [512, 256, 128, 64]"
   ]
  },
  {
   "cell_type": "code",
   "execution_count": 9,
   "metadata": {
    "execution": {
     "iopub.execute_input": "2025-05-14T16:57:04.444870Z",
     "iopub.status.busy": "2025-05-14T16:57:04.443363Z",
     "iopub.status.idle": "2025-05-14T16:57:04.474520Z",
     "shell.execute_reply": "2025-05-14T16:57:04.473456Z",
     "shell.execute_reply.started": "2025-05-14T16:57:04.444813Z"
    },
    "id": "xmtSXFed-fEy",
    "tags": []
   },
   "outputs": [],
   "source": [
    "def score_ndcg(data, query_embeds, queries_mapping, corpus_embeds, corpus_mapping):\n",
    "  ndcgs = []\n",
    "\n",
    "  for q, g in tqdm(data.groupby('query_id')):\n",
    "\n",
    "    q_text = g['query_text'].values[0]\n",
    "    q_i = queries_mapping['text2i'][q_text]\n",
    "    q_vec = query_embeds[q_i]\n",
    "\n",
    "    c_texts = g['corpus_text'].values.tolist()\n",
    "    c_vecs = np.empty((len(c_texts), corpus_embeds.shape[1]), dtype=np.float32)\n",
    "    for i, c_text in enumerate(c_texts):\n",
    "      c_i = corpus_mapping['text2i'][c_text]\n",
    "      c_vec = corpus_embeds[c_i]\n",
    "      c_vecs[i] = c_vec\n",
    "\n",
    "    scores = cosine_similarity(q_vec, c_vecs)\n",
    "    indices = np.argsort(-scores)\n",
    "\n",
    "    labels = g['label'].values\n",
    "    ndcg = ndcg_score([labels], [scores], k=10)\n",
    "    ndcgs.append(ndcg)\n",
    "\n",
    "  mean_ndcg = np.mean(ndcgs)\n",
    "  print(f\"Mean nDCG: {mean_ndcg:.4f}\")"
   ]
  },
  {
   "cell_type": "code",
   "execution_count": 10,
   "metadata": {
    "colab": {
     "base_uri": "https://localhost:8080/"
    },
    "execution": {
     "iopub.execute_input": "2025-05-14T16:57:05.391161Z",
     "iopub.status.busy": "2025-05-14T16:57:05.389873Z",
     "iopub.status.idle": "2025-05-14T16:57:05.537377Z",
     "shell.execute_reply": "2025-05-14T16:57:05.536229Z",
     "shell.execute_reply.started": "2025-05-14T16:57:05.391107Z"
    },
    "id": "XiTnQHmi-s7G",
    "outputId": "d7cf5b4e-27f8-4754-bdd6-0133bbca20d0",
    "tags": []
   },
   "outputs": [
    {
     "name": "stderr",
     "output_type": "stream",
     "text": [
      "100%|██████████| 43/43 [00:00<00:00, 1119.36it/s]"
     ]
    },
    {
     "name": "stdout",
     "output_type": "stream",
     "text": [
      "Mean nDCG: 0.8650\n"
     ]
    },
    {
     "name": "stderr",
     "output_type": "stream",
     "text": [
      "\n"
     ]
    }
   ],
   "source": [
    "score_ndcg(data, query_embeds, queries_mapping, corpus_embeds, corpus_mapping)"
   ]
  },
  {
   "cell_type": "code",
   "execution_count": 11,
   "metadata": {
    "execution": {
     "iopub.execute_input": "2025-05-14T16:57:06.714605Z",
     "iopub.status.busy": "2025-05-14T16:57:06.713499Z",
     "iopub.status.idle": "2025-05-14T16:57:06.727937Z",
     "shell.execute_reply": "2025-05-14T16:57:06.726945Z",
     "shell.execute_reply.started": "2025-05-14T16:57:06.714552Z"
    },
    "id": "08MX-FBs9_aO",
    "tags": []
   },
   "outputs": [],
   "source": [
    "def score_dims(red_fn, red_dims, method):\n",
    "  for red_dim in red_dims:\n",
    "    red_query_embeds, red_corpus_embeds = red_fn(query_embeds, corpus_embeds, method, red_dim)\n",
    "    embed_dim = red_dim\n",
    "    score_ndcg(data, red_query_embeds, queries_mapping, red_corpus_embeds, corpus_mapping)"
   ]
  },
  {
   "cell_type": "code",
   "execution_count": 12,
   "metadata": {
    "colab": {
     "base_uri": "https://localhost:8080/"
    },
    "execution": {
     "iopub.execute_input": "2025-05-14T16:57:07.763646Z",
     "iopub.status.busy": "2025-05-14T16:57:07.762198Z",
     "iopub.status.idle": "2025-05-14T16:57:09.566261Z",
     "shell.execute_reply": "2025-05-14T16:57:09.564906Z",
     "shell.execute_reply.started": "2025-05-14T16:57:07.763590Z"
    },
    "id": "Bj_6nKMb_1iz",
    "outputId": "d3a0ffd9-a4a9-428d-9b14-aa09d8db7b6f",
    "tags": []
   },
   "outputs": [
    {
     "name": "stderr",
     "output_type": "stream",
     "text": [
      "100%|██████████| 43/43 [00:00<00:00, 641.79it/s]\n"
     ]
    },
    {
     "name": "stdout",
     "output_type": "stream",
     "text": [
      "Mean nDCG: 0.8503\n"
     ]
    },
    {
     "name": "stderr",
     "output_type": "stream",
     "text": [
      "100%|██████████| 43/43 [00:00<00:00, 755.75it/s]\n"
     ]
    },
    {
     "name": "stdout",
     "output_type": "stream",
     "text": [
      "Mean nDCG: 0.8496\n"
     ]
    },
    {
     "name": "stderr",
     "output_type": "stream",
     "text": [
      "100%|██████████| 43/43 [00:00<00:00, 514.17it/s]\n"
     ]
    },
    {
     "name": "stdout",
     "output_type": "stream",
     "text": [
      "Mean nDCG: 0.8503\n"
     ]
    },
    {
     "name": "stderr",
     "output_type": "stream",
     "text": [
      "100%|██████████| 43/43 [00:00<00:00, 726.06it/s]"
     ]
    },
    {
     "name": "stdout",
     "output_type": "stream",
     "text": [
      "Mean nDCG: 0.8377\n"
     ]
    },
    {
     "name": "stderr",
     "output_type": "stream",
     "text": [
      "\n"
     ]
    }
   ],
   "source": [
    "score_dims(reduct_sk, red_dims, \"PCA\")"
   ]
  },
  {
   "cell_type": "code",
   "execution_count": 14,
   "metadata": {
    "colab": {
     "base_uri": "https://localhost:8080/"
    },
    "execution": {
     "iopub.execute_input": "2025-05-14T16:57:25.757988Z",
     "iopub.status.busy": "2025-05-14T16:57:25.756788Z",
     "iopub.status.idle": "2025-05-14T16:57:25.825354Z",
     "shell.execute_reply": "2025-05-14T16:57:25.823381Z",
     "shell.execute_reply.started": "2025-05-14T16:57:25.757935Z"
    },
    "id": "zU3ZN8_D51Ev",
    "outputId": "70856487-0347-4b5f-ffef-c0bafb88eabd"
   },
   "outputs": [
    {
     "ename": "FileNotFoundError",
     "evalue": "[Errno 2] No such file or directory: '/home/jupyter/work/resources/DiplomDimReduction//data/models/marco/dpr/KernelPCA_512.joblib'",
     "output_type": "error",
     "traceback": [
      "\u001b[0;31m---------------------------------------------------------------------------\u001b[0m",
      "\u001b[0;31mFileNotFoundError\u001b[0m                         Traceback (most recent call last)",
      "\u001b[0;32m/tmp/ipykernel_4389/207857793.py\u001b[0m in \u001b[0;36m<cell line: 1>\u001b[0;34m()\u001b[0m\n\u001b[0;32m----> 1\u001b[0;31m \u001b[0mscore_dims\u001b[0m\u001b[0;34m(\u001b[0m\u001b[0mreduct_sk\u001b[0m\u001b[0;34m,\u001b[0m \u001b[0mred_dims\u001b[0m\u001b[0;34m,\u001b[0m \u001b[0;34m\"KernelPCA\"\u001b[0m\u001b[0;34m)\u001b[0m\u001b[0;34m\u001b[0m\u001b[0;34m\u001b[0m\u001b[0m\n\u001b[0m",
      "\u001b[0;32m/tmp/ipykernel_4389/1466949353.py\u001b[0m in \u001b[0;36mscore_dims\u001b[0;34m(red_fn, red_dims, method)\u001b[0m\n\u001b[1;32m      1\u001b[0m \u001b[0;32mdef\u001b[0m \u001b[0mscore_dims\u001b[0m\u001b[0;34m(\u001b[0m\u001b[0mred_fn\u001b[0m\u001b[0;34m,\u001b[0m \u001b[0mred_dims\u001b[0m\u001b[0;34m,\u001b[0m \u001b[0mmethod\u001b[0m\u001b[0;34m)\u001b[0m\u001b[0;34m:\u001b[0m\u001b[0;34m\u001b[0m\u001b[0;34m\u001b[0m\u001b[0m\n\u001b[1;32m      2\u001b[0m   \u001b[0;32mfor\u001b[0m \u001b[0mred_dim\u001b[0m \u001b[0;32min\u001b[0m \u001b[0mred_dims\u001b[0m\u001b[0;34m:\u001b[0m\u001b[0;34m\u001b[0m\u001b[0;34m\u001b[0m\u001b[0m\n\u001b[0;32m----> 3\u001b[0;31m     \u001b[0mred_query_embeds\u001b[0m\u001b[0;34m,\u001b[0m \u001b[0mred_corpus_embeds\u001b[0m \u001b[0;34m=\u001b[0m \u001b[0mred_fn\u001b[0m\u001b[0;34m(\u001b[0m\u001b[0mquery_embeds\u001b[0m\u001b[0;34m,\u001b[0m \u001b[0mcorpus_embeds\u001b[0m\u001b[0;34m,\u001b[0m \u001b[0mmethod\u001b[0m\u001b[0;34m,\u001b[0m \u001b[0mred_dim\u001b[0m\u001b[0;34m)\u001b[0m\u001b[0;34m\u001b[0m\u001b[0;34m\u001b[0m\u001b[0m\n\u001b[0m\u001b[1;32m      4\u001b[0m     \u001b[0membed_dim\u001b[0m \u001b[0;34m=\u001b[0m \u001b[0mred_dim\u001b[0m\u001b[0;34m\u001b[0m\u001b[0;34m\u001b[0m\u001b[0m\n\u001b[1;32m      5\u001b[0m     \u001b[0mscore_ndcg\u001b[0m\u001b[0;34m(\u001b[0m\u001b[0mdata\u001b[0m\u001b[0;34m,\u001b[0m \u001b[0mred_query_embeds\u001b[0m\u001b[0;34m,\u001b[0m \u001b[0mqueries_mapping\u001b[0m\u001b[0;34m,\u001b[0m \u001b[0mred_corpus_embeds\u001b[0m\u001b[0;34m,\u001b[0m \u001b[0mcorpus_mapping\u001b[0m\u001b[0;34m)\u001b[0m\u001b[0;34m\u001b[0m\u001b[0;34m\u001b[0m\u001b[0m\n",
      "\u001b[0;32m/tmp/ipykernel_4389/2936162566.py\u001b[0m in \u001b[0;36mreduct_sk\u001b[0;34m(query_embeds, corpus_embeds, model_name, red_dim)\u001b[0m\n\u001b[1;32m      1\u001b[0m \u001b[0;32mdef\u001b[0m \u001b[0mreduct_sk\u001b[0m\u001b[0;34m(\u001b[0m\u001b[0mquery_embeds\u001b[0m\u001b[0;34m,\u001b[0m \u001b[0mcorpus_embeds\u001b[0m\u001b[0;34m,\u001b[0m \u001b[0mmodel_name\u001b[0m\u001b[0;34m,\u001b[0m \u001b[0mred_dim\u001b[0m\u001b[0;34m)\u001b[0m\u001b[0;34m:\u001b[0m\u001b[0;34m\u001b[0m\u001b[0;34m\u001b[0m\u001b[0m\n\u001b[1;32m      2\u001b[0m   \u001b[0mmodel_path\u001b[0m \u001b[0;34m=\u001b[0m \u001b[0msk_model_path_template\u001b[0m\u001b[0;34m.\u001b[0m\u001b[0mformat\u001b[0m\u001b[0;34m(\u001b[0m\u001b[0mcorpus_prefix\u001b[0m\u001b[0;34m,\u001b[0m \u001b[0mmethod_prefix\u001b[0m\u001b[0;34m,\u001b[0m \u001b[0mmodel_name\u001b[0m\u001b[0;34m,\u001b[0m \u001b[0mred_dim\u001b[0m\u001b[0;34m)\u001b[0m\u001b[0;34m\u001b[0m\u001b[0;34m\u001b[0m\u001b[0m\n\u001b[0;32m----> 3\u001b[0;31m   \u001b[0mred_model\u001b[0m \u001b[0;34m=\u001b[0m \u001b[0mjoblib\u001b[0m\u001b[0;34m.\u001b[0m\u001b[0mload\u001b[0m\u001b[0;34m(\u001b[0m\u001b[0mmodel_path\u001b[0m\u001b[0;34m)\u001b[0m\u001b[0;34m\u001b[0m\u001b[0;34m\u001b[0m\u001b[0m\n\u001b[0m\u001b[1;32m      4\u001b[0m   \u001b[0mred_embeddings\u001b[0m \u001b[0;34m=\u001b[0m \u001b[0mred_model\u001b[0m\u001b[0;34m.\u001b[0m\u001b[0mtransform\u001b[0m\u001b[0;34m(\u001b[0m\u001b[0mnp\u001b[0m\u001b[0;34m.\u001b[0m\u001b[0mvstack\u001b[0m\u001b[0;34m(\u001b[0m\u001b[0;34m[\u001b[0m\u001b[0mquery_embeds\u001b[0m\u001b[0;34m,\u001b[0m \u001b[0mcorpus_embeds\u001b[0m\u001b[0;34m]\u001b[0m\u001b[0;34m)\u001b[0m\u001b[0;34m)\u001b[0m\u001b[0;34m\u001b[0m\u001b[0;34m\u001b[0m\u001b[0m\n\u001b[1;32m      5\u001b[0m   \u001b[0;32mreturn\u001b[0m \u001b[0mnp\u001b[0m\u001b[0;34m.\u001b[0m\u001b[0msplit\u001b[0m\u001b[0;34m(\u001b[0m\u001b[0mred_embeddings\u001b[0m\u001b[0;34m,\u001b[0m \u001b[0;34m[\u001b[0m\u001b[0mlen\u001b[0m\u001b[0;34m(\u001b[0m\u001b[0mquery_embeds\u001b[0m\u001b[0;34m)\u001b[0m\u001b[0;34m]\u001b[0m\u001b[0;34m)\u001b[0m\u001b[0;34m\u001b[0m\u001b[0;34m\u001b[0m\u001b[0m\n",
      "\u001b[0;32m/usr/local/lib/python3.10/dist-packages/joblib/numpy_pickle.py\u001b[0m in \u001b[0;36mload\u001b[0;34m(filename, mmap_mode)\u001b[0m\n\u001b[1;32m    648\u001b[0m             \u001b[0mobj\u001b[0m \u001b[0;34m=\u001b[0m \u001b[0m_unpickle\u001b[0m\u001b[0;34m(\u001b[0m\u001b[0mfobj\u001b[0m\u001b[0;34m)\u001b[0m\u001b[0;34m\u001b[0m\u001b[0;34m\u001b[0m\u001b[0m\n\u001b[1;32m    649\u001b[0m     \u001b[0;32melse\u001b[0m\u001b[0;34m:\u001b[0m\u001b[0;34m\u001b[0m\u001b[0;34m\u001b[0m\u001b[0m\n\u001b[0;32m--> 650\u001b[0;31m         \u001b[0;32mwith\u001b[0m \u001b[0mopen\u001b[0m\u001b[0;34m(\u001b[0m\u001b[0mfilename\u001b[0m\u001b[0;34m,\u001b[0m \u001b[0;34m'rb'\u001b[0m\u001b[0;34m)\u001b[0m \u001b[0;32mas\u001b[0m \u001b[0mf\u001b[0m\u001b[0;34m:\u001b[0m\u001b[0;34m\u001b[0m\u001b[0;34m\u001b[0m\u001b[0m\n\u001b[0m\u001b[1;32m    651\u001b[0m             \u001b[0;32mwith\u001b[0m \u001b[0m_read_fileobject\u001b[0m\u001b[0;34m(\u001b[0m\u001b[0mf\u001b[0m\u001b[0;34m,\u001b[0m \u001b[0mfilename\u001b[0m\u001b[0;34m,\u001b[0m \u001b[0mmmap_mode\u001b[0m\u001b[0;34m)\u001b[0m \u001b[0;32mas\u001b[0m \u001b[0mfobj\u001b[0m\u001b[0;34m:\u001b[0m\u001b[0;34m\u001b[0m\u001b[0;34m\u001b[0m\u001b[0m\n\u001b[1;32m    652\u001b[0m                 \u001b[0;32mif\u001b[0m \u001b[0misinstance\u001b[0m\u001b[0;34m(\u001b[0m\u001b[0mfobj\u001b[0m\u001b[0;34m,\u001b[0m \u001b[0mstr\u001b[0m\u001b[0;34m)\u001b[0m\u001b[0;34m:\u001b[0m\u001b[0;34m\u001b[0m\u001b[0;34m\u001b[0m\u001b[0m\n",
      "\u001b[0;31mFileNotFoundError\u001b[0m: [Errno 2] No such file or directory: '/home/jupyter/work/resources/DiplomDimReduction//data/models/marco/dpr/KernelPCA_512.joblib'"
     ]
    }
   ],
   "source": [
    "score_dims(reduct_sk, red_dims, \"KernelPCA\")"
   ]
  },
  {
   "cell_type": "code",
   "execution_count": 13,
   "metadata": {
    "colab": {
     "base_uri": "https://localhost:8080/"
    },
    "execution": {
     "iopub.execute_input": "2025-05-14T16:57:23.096756Z",
     "iopub.status.busy": "2025-05-14T16:57:23.095276Z",
     "iopub.status.idle": "2025-05-14T16:57:23.901917Z",
     "shell.execute_reply": "2025-05-14T16:57:23.899991Z",
     "shell.execute_reply.started": "2025-05-14T16:57:23.096698Z"
    },
    "id": "3V8Ci9uX-5IN",
    "outputId": "e23e208e-e72d-428f-eb52-1ceb61827429"
   },
   "outputs": [
    {
     "name": "stderr",
     "output_type": "stream",
     "text": [
      "100%|██████████| 43/43 [00:00<00:00, 778.06it/s]\n"
     ]
    },
    {
     "name": "stdout",
     "output_type": "stream",
     "text": [
      "Mean nDCG: 0.8637\n"
     ]
    },
    {
     "name": "stderr",
     "output_type": "stream",
     "text": [
      "100%|██████████| 43/43 [00:00<00:00, 800.00it/s]\n"
     ]
    },
    {
     "name": "stdout",
     "output_type": "stream",
     "text": [
      "Mean nDCG: 0.8637\n"
     ]
    },
    {
     "name": "stderr",
     "output_type": "stream",
     "text": [
      "100%|██████████| 43/43 [00:00<00:00, 740.61it/s]"
     ]
    },
    {
     "name": "stdout",
     "output_type": "stream",
     "text": [
      "Mean nDCG: 0.8550\n"
     ]
    },
    {
     "name": "stderr",
     "output_type": "stream",
     "text": [
      "\n",
      "100%|██████████| 43/43 [00:00<00:00, 791.97it/s]"
     ]
    },
    {
     "name": "stdout",
     "output_type": "stream",
     "text": [
      "Mean nDCG: 0.8350\n"
     ]
    },
    {
     "name": "stderr",
     "output_type": "stream",
     "text": [
      "\n"
     ]
    }
   ],
   "source": [
    "score_dims(reduct_sk, red_dims, \"TruncatedSVD\")"
   ]
  },
  {
   "cell_type": "code",
   "execution_count": 15,
   "metadata": {
    "colab": {
     "base_uri": "https://localhost:8080/"
    },
    "execution": {
     "iopub.execute_input": "2025-05-14T16:57:32.226454Z",
     "iopub.status.busy": "2025-05-14T16:57:32.224997Z",
     "iopub.status.idle": "2025-05-14T16:57:32.728014Z",
     "shell.execute_reply": "2025-05-14T16:57:32.726377Z",
     "shell.execute_reply.started": "2025-05-14T16:57:32.226395Z"
    },
    "id": "IPS_KcPi_EUO",
    "outputId": "c1f83f8e-cbc4-454c-ef7d-eb8c7b72160e"
   },
   "outputs": [
    {
     "name": "stderr",
     "output_type": "stream",
     "text": [
      "100%|██████████| 43/43 [00:00<00:00, 792.10it/s]\n"
     ]
    },
    {
     "name": "stdout",
     "output_type": "stream",
     "text": [
      "Mean nDCG: 0.8401\n"
     ]
    },
    {
     "name": "stderr",
     "output_type": "stream",
     "text": [
      "100%|██████████| 43/43 [00:00<00:00, 718.01it/s]\n"
     ]
    },
    {
     "name": "stdout",
     "output_type": "stream",
     "text": [
      "Mean nDCG: 0.8538\n"
     ]
    },
    {
     "name": "stderr",
     "output_type": "stream",
     "text": [
      "100%|██████████| 43/43 [00:00<00:00, 642.12it/s]\n"
     ]
    },
    {
     "name": "stdout",
     "output_type": "stream",
     "text": [
      "Mean nDCG: 0.8465\n"
     ]
    },
    {
     "name": "stderr",
     "output_type": "stream",
     "text": [
      "100%|██████████| 43/43 [00:00<00:00, 776.95it/s]"
     ]
    },
    {
     "name": "stdout",
     "output_type": "stream",
     "text": [
      "Mean nDCG: 0.8326\n"
     ]
    },
    {
     "name": "stderr",
     "output_type": "stream",
     "text": [
      "\n"
     ]
    }
   ],
   "source": [
    "score_dims(reduct_sk, red_dims, \"FastICA\")"
   ]
  },
  {
   "cell_type": "code",
   "execution_count": 16,
   "metadata": {
    "colab": {
     "base_uri": "https://localhost:8080/"
    },
    "execution": {
     "iopub.execute_input": "2025-05-14T16:57:35.173197Z",
     "iopub.status.busy": "2025-05-14T16:57:35.171911Z",
     "iopub.status.idle": "2025-05-14T16:57:35.261717Z",
     "shell.execute_reply": "2025-05-14T16:57:35.259887Z",
     "shell.execute_reply.started": "2025-05-14T16:57:35.173143Z"
    },
    "id": "tD6u4hJt_Ojx",
    "outputId": "baeb6e54-7624-44cb-c77d-b13d7c3db8d3"
   },
   "outputs": [
    {
     "ename": "FileNotFoundError",
     "evalue": "[Errno 2] No such file or directory: '/home/jupyter/work/resources/DiplomDimReduction//data/models/marco/dpr/LocallyLinearEmbedding_512.joblib'",
     "output_type": "error",
     "traceback": [
      "\u001b[0;31m---------------------------------------------------------------------------\u001b[0m",
      "\u001b[0;31mFileNotFoundError\u001b[0m                         Traceback (most recent call last)",
      "\u001b[0;32m/tmp/ipykernel_4389/2234422792.py\u001b[0m in \u001b[0;36m<cell line: 1>\u001b[0;34m()\u001b[0m\n\u001b[0;32m----> 1\u001b[0;31m \u001b[0mscore_dims\u001b[0m\u001b[0;34m(\u001b[0m\u001b[0mreduct_sk\u001b[0m\u001b[0;34m,\u001b[0m \u001b[0mred_dims\u001b[0m\u001b[0;34m,\u001b[0m \u001b[0;34m\"LocallyLinearEmbedding\"\u001b[0m\u001b[0;34m)\u001b[0m\u001b[0;34m\u001b[0m\u001b[0;34m\u001b[0m\u001b[0m\n\u001b[0m",
      "\u001b[0;32m/tmp/ipykernel_4389/1466949353.py\u001b[0m in \u001b[0;36mscore_dims\u001b[0;34m(red_fn, red_dims, method)\u001b[0m\n\u001b[1;32m      1\u001b[0m \u001b[0;32mdef\u001b[0m \u001b[0mscore_dims\u001b[0m\u001b[0;34m(\u001b[0m\u001b[0mred_fn\u001b[0m\u001b[0;34m,\u001b[0m \u001b[0mred_dims\u001b[0m\u001b[0;34m,\u001b[0m \u001b[0mmethod\u001b[0m\u001b[0;34m)\u001b[0m\u001b[0;34m:\u001b[0m\u001b[0;34m\u001b[0m\u001b[0;34m\u001b[0m\u001b[0m\n\u001b[1;32m      2\u001b[0m   \u001b[0;32mfor\u001b[0m \u001b[0mred_dim\u001b[0m \u001b[0;32min\u001b[0m \u001b[0mred_dims\u001b[0m\u001b[0;34m:\u001b[0m\u001b[0;34m\u001b[0m\u001b[0;34m\u001b[0m\u001b[0m\n\u001b[0;32m----> 3\u001b[0;31m     \u001b[0mred_query_embeds\u001b[0m\u001b[0;34m,\u001b[0m \u001b[0mred_corpus_embeds\u001b[0m \u001b[0;34m=\u001b[0m \u001b[0mred_fn\u001b[0m\u001b[0;34m(\u001b[0m\u001b[0mquery_embeds\u001b[0m\u001b[0;34m,\u001b[0m \u001b[0mcorpus_embeds\u001b[0m\u001b[0;34m,\u001b[0m \u001b[0mmethod\u001b[0m\u001b[0;34m,\u001b[0m \u001b[0mred_dim\u001b[0m\u001b[0;34m)\u001b[0m\u001b[0;34m\u001b[0m\u001b[0;34m\u001b[0m\u001b[0m\n\u001b[0m\u001b[1;32m      4\u001b[0m     \u001b[0membed_dim\u001b[0m \u001b[0;34m=\u001b[0m \u001b[0mred_dim\u001b[0m\u001b[0;34m\u001b[0m\u001b[0;34m\u001b[0m\u001b[0m\n\u001b[1;32m      5\u001b[0m     \u001b[0mscore_ndcg\u001b[0m\u001b[0;34m(\u001b[0m\u001b[0mdata\u001b[0m\u001b[0;34m,\u001b[0m \u001b[0mred_query_embeds\u001b[0m\u001b[0;34m,\u001b[0m \u001b[0mqueries_mapping\u001b[0m\u001b[0;34m,\u001b[0m \u001b[0mred_corpus_embeds\u001b[0m\u001b[0;34m,\u001b[0m \u001b[0mcorpus_mapping\u001b[0m\u001b[0;34m)\u001b[0m\u001b[0;34m\u001b[0m\u001b[0;34m\u001b[0m\u001b[0m\n",
      "\u001b[0;32m/tmp/ipykernel_4389/2936162566.py\u001b[0m in \u001b[0;36mreduct_sk\u001b[0;34m(query_embeds, corpus_embeds, model_name, red_dim)\u001b[0m\n\u001b[1;32m      1\u001b[0m \u001b[0;32mdef\u001b[0m \u001b[0mreduct_sk\u001b[0m\u001b[0;34m(\u001b[0m\u001b[0mquery_embeds\u001b[0m\u001b[0;34m,\u001b[0m \u001b[0mcorpus_embeds\u001b[0m\u001b[0;34m,\u001b[0m \u001b[0mmodel_name\u001b[0m\u001b[0;34m,\u001b[0m \u001b[0mred_dim\u001b[0m\u001b[0;34m)\u001b[0m\u001b[0;34m:\u001b[0m\u001b[0;34m\u001b[0m\u001b[0;34m\u001b[0m\u001b[0m\n\u001b[1;32m      2\u001b[0m   \u001b[0mmodel_path\u001b[0m \u001b[0;34m=\u001b[0m \u001b[0msk_model_path_template\u001b[0m\u001b[0;34m.\u001b[0m\u001b[0mformat\u001b[0m\u001b[0;34m(\u001b[0m\u001b[0mcorpus_prefix\u001b[0m\u001b[0;34m,\u001b[0m \u001b[0mmethod_prefix\u001b[0m\u001b[0;34m,\u001b[0m \u001b[0mmodel_name\u001b[0m\u001b[0;34m,\u001b[0m \u001b[0mred_dim\u001b[0m\u001b[0;34m)\u001b[0m\u001b[0;34m\u001b[0m\u001b[0;34m\u001b[0m\u001b[0m\n\u001b[0;32m----> 3\u001b[0;31m   \u001b[0mred_model\u001b[0m \u001b[0;34m=\u001b[0m \u001b[0mjoblib\u001b[0m\u001b[0;34m.\u001b[0m\u001b[0mload\u001b[0m\u001b[0;34m(\u001b[0m\u001b[0mmodel_path\u001b[0m\u001b[0;34m)\u001b[0m\u001b[0;34m\u001b[0m\u001b[0;34m\u001b[0m\u001b[0m\n\u001b[0m\u001b[1;32m      4\u001b[0m   \u001b[0mred_embeddings\u001b[0m \u001b[0;34m=\u001b[0m \u001b[0mred_model\u001b[0m\u001b[0;34m.\u001b[0m\u001b[0mtransform\u001b[0m\u001b[0;34m(\u001b[0m\u001b[0mnp\u001b[0m\u001b[0;34m.\u001b[0m\u001b[0mvstack\u001b[0m\u001b[0;34m(\u001b[0m\u001b[0;34m[\u001b[0m\u001b[0mquery_embeds\u001b[0m\u001b[0;34m,\u001b[0m \u001b[0mcorpus_embeds\u001b[0m\u001b[0;34m]\u001b[0m\u001b[0;34m)\u001b[0m\u001b[0;34m)\u001b[0m\u001b[0;34m\u001b[0m\u001b[0;34m\u001b[0m\u001b[0m\n\u001b[1;32m      5\u001b[0m   \u001b[0;32mreturn\u001b[0m \u001b[0mnp\u001b[0m\u001b[0;34m.\u001b[0m\u001b[0msplit\u001b[0m\u001b[0;34m(\u001b[0m\u001b[0mred_embeddings\u001b[0m\u001b[0;34m,\u001b[0m \u001b[0;34m[\u001b[0m\u001b[0mlen\u001b[0m\u001b[0;34m(\u001b[0m\u001b[0mquery_embeds\u001b[0m\u001b[0;34m)\u001b[0m\u001b[0;34m]\u001b[0m\u001b[0;34m)\u001b[0m\u001b[0;34m\u001b[0m\u001b[0;34m\u001b[0m\u001b[0m\n",
      "\u001b[0;32m/usr/local/lib/python3.10/dist-packages/joblib/numpy_pickle.py\u001b[0m in \u001b[0;36mload\u001b[0;34m(filename, mmap_mode)\u001b[0m\n\u001b[1;32m    648\u001b[0m             \u001b[0mobj\u001b[0m \u001b[0;34m=\u001b[0m \u001b[0m_unpickle\u001b[0m\u001b[0;34m(\u001b[0m\u001b[0mfobj\u001b[0m\u001b[0;34m)\u001b[0m\u001b[0;34m\u001b[0m\u001b[0;34m\u001b[0m\u001b[0m\n\u001b[1;32m    649\u001b[0m     \u001b[0;32melse\u001b[0m\u001b[0;34m:\u001b[0m\u001b[0;34m\u001b[0m\u001b[0;34m\u001b[0m\u001b[0m\n\u001b[0;32m--> 650\u001b[0;31m         \u001b[0;32mwith\u001b[0m \u001b[0mopen\u001b[0m\u001b[0;34m(\u001b[0m\u001b[0mfilename\u001b[0m\u001b[0;34m,\u001b[0m \u001b[0;34m'rb'\u001b[0m\u001b[0;34m)\u001b[0m \u001b[0;32mas\u001b[0m \u001b[0mf\u001b[0m\u001b[0;34m:\u001b[0m\u001b[0;34m\u001b[0m\u001b[0;34m\u001b[0m\u001b[0m\n\u001b[0m\u001b[1;32m    651\u001b[0m             \u001b[0;32mwith\u001b[0m \u001b[0m_read_fileobject\u001b[0m\u001b[0;34m(\u001b[0m\u001b[0mf\u001b[0m\u001b[0;34m,\u001b[0m \u001b[0mfilename\u001b[0m\u001b[0;34m,\u001b[0m \u001b[0mmmap_mode\u001b[0m\u001b[0;34m)\u001b[0m \u001b[0;32mas\u001b[0m \u001b[0mfobj\u001b[0m\u001b[0;34m:\u001b[0m\u001b[0;34m\u001b[0m\u001b[0;34m\u001b[0m\u001b[0m\n\u001b[1;32m    652\u001b[0m                 \u001b[0;32mif\u001b[0m \u001b[0misinstance\u001b[0m\u001b[0;34m(\u001b[0m\u001b[0mfobj\u001b[0m\u001b[0;34m,\u001b[0m \u001b[0mstr\u001b[0m\u001b[0;34m)\u001b[0m\u001b[0;34m:\u001b[0m\u001b[0;34m\u001b[0m\u001b[0;34m\u001b[0m\u001b[0m\n",
      "\u001b[0;31mFileNotFoundError\u001b[0m: [Errno 2] No such file or directory: '/home/jupyter/work/resources/DiplomDimReduction//data/models/marco/dpr/LocallyLinearEmbedding_512.joblib'"
     ]
    }
   ],
   "source": [
    "score_dims(reduct_sk, red_dims, \"LocallyLinearEmbedding\")"
   ]
  },
  {
   "cell_type": "code",
   "execution_count": 17,
   "metadata": {
    "execution": {
     "iopub.execute_input": "2025-05-14T16:57:38.471955Z",
     "iopub.status.busy": "2025-05-14T16:57:38.470435Z",
     "iopub.status.idle": "2025-05-14T16:57:38.487756Z",
     "shell.execute_reply": "2025-05-14T16:57:38.486755Z",
     "shell.execute_reply.started": "2025-05-14T16:57:38.471887Z"
    },
    "id": "t-KLalloARk1"
   },
   "outputs": [],
   "source": [
    "class LinearAutoencoder(nn.Module):\n",
    "    def __init__(self, input_dim, hidden_dim):\n",
    "        self.__name__ = 'LinearAutoEncoder'\n",
    "        super(LinearAutoencoder, self).__init__()\n",
    "        self.encoder = nn.Linear(input_dim, hidden_dim)\n",
    "        self.decoder = nn.Linear(hidden_dim, input_dim)\n",
    "\n",
    "    def forward(self, x):\n",
    "        encoded = self.encoder(x)\n",
    "        decoded = self.decoder(encoded)\n",
    "        return encoded, decoded"
   ]
  },
  {
   "cell_type": "code",
   "execution_count": 18,
   "metadata": {
    "execution": {
     "iopub.execute_input": "2025-05-14T16:57:40.327123Z",
     "iopub.status.busy": "2025-05-14T16:57:40.325552Z",
     "iopub.status.idle": "2025-05-14T16:57:40.516717Z",
     "shell.execute_reply": "2025-05-14T16:57:40.515508Z",
     "shell.execute_reply.started": "2025-05-14T16:57:40.327067Z"
    },
    "id": "zO4RR-XGCotq"
   },
   "outputs": [],
   "source": [
    "device = torch.device(\"cuda\" if torch.cuda.is_available() else \"cpu\")"
   ]
  },
  {
   "cell_type": "code",
   "execution_count": 21,
   "metadata": {
    "execution": {
     "iopub.execute_input": "2025-05-14T16:58:58.646738Z",
     "iopub.status.busy": "2025-05-14T16:58:58.645757Z",
     "iopub.status.idle": "2025-05-14T16:58:58.662305Z",
     "shell.execute_reply": "2025-05-14T16:58:58.661154Z",
     "shell.execute_reply.started": "2025-05-14T16:58:58.646687Z"
    },
    "id": "YwYQFmg__Qwz",
    "tags": []
   },
   "outputs": [],
   "source": [
    "def reduct_ae(query_embeds, corpus_embeds, model_name, red_dim):\n",
    "  red_model = LinearAutoencoder(input_dim=query_embeds.shape[1], hidden_dim=red_dim)\n",
    "  model_path = ae_model_path_template.format(corpus_prefix, method_prefix, red_model.__name__, red_dim)\n",
    "  red_model.load_state_dict(torch.load(model_path, map_location=torch.device(device)))\n",
    "  red_model.to(device)\n",
    "  red_model.eval()\n",
    "  with torch.no_grad():\n",
    "        red_embeddings = red_model.encoder(torch.tensor(np.vstack([query_embeds, corpus_embeds]), dtype=torch.float32)).numpy()\n",
    "  return np.split(red_embeddings, [len(query_embeds)])"
   ]
  },
  {
   "cell_type": "code",
   "execution_count": 22,
   "metadata": {
    "colab": {
     "base_uri": "https://localhost:8080/"
    },
    "execution": {
     "iopub.execute_input": "2025-05-14T16:58:59.555993Z",
     "iopub.status.busy": "2025-05-14T16:58:59.554621Z",
     "iopub.status.idle": "2025-05-14T16:58:59.770807Z",
     "shell.execute_reply": "2025-05-14T16:58:59.769635Z",
     "shell.execute_reply.started": "2025-05-14T16:58:59.555928Z"
    },
    "id": "RLtRxUe3BvDy",
    "outputId": "ffe8a4ba-5603-4bab-a91b-c06d165ebb72",
    "tags": []
   },
   "outputs": [
    {
     "name": "stderr",
     "output_type": "stream",
     "text": [
      "100%|██████████| 43/43 [00:00<00:00, 1253.41it/s]\n"
     ]
    },
    {
     "name": "stdout",
     "output_type": "stream",
     "text": [
      "Mean nDCG: 0.8473\n"
     ]
    },
    {
     "name": "stderr",
     "output_type": "stream",
     "text": [
      "100%|██████████| 43/43 [00:00<00:00, 1239.76it/s]\n"
     ]
    },
    {
     "name": "stdout",
     "output_type": "stream",
     "text": [
      "Mean nDCG: 0.8429\n"
     ]
    },
    {
     "name": "stderr",
     "output_type": "stream",
     "text": [
      "100%|██████████| 43/43 [00:00<00:00, 1259.37it/s]\n"
     ]
    },
    {
     "name": "stdout",
     "output_type": "stream",
     "text": [
      "Mean nDCG: 0.8575\n"
     ]
    },
    {
     "name": "stderr",
     "output_type": "stream",
     "text": [
      "100%|██████████| 43/43 [00:00<00:00, 1258.85it/s]"
     ]
    },
    {
     "name": "stdout",
     "output_type": "stream",
     "text": [
      "Mean nDCG: 0.8410\n"
     ]
    },
    {
     "name": "stderr",
     "output_type": "stream",
     "text": [
      "\n"
     ]
    }
   ],
   "source": [
    "score_dims(reduct_ae, red_dims, \"LinearAutoEncoder\")"
   ]
  },
  {
   "cell_type": "code",
   "execution_count": null,
   "metadata": {
    "id": "YsJWb0RxCVLC"
   },
   "outputs": [],
   "source": []
  }
 ],
 "metadata": {
  "colab": {
   "provenance": []
  },
  "kernelspec": {
   "display_name": "DataSphere Kernel",
   "language": "python",
   "name": "python3"
  },
  "language_info": {
   "codemirror_mode": {
    "name": "ipython",
    "version": 3
   },
   "file_extension": ".py",
   "mimetype": "text/x-python",
   "name": "python",
   "nbconvert_exporter": "python",
   "pygments_lexer": "ipython3",
   "version": "3.10.12"
  }
 },
 "nbformat": 4,
 "nbformat_minor": 4
}
