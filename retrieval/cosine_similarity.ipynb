{
 "cells": [
  {
   "cell_type": "code",
   "execution_count": 1,
   "metadata": {
    "execution": {
     "iopub.execute_input": "2025-05-30T13:26:18.740881Z",
     "iopub.status.busy": "2025-05-30T13:26:18.739414Z",
     "iopub.status.idle": "2025-05-30T13:26:24.234653Z",
     "shell.execute_reply": "2025-05-30T13:26:24.233500Z",
     "shell.execute_reply.started": "2025-05-30T13:26:18.740833Z"
    },
    "id": "yoOHH9bKKgp5",
    "tags": []
   },
   "outputs": [
    {
     "name": "stderr",
     "output_type": "stream",
     "text": [
      "/home/jupyter/.local/lib/python3.10/site-packages/transformers/utils/hub.py:105: FutureWarning: Using `TRANSFORMERS_CACHE` is deprecated and will be removed in v5 of Transformers. Use `HF_HOME` instead.\n",
      "  warnings.warn(\n"
     ]
    }
   ],
   "source": [
    "import sys\n",
    "\n",
    "import numpy as np\n",
    "import pandas as pd\n",
    "import torch\n",
    "from tqdm import tqdm\n",
    "from transformers import AutoModel, AutoTokenizer\n",
    "\n",
    "sys.path.append(\"/home/jupyter/work/resources/DiplomDimReduction/\")\n",
    "import importlib\n",
    "\n",
    "import config\n",
    "\n",
    "importlib.reload(config)\n",
    "import utils\n",
    "from config import config_dict\n",
    "\n",
    "importlib.reload(utils)\n",
    "from sklearn.metrics import ndcg_score\n",
    "from utils import (\n",
    "    Autoencoder,\n",
    "    LinearAutoencoder,\n",
    "    cosine_similarity,\n",
    "    create_path,\n",
    "    load_mapping,\n",
    "    load_sk_model,\n",
    "    load_vectors,\n",
    "    save_metrics,\n",
    ")"
   ]
  },
  {
   "cell_type": "code",
   "execution_count": 2,
   "metadata": {
    "execution": {
     "iopub.execute_input": "2025-05-30T13:26:24.242038Z",
     "iopub.status.busy": "2025-05-30T13:26:24.240786Z",
     "iopub.status.idle": "2025-05-30T13:26:24.267098Z",
     "shell.execute_reply": "2025-05-30T13:26:24.265993Z",
     "shell.execute_reply.started": "2025-05-30T13:26:24.241981Z"
    },
    "id": "M6SMNybfKsDR",
    "tags": []
   },
   "outputs": [],
   "source": [
    "# model_name = config_dict[\"dpr_model\"]\n",
    "# method_prefix = config_dict[\"dpr_prefix\"]\n",
    "\n",
    "# model_name = config_dict['ance_model']\n",
    "# method_prefix = config_dict['ance_prefix']\n",
    "\n",
    "model_name = config_dict['tas-b_model']\n",
    "method_prefix = config_dict['tas-b_prefix']\n",
    "\n",
    "# model_name = config_dict['s-bert_model']\n",
    "# method_prefix = config_dict['s-bert_prefix']\n",
    "\n",
    "corpus_prefix = config_dict[\"marco_prefix\"]\n",
    "split_suffix = config_dict[\"test_suffix\"]\n",
    "\n",
    "data_path = config_dict[\"data_template\"].format(corpus_prefix, split_suffix)\n",
    "\n",
    "corpus_vector_path = config_dict[\"corpus_vector_template\"].format(\n",
    "    corpus_prefix, method_prefix, split_suffix\n",
    ")\n",
    "corpus_mapping_path = config_dict[\"corpus_mapping_template\"].format(\n",
    "    corpus_prefix, method_prefix, split_suffix\n",
    ")\n",
    "\n",
    "queries_vector_path = config_dict[\"queries_vector_template\"].format(\n",
    "    corpus_prefix, method_prefix, split_suffix\n",
    ")\n",
    "queries_mapping_path = config_dict[\"queries_mapping_template\"].format(\n",
    "    corpus_prefix, method_prefix, split_suffix\n",
    ")\n",
    "\n",
    "ndcgs_path_template = config_dict[\"ndcgs_template\"]\n",
    "\n",
    "sk_model_path_template = config_dict[\"reduction_sk_model_template\"]\n",
    "ae_model_path_template = config_dict[\"reduction_ae_model_template\"]"
   ]
  },
  {
   "cell_type": "code",
   "execution_count": 3,
   "metadata": {
    "colab": {
     "base_uri": "https://localhost:8080/",
     "height": 423
    },
    "execution": {
     "iopub.execute_input": "2025-05-30T13:26:24.269601Z",
     "iopub.status.busy": "2025-05-30T13:26:24.268457Z",
     "iopub.status.idle": "2025-05-30T13:26:24.358361Z",
     "shell.execute_reply": "2025-05-30T13:26:24.357207Z",
     "shell.execute_reply.started": "2025-05-30T13:26:24.269556Z"
    },
    "id": "ye27U0NceL-1",
    "outputId": "7cb0efe1-e678-4334-9057-c5397236a3fb",
    "tags": []
   },
   "outputs": [
    {
     "data": {
      "text/html": [
       "<div>\n",
       "<style scoped>\n",
       "    .dataframe tbody tr th:only-of-type {\n",
       "        vertical-align: middle;\n",
       "    }\n",
       "\n",
       "    .dataframe tbody tr th {\n",
       "        vertical-align: top;\n",
       "    }\n",
       "\n",
       "    .dataframe thead th {\n",
       "        text-align: right;\n",
       "    }\n",
       "</style>\n",
       "<table border=\"1\" class=\"dataframe\">\n",
       "  <thead>\n",
       "    <tr style=\"text-align: right;\">\n",
       "      <th></th>\n",
       "      <th>query_id</th>\n",
       "      <th>corpus_id</th>\n",
       "      <th>label</th>\n",
       "      <th>corpus_text</th>\n",
       "      <th>query_text</th>\n",
       "    </tr>\n",
       "  </thead>\n",
       "  <tbody>\n",
       "    <tr>\n",
       "      <th>0</th>\n",
       "      <td>19335</td>\n",
       "      <td>8412683</td>\n",
       "      <td>1</td>\n",
       "      <td>Ecological anthropology is defined as the stud...</td>\n",
       "      <td>anthropological definition of environment</td>\n",
       "    </tr>\n",
       "    <tr>\n",
       "      <th>1</th>\n",
       "      <td>19335</td>\n",
       "      <td>1729</td>\n",
       "      <td>1</td>\n",
       "      <td>Graduate Study in Anthropology. The graduate p...</td>\n",
       "      <td>anthropological definition of environment</td>\n",
       "    </tr>\n",
       "    <tr>\n",
       "      <th>2</th>\n",
       "      <td>19335</td>\n",
       "      <td>8412684</td>\n",
       "      <td>1</td>\n",
       "      <td>Ecological Anthropology. Ecological anthropolo...</td>\n",
       "      <td>anthropological definition of environment</td>\n",
       "    </tr>\n",
       "    <tr>\n",
       "      <th>3</th>\n",
       "      <td>19335</td>\n",
       "      <td>3683653</td>\n",
       "      <td>0</td>\n",
       "      <td>The branches of Earth Science are: 1  Geology ...</td>\n",
       "      <td>anthropological definition of environment</td>\n",
       "    </tr>\n",
       "    <tr>\n",
       "      <th>4</th>\n",
       "      <td>19335</td>\n",
       "      <td>342432</td>\n",
       "      <td>0</td>\n",
       "      <td>Five Disciplines of Anthropology. 1  Applied A...</td>\n",
       "      <td>anthropological definition of environment</td>\n",
       "    </tr>\n",
       "    <tr>\n",
       "      <th>...</th>\n",
       "      <td>...</td>\n",
       "      <td>...</td>\n",
       "      <td>...</td>\n",
       "      <td>...</td>\n",
       "      <td>...</td>\n",
       "    </tr>\n",
       "    <tr>\n",
       "      <th>425</th>\n",
       "      <td>1133167</td>\n",
       "      <td>6467520</td>\n",
       "      <td>0</td>\n",
       "      <td>Climate data for ball mtn lake, Longitude: -72...</td>\n",
       "      <td>how is the weather in jamaica</td>\n",
       "    </tr>\n",
       "    <tr>\n",
       "      <th>426</th>\n",
       "      <td>1133167</td>\n",
       "      <td>4712274</td>\n",
       "      <td>0</td>\n",
       "      <td>Re: Best Time of Year to Visit Jamaica Mar 17,...</td>\n",
       "      <td>how is the weather in jamaica</td>\n",
       "    </tr>\n",
       "    <tr>\n",
       "      <th>427</th>\n",
       "      <td>1133167</td>\n",
       "      <td>7115353</td>\n",
       "      <td>0</td>\n",
       "      <td>Hurricane season has ended over a month ago an...</td>\n",
       "      <td>how is the weather in jamaica</td>\n",
       "    </tr>\n",
       "    <tr>\n",
       "      <th>428</th>\n",
       "      <td>1133167</td>\n",
       "      <td>8415745</td>\n",
       "      <td>0</td>\n",
       "      <td>The weather stations sit near sea level, with ...</td>\n",
       "      <td>how is the weather in jamaica</td>\n",
       "    </tr>\n",
       "    <tr>\n",
       "      <th>429</th>\n",
       "      <td>1133167</td>\n",
       "      <td>2365200</td>\n",
       "      <td>0</td>\n",
       "      <td>Jamaica Airport Transfers [3] Jamaica Airport ...</td>\n",
       "      <td>how is the weather in jamaica</td>\n",
       "    </tr>\n",
       "  </tbody>\n",
       "</table>\n",
       "<p>430 rows × 5 columns</p>\n",
       "</div>"
      ],
      "text/plain": [
       "     query_id  ...                                 query_text\n",
       "0       19335  ...  anthropological definition of environment\n",
       "1       19335  ...  anthropological definition of environment\n",
       "2       19335  ...  anthropological definition of environment\n",
       "3       19335  ...  anthropological definition of environment\n",
       "4       19335  ...  anthropological definition of environment\n",
       "..        ...  ...                                        ...\n",
       "425   1133167  ...              how is the weather in jamaica\n",
       "426   1133167  ...              how is the weather in jamaica\n",
       "427   1133167  ...              how is the weather in jamaica\n",
       "428   1133167  ...              how is the weather in jamaica\n",
       "429   1133167  ...              how is the weather in jamaica\n",
       "\n",
       "[430 rows x 5 columns]"
      ]
     },
     "execution_count": 3,
     "metadata": {},
     "output_type": "execute_result"
    }
   ],
   "source": [
    "data = pd.read_parquet(data_path)\n",
    "data"
   ]
  },
  {
   "cell_type": "code",
   "execution_count": 4,
   "metadata": {
    "execution": {
     "iopub.execute_input": "2025-05-30T13:26:24.362047Z",
     "iopub.status.busy": "2025-05-30T13:26:24.360693Z",
     "iopub.status.idle": "2025-05-30T13:26:24.376088Z",
     "shell.execute_reply": "2025-05-30T13:26:24.375051Z",
     "shell.execute_reply.started": "2025-05-30T13:26:24.362002Z"
    },
    "id": "4h_FBR59TBsG",
    "tags": []
   },
   "outputs": [],
   "source": [
    "def reduct_sk(query_embeds, corpus_embeds, model_name, red_dim, model_kwargs={}):\n",
    "    model_path = sk_model_path_template.format(\n",
    "        corpus_prefix, method_prefix, model_name, red_dim\n",
    "    )\n",
    "    red_model = load_sk_model(model_path)\n",
    "    red_embeddings = red_model.transform(np.vstack([query_embeds, corpus_embeds]))\n",
    "    return np.split(red_embeddings, [len(query_embeds)])"
   ]
  },
  {
   "cell_type": "code",
   "execution_count": 5,
   "metadata": {
    "execution": {
     "iopub.execute_input": "2025-05-30T13:26:24.378250Z",
     "iopub.status.busy": "2025-05-30T13:26:24.377459Z",
     "iopub.status.idle": "2025-05-30T13:26:24.401497Z",
     "shell.execute_reply": "2025-05-30T13:26:24.400569Z",
     "shell.execute_reply.started": "2025-05-30T13:26:24.378174Z"
    },
    "id": "NcExku3CkcUM",
    "tags": []
   },
   "outputs": [],
   "source": [
    "query_embeds = load_vectors(queries_vector_path)\n",
    "queries_mapping = load_mapping(queries_mapping_path)"
   ]
  },
  {
   "cell_type": "code",
   "execution_count": 6,
   "metadata": {
    "execution": {
     "iopub.execute_input": "2025-05-30T13:26:24.405692Z",
     "iopub.status.busy": "2025-05-30T13:26:24.402770Z",
     "iopub.status.idle": "2025-05-30T13:26:24.481527Z",
     "shell.execute_reply": "2025-05-30T13:26:24.480431Z",
     "shell.execute_reply.started": "2025-05-30T13:26:24.405654Z"
    },
    "id": "a3r7b8u6lPpA",
    "tags": []
   },
   "outputs": [],
   "source": [
    "corpus_embeds = load_vectors(corpus_vector_path)\n",
    "corpus_mapping = load_mapping(corpus_mapping_path)"
   ]
  },
  {
   "cell_type": "code",
   "execution_count": 7,
   "metadata": {
    "execution": {
     "iopub.execute_input": "2025-05-30T13:26:24.486281Z",
     "iopub.status.busy": "2025-05-30T13:26:24.482844Z",
     "iopub.status.idle": "2025-05-30T13:26:24.540787Z",
     "shell.execute_reply": "2025-05-30T13:26:24.539792Z",
     "shell.execute_reply.started": "2025-05-30T13:26:24.486235Z"
    },
    "id": "gNcAKeFv99Se",
    "tags": []
   },
   "outputs": [],
   "source": [
    "red_dims = [512, 256, 128, 64]"
   ]
  },
  {
   "cell_type": "code",
   "execution_count": 8,
   "metadata": {
    "execution": {
     "iopub.execute_input": "2025-05-30T13:26:24.543393Z",
     "iopub.status.busy": "2025-05-30T13:26:24.541906Z",
     "iopub.status.idle": "2025-05-30T13:26:24.557283Z",
     "shell.execute_reply": "2025-05-30T13:26:24.556487Z",
     "shell.execute_reply.started": "2025-05-30T13:26:24.543342Z"
    },
    "id": "xmtSXFed-fEy",
    "tags": []
   },
   "outputs": [],
   "source": [
    "def score_ndcg(data, query_embeds, queries_mapping, corpus_embeds, corpus_mapping):\n",
    "    ndcgs = []\n",
    "\n",
    "    for q, g in tqdm(data.groupby(\"query_id\")):\n",
    "\n",
    "        q_text = g[\"query_text\"].values[0]\n",
    "        q_i = queries_mapping[\"text2i\"][q_text]\n",
    "        q_vec = query_embeds[q_i]\n",
    "\n",
    "        c_texts = g[\"corpus_text\"].values.tolist()\n",
    "        c_vecs = np.empty((len(c_texts), corpus_embeds.shape[1]), dtype=np.float32)\n",
    "        for i, c_text in enumerate(c_texts):\n",
    "            c_i = corpus_mapping[\"text2i\"][c_text]\n",
    "            c_vec = corpus_embeds[c_i]\n",
    "            c_vecs[i] = c_vec\n",
    "\n",
    "        scores = cosine_similarity(q_vec, c_vecs)\n",
    "        indices = np.argsort(-scores)\n",
    "\n",
    "        labels = g[\"label\"].values\n",
    "        ndcg = ndcg_score([labels], [scores], k=10)\n",
    "        ndcgs.append(ndcg)\n",
    "\n",
    "    mean_ndcg = np.mean(ndcgs)\n",
    "    print(f\"Mean nDCG: {mean_ndcg:.4f}\")\n",
    "    return ndcgs, mean_ndcg"
   ]
  },
  {
   "cell_type": "code",
   "execution_count": 9,
   "metadata": {
    "execution": {
     "iopub.execute_input": "2025-05-30T13:26:24.559489Z",
     "iopub.status.busy": "2025-05-30T13:26:24.558479Z",
     "iopub.status.idle": "2025-05-30T13:26:24.575136Z",
     "shell.execute_reply": "2025-05-30T13:26:24.574020Z",
     "shell.execute_reply.started": "2025-05-30T13:26:24.559418Z"
    },
    "id": "08MX-FBs9_aO",
    "tags": []
   },
   "outputs": [],
   "source": [
    "def score_dims(red_fn, red_dims, method, model_kwargs={}):\n",
    "    ndcg_dict = {}\n",
    "\n",
    "    ndcgs, mean_ndcg = score_ndcg(\n",
    "        data, query_embeds, queries_mapping, corpus_embeds, corpus_mapping\n",
    "    )\n",
    "    ndcg_dict[query_embeds.shape[1]] = {\"ndcgs\": ndcgs, \"mean_ndcg\": mean_ndcg}\n",
    "\n",
    "    for red_dim in red_dims:\n",
    "        red_query_embeds, red_corpus_embeds = red_fn(\n",
    "            query_embeds, corpus_embeds, method, red_dim, model_kwargs\n",
    "        )\n",
    "        red_ndcgs, red_mean_ndcg = score_ndcg(\n",
    "            data, red_query_embeds, queries_mapping, red_corpus_embeds, corpus_mapping\n",
    "        )\n",
    "        ndcg_dict[red_dim] = {\"ndcgs\": red_ndcgs, \"mean_ndcg\": red_mean_ndcg}\n",
    "\n",
    "    ndcgs_path = ndcgs_path_template.format(corpus_prefix, method_prefix, method)\n",
    "\n",
    "    save_metrics(ndcg_dict, ndcgs_path)\n",
    "\n",
    "    return ndcg_dict"
   ]
  },
  {
   "cell_type": "code",
   "execution_count": 10,
   "metadata": {
    "colab": {
     "base_uri": "https://localhost:8080/"
    },
    "execution": {
     "iopub.execute_input": "2025-05-30T13:26:24.579648Z",
     "iopub.status.busy": "2025-05-30T13:26:24.578897Z",
     "iopub.status.idle": "2025-05-30T13:26:24.592880Z",
     "shell.execute_reply": "2025-05-30T13:26:24.591818Z",
     "shell.execute_reply.started": "2025-05-30T13:26:24.579617Z"
    },
    "id": "Bj_6nKMb_1iz",
    "outputId": "d3a0ffd9-a4a9-428d-9b14-aa09d8db7b6f",
    "tags": []
   },
   "outputs": [],
   "source": [
    "# ndcg_dict = score_dims(reduct_sk, red_dims, \"PCA\")"
   ]
  },
  {
   "cell_type": "code",
   "execution_count": 11,
   "metadata": {
    "execution": {
     "iopub.execute_input": "2025-05-30T13:26:24.597498Z",
     "iopub.status.busy": "2025-05-30T13:26:24.595913Z",
     "iopub.status.idle": "2025-05-30T13:26:24.610469Z",
     "shell.execute_reply": "2025-05-30T13:26:24.609447Z",
     "shell.execute_reply.started": "2025-05-30T13:26:24.597426Z"
    },
    "tags": []
   },
   "outputs": [],
   "source": [
    "# ndcg_dict = score_dims(reduct_sk, red_dims, \"UMAP\")"
   ]
  },
  {
   "cell_type": "code",
   "execution_count": null,
   "metadata": {
    "execution": {
     "iopub.execute_input": "2025-05-30T13:26:24.613618Z",
     "iopub.status.busy": "2025-05-30T13:26:24.612493Z",
     "iopub.status.idle": "2025-05-30T13:28:11.346304Z"
    },
    "tags": []
   },
   "outputs": [
    {
     "name": "stderr",
     "output_type": "stream",
     "text": [
      "100%|██████████| 43/43 [00:00<00:00, 1267.19it/s]"
     ]
    },
    {
     "name": "stdout",
     "output_type": "stream",
     "text": [
      "Mean nDCG: 0.8567\n"
     ]
    },
    {
     "name": "stderr",
     "output_type": "stream",
     "text": [
      "\n",
      "2025-05-30 13:26:29.930317: I tensorflow/core/util/port.cc:110] oneDNN custom operations are on. You may see slightly different numerical results due to floating-point round-off errors from different computation orders. To turn them off, set the environment variable `TF_ENABLE_ONEDNN_OPTS=0`.\n",
      "2025-05-30 13:26:29.987279: I tensorflow/core/platform/cpu_feature_guard.cc:182] This TensorFlow binary is optimized to use available CPU instructions in performance-critical operations.\n",
      "To enable the following instructions: AVX2 AVX512F AVX512_VNNI FMA, in other operations, rebuild TensorFlow with the appropriate compiler flags.\n",
      "2025-05-30 13:26:31.096693: W tensorflow/compiler/tf2tensorrt/utils/py_utils.cc:38] TF-TRT Warning: Could not find TensorRT\n",
      "100%|██████████| 43/43 [00:00<00:00, 1223.20it/s]"
     ]
    },
    {
     "name": "stdout",
     "output_type": "stream",
     "text": [
      "Mean nDCG: 0.7222\n"
     ]
    },
    {
     "name": "stderr",
     "output_type": "stream",
     "text": [
      "\n",
      "100%|██████████| 43/43 [00:00<00:00, 1280.79it/s]"
     ]
    },
    {
     "name": "stdout",
     "output_type": "stream",
     "text": [
      "Mean nDCG: 0.7484\n"
     ]
    },
    {
     "name": "stderr",
     "output_type": "stream",
     "text": [
      "\n",
      "100%|██████████| 43/43 [00:00<00:00, 1218.67it/s]\n"
     ]
    },
    {
     "name": "stdout",
     "output_type": "stream",
     "text": [
      "Mean nDCG: 0.7274\n"
     ]
    },
    {
     "name": "stderr",
     "output_type": "stream",
     "text": [
      "100%|██████████| 43/43 [00:00<00:00, 1315.55it/s]"
     ]
    },
    {
     "name": "stdout",
     "output_type": "stream",
     "text": [
      "Mean nDCG: 0.7404\n",
      "/home/jupyter/work/resources/DiplomDimReduction/data/metrics/marco/tas_b exists.\n",
      "232 -> 4136\n"
     ]
    },
    {
     "name": "stderr",
     "output_type": "stream",
     "text": [
      "\n"
     ]
    }
   ],
   "source": [
    "ndcg_dict = score_dims(reduct_sk, red_dims, \"UMAP_5\")"
   ]
  },
  {
   "cell_type": "code",
   "execution_count": null,
   "metadata": {
    "execution": {
     "iopub.execute_input": "2025-05-30T13:28:11.349692Z",
     "iopub.status.busy": "2025-05-30T13:28:11.348060Z",
     "iopub.status.idle": "2025-05-30T13:29:37.941538Z"
    },
    "tags": []
   },
   "outputs": [
    {
     "name": "stderr",
     "output_type": "stream",
     "text": [
      "100%|██████████| 43/43 [00:00<00:00, 1289.35it/s]\n"
     ]
    },
    {
     "name": "stdout",
     "output_type": "stream",
     "text": [
      "Mean nDCG: 0.8567\n"
     ]
    },
    {
     "name": "stderr",
     "output_type": "stream",
     "text": [
      "100%|██████████| 43/43 [00:00<00:00, 1283.62it/s]"
     ]
    },
    {
     "name": "stdout",
     "output_type": "stream",
     "text": [
      "Mean nDCG: 0.7431\n"
     ]
    },
    {
     "name": "stderr",
     "output_type": "stream",
     "text": [
      "\n",
      "100%|██████████| 43/43 [00:00<00:00, 1268.94it/s]"
     ]
    },
    {
     "name": "stdout",
     "output_type": "stream",
     "text": [
      "Mean nDCG: 0.7277\n"
     ]
    },
    {
     "name": "stderr",
     "output_type": "stream",
     "text": [
      "\n",
      "100%|██████████| 43/43 [00:00<00:00, 1169.53it/s]"
     ]
    },
    {
     "name": "stdout",
     "output_type": "stream",
     "text": [
      "Mean nDCG: 0.7448\n"
     ]
    },
    {
     "name": "stderr",
     "output_type": "stream",
     "text": [
      "\n",
      "100%|██████████| 43/43 [00:00<00:00, 1294.06it/s]"
     ]
    },
    {
     "name": "stdout",
     "output_type": "stream",
     "text": [
      "Mean nDCG: 0.7426\n",
      "/home/jupyter/work/resources/DiplomDimReduction/data/metrics/marco/tas_b exists.\n",
      "232 -> 3993\n"
     ]
    },
    {
     "name": "stderr",
     "output_type": "stream",
     "text": [
      "\n"
     ]
    }
   ],
   "source": [
    "ndcg_dict = score_dims(reduct_sk, red_dims, \"UMAP_25\")"
   ]
  },
  {
   "cell_type": "code",
   "execution_count": null,
   "metadata": {
    "colab": {
     "base_uri": "https://localhost:8080/"
    },
    "execution": {
     "iopub.execute_input": "2025-05-30T13:29:37.943721Z",
     "iopub.status.busy": "2025-05-30T13:29:37.942684Z",
     "iopub.status.idle": "2025-05-30T13:29:37.963981Z"
    },
    "id": "zU3ZN8_D51Ev",
    "outputId": "70856487-0347-4b5f-ffef-c0bafb88eabd",
    "tags": []
   },
   "outputs": [],
   "source": [
    "# score_dims(reduct_sk, red_dims, \"KernelPCA\")"
   ]
  },
  {
   "cell_type": "code",
   "execution_count": null,
   "metadata": {
    "colab": {
     "base_uri": "https://localhost:8080/"
    },
    "execution": {
     "iopub.execute_input": "2025-05-30T13:29:37.965579Z",
     "iopub.status.busy": "2025-05-30T13:29:37.965040Z",
     "iopub.status.idle": "2025-05-30T13:29:37.990731Z"
    },
    "id": "3V8Ci9uX-5IN",
    "outputId": "e23e208e-e72d-428f-eb52-1ceb61827429",
    "tags": []
   },
   "outputs": [],
   "source": [
    "# score_dims(reduct_sk, red_dims, \"TruncatedSVD\")"
   ]
  },
  {
   "cell_type": "code",
   "execution_count": null,
   "metadata": {
    "colab": {
     "base_uri": "https://localhost:8080/"
    },
    "execution": {
     "iopub.execute_input": "2025-05-30T13:29:37.993025Z",
     "iopub.status.busy": "2025-05-30T13:29:37.992037Z",
     "iopub.status.idle": "2025-05-30T13:29:38.011616Z"
    },
    "id": "IPS_KcPi_EUO",
    "outputId": "c1f83f8e-cbc4-454c-ef7d-eb8c7b72160e",
    "tags": []
   },
   "outputs": [],
   "source": [
    "# red_ndcg_dict = score_dims(reduct_sk, red_dims, \"FastICA\")"
   ]
  },
  {
   "cell_type": "code",
   "execution_count": null,
   "metadata": {
    "colab": {
     "base_uri": "https://localhost:8080/"
    },
    "execution": {
     "iopub.execute_input": "2025-05-30T13:29:38.014617Z",
     "iopub.status.busy": "2025-05-30T13:29:38.012916Z",
     "iopub.status.idle": "2025-05-30T13:29:38.038462Z"
    },
    "id": "tD6u4hJt_Ojx",
    "outputId": "baeb6e54-7624-44cb-c77d-b13d7c3db8d3",
    "tags": []
   },
   "outputs": [],
   "source": [
    "# score_dims(reduct_sk, red_dims, \"LocallyLinearEmbedding\")"
   ]
  },
  {
   "cell_type": "code",
   "execution_count": null,
   "metadata": {
    "execution": {
     "iopub.execute_input": "2025-05-30T13:29:38.041202Z",
     "iopub.status.busy": "2025-05-30T13:29:38.039856Z",
     "iopub.status.idle": "2025-05-30T13:29:38.078321Z"
    },
    "id": "zO4RR-XGCotq",
    "tags": []
   },
   "outputs": [],
   "source": [
    "device = torch.device(\"cuda\" if torch.cuda.is_available() else \"cpu\")"
   ]
  },
  {
   "cell_type": "code",
   "execution_count": null,
   "metadata": {
    "execution": {
     "iopub.execute_input": "2025-05-30T13:29:38.082030Z",
     "iopub.status.busy": "2025-05-30T13:29:38.079842Z",
     "iopub.status.idle": "2025-05-30T13:29:38.093216Z"
    },
    "tags": []
   },
   "outputs": [],
   "source": [
    "name2model = {\n",
    "    \"LinearAutoencoder\": LinearAutoencoder,\n",
    "    \"AutoEncoder+\": Autoencoder,\n",
    "    # \"AutoEncoder256\": Autoencoder,\n",
    "}"
   ]
  },
  {
   "cell_type": "code",
   "execution_count": null,
   "metadata": {
    "execution": {
     "iopub.execute_input": "2025-05-30T13:29:38.096440Z",
     "iopub.status.busy": "2025-05-30T13:29:38.094603Z",
     "iopub.status.idle": "2025-05-30T13:29:38.111552Z"
    },
    "tags": []
   },
   "outputs": [],
   "source": [
    "def resolve_ae_name(model_name, red_dim, in_dim=768):\n",
    "    if model_name[-1] == \"+\":\n",
    "        model_name = model_name[:-1]\n",
    "        hid_dim = (in_dim + red_dim) // 2\n",
    "        model_name = f\"{model_name}{hid_dim}\"\n",
    "    return model_name"
   ]
  },
  {
   "cell_type": "code",
   "execution_count": null,
   "metadata": {
    "execution": {
     "iopub.execute_input": "2025-05-30T13:29:38.114517Z",
     "iopub.status.busy": "2025-05-30T13:29:38.112893Z",
     "iopub.status.idle": "2025-05-30T13:29:38.128005Z"
    },
    "id": "YwYQFmg__Qwz",
    "tags": []
   },
   "outputs": [],
   "source": [
    "def reduct_ae(query_embeds, corpus_embeds, model_name, red_dim, model_kwargs={}):\n",
    "    model_class = name2model[model_name]\n",
    "    # model_name = resolve_ae_name(model_name, red_dim, in_dim=768)\n",
    "    red_model = model_class(\n",
    "        input_dim=query_embeds.shape[1], output_dim=red_dim, **model_kwargs\n",
    "    )\n",
    "    model_path = ae_model_path_template.format(\n",
    "        corpus_prefix, method_prefix, model_name, red_dim\n",
    "    )\n",
    "    print(model_path)\n",
    "    red_model.load_state_dict(torch.load(model_path, map_location=device))\n",
    "    red_model.to(device)\n",
    "    red_model.eval()\n",
    "    with torch.no_grad():\n",
    "        red_embeddings = red_model.encoder(\n",
    "            torch.tensor(np.vstack([query_embeds, corpus_embeds]), dtype=torch.float32)\n",
    "        ).numpy()\n",
    "    return np.split(red_embeddings, [len(query_embeds)])"
   ]
  },
  {
   "cell_type": "code",
   "execution_count": null,
   "metadata": {
    "colab": {
     "base_uri": "https://localhost:8080/"
    },
    "execution": {
     "iopub.execute_input": "2025-05-30T13:29:38.131304Z",
     "iopub.status.busy": "2025-05-30T13:29:38.129199Z",
     "iopub.status.idle": "2025-05-30T13:29:38.144776Z"
    },
    "id": "RLtRxUe3BvDy",
    "outputId": "ffe8a4ba-5603-4bab-a91b-c06d165ebb72",
    "tags": []
   },
   "outputs": [],
   "source": [
    "# ndcg_dict = score_dims(reduct_ae, red_dims, \"LinearAutoencoder\")"
   ]
  },
  {
   "cell_type": "code",
   "execution_count": null,
   "metadata": {
    "execution": {
     "iopub.execute_input": "2025-05-30T13:29:38.146912Z",
     "iopub.status.busy": "2025-05-30T13:29:38.146173Z",
     "iopub.status.idle": "2025-05-30T13:29:38.161187Z"
    },
    "id": "YsJWb0RxCVLC",
    "tags": []
   },
   "outputs": [],
   "source": [
    "# ndcg_dict = score_dims(reduct_ae, red_dims, \"AutoEncoder+\")"
   ]
  },
  {
   "cell_type": "code",
   "execution_count": null,
   "metadata": {
    "execution": {
     "iopub.execute_input": "2025-05-30T13:29:38.166025Z",
     "iopub.status.busy": "2025-05-30T13:29:38.164223Z",
     "iopub.status.idle": "2025-05-30T13:29:38.216209Z"
    },
    "tags": []
   },
   "outputs": [],
   "source": [
    "# ndcg_dict = score_dims(\n",
    "#     reduct_ae, red_dims, \"AutoEncoder256\", model_kwargs={\"hidden_dim\": 256}\n",
    "# )"
   ]
  },
  {
   "cell_type": "code",
   "execution_count": null,
   "metadata": {},
   "outputs": [],
   "source": []
  }
 ],
 "metadata": {
  "colab": {
   "provenance": []
  },
  "kernelspec": {
   "display_name": "DataSphere Kernel",
   "language": "python",
   "name": "python3"
  },
  "language_info": {
   "codemirror_mode": {
    "name": "ipython",
    "version": 3
   },
   "file_extension": ".py",
   "mimetype": "text/x-python",
   "name": "python",
   "nbconvert_exporter": "python",
   "pygments_lexer": "ipython3",
   "version": "3.10.12"
  }
 },
 "nbformat": 4,
 "nbformat_minor": 4
}
