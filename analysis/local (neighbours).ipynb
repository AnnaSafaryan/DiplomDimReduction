{
 "cells": [
  {
   "cell_type": "code",
   "execution_count": 1,
   "id": "ea7c00ef-d457-4971-ab20-9dccf748e34e",
   "metadata": {
    "execution": {
     "iopub.execute_input": "2025-06-01T10:55:47.099135Z",
     "iopub.status.busy": "2025-06-01T10:55:47.097398Z",
     "iopub.status.idle": "2025-06-01T10:55:50.369007Z",
     "shell.execute_reply": "2025-06-01T10:55:50.367942Z",
     "shell.execute_reply.started": "2025-06-01T10:55:47.099088Z"
    },
    "tags": []
   },
   "outputs": [],
   "source": [
    "import matplotlib.pyplot as plt\n",
    "import numpy as np\n",
    "from sklearn.neighbors import NearestNeighbors\n",
    "from tqdm import tqdm\n",
    "\n",
    "seed = 42\n",
    "import random\n",
    "import sys\n",
    "from collections import defaultdict\n",
    "\n",
    "from tqdm import tqdm\n",
    "\n",
    "sys.path.append(\"/home/jupyter/work/resources/DiplomDimReduction/\")\n",
    "import importlib\n",
    "\n",
    "import config\n",
    "\n",
    "importlib.reload(config)\n",
    "import utils\n",
    "from config import config_dict\n",
    "\n",
    "importlib.reload(utils)\n",
    "\n",
    "import torch\n",
    "\n",
    "from utils import (\n",
    "    Autoencoder,\n",
    "    LinearAutoencoder,\n",
    "    load_mapping,\n",
    "    load_sk_model,\n",
    "    load_vectors,\n",
    ")"
   ]
  },
  {
   "cell_type": "code",
   "execution_count": 2,
   "id": "5c646067-31b6-4f7b-a61f-d1e0eb8467af",
   "metadata": {
    "execution": {
     "iopub.execute_input": "2025-06-01T10:55:50.371644Z",
     "iopub.status.busy": "2025-06-01T10:55:50.371021Z",
     "iopub.status.idle": "2025-06-01T10:55:50.387265Z",
     "shell.execute_reply": "2025-06-01T10:55:50.386486Z",
     "shell.execute_reply.started": "2025-06-01T10:55:50.371604Z"
    },
    "tags": []
   },
   "outputs": [],
   "source": [
    "corpus_prefix = config_dict[\"marco_prefix\"]\n",
    "split_suffix = config_dict[\"train_suffix\"]"
   ]
  },
  {
   "cell_type": "code",
   "execution_count": 3,
   "id": "7116ed8f-1599-42ac-bf32-9b1637e03359",
   "metadata": {
    "execution": {
     "iopub.execute_input": "2025-06-01T10:55:50.388978Z",
     "iopub.status.busy": "2025-06-01T10:55:50.388188Z",
     "iopub.status.idle": "2025-06-01T10:55:50.403764Z",
     "shell.execute_reply": "2025-06-01T10:55:50.402868Z",
     "shell.execute_reply.started": "2025-06-01T10:55:50.388941Z"
    },
    "tags": []
   },
   "outputs": [],
   "source": [
    "# method_prefix = config_dict[\"dpr_prefix\"]\n",
    "# method_prefix = config_dict[\"ance_prefix\"]\n",
    "method_prefix = config_dict['tas-b_prefix']\n",
    "# method_prefix = config_dict['s-bert_prefix']\n",
    "# method_prefix = config_dict[\"late interaction prefix\"]\n",
    "\n",
    "corpus_vector_path = config_dict[\"corpus_vector_template\"].format(\n",
    "    corpus_prefix, method_prefix, split_suffix\n",
    ")\n",
    "\n",
    "corpus_sample_vector_path = config_dict[\"corpus_sample_vector_template\"].format(\n",
    "    corpus_prefix, method_prefix, split_suffix\n",
    ")\n",
    "\n",
    "corpus_mapping_path = config_dict[\"corpus_mapping_template\"].format(\n",
    "    corpus_prefix, method_prefix, split_suffix\n",
    ")\n",
    "\n",
    "sk_model_path_template = config_dict[\"reduction_sk_model_template\"]\n",
    "ae_model_path_template = config_dict[\"reduction_ae_model_template\"]"
   ]
  },
  {
   "cell_type": "code",
   "execution_count": 37,
   "id": "81fba564-21d0-45bf-80e6-dc6309ba08aa",
   "metadata": {
    "execution": {
     "iopub.execute_input": "2025-06-01T10:59:47.747234Z",
     "iopub.status.busy": "2025-06-01T10:59:47.745920Z",
     "iopub.status.idle": "2025-06-01T10:59:47.853537Z",
     "shell.execute_reply": "2025-06-01T10:59:47.852525Z",
     "shell.execute_reply.started": "2025-06-01T10:59:47.747182Z"
    },
    "tags": []
   },
   "outputs": [],
   "source": [
    "curr_dim = 128"
   ]
  },
  {
   "cell_type": "code",
   "execution_count": 38,
   "id": "af3bb47d-efcd-4038-a6fb-1b89d72c54da",
   "metadata": {
    "execution": {
     "iopub.execute_input": "2025-06-01T10:59:48.220344Z",
     "iopub.status.busy": "2025-06-01T10:59:48.219186Z",
     "iopub.status.idle": "2025-06-01T10:59:51.050988Z",
     "shell.execute_reply": "2025-06-01T10:59:51.050078Z",
     "shell.execute_reply.started": "2025-06-01T10:59:48.220298Z"
    },
    "tags": []
   },
   "outputs": [
    {
     "name": "stdout",
     "output_type": "stream",
     "text": [
      "CPU times: user 1.76 s, sys: 251 ms, total: 2.01 s\n",
      "Wall time: 2.8 s\n"
     ]
    },
    {
     "data": {
      "text/plain": [
       "(99441, 768)"
      ]
     },
     "execution_count": 38,
     "metadata": {},
     "output_type": "execute_result"
    }
   ],
   "source": [
    "%%time\n",
    "corpus_vectors = load_vectors(corpus_vector_path)\n",
    "corpus_vectors.shape"
   ]
  },
  {
   "cell_type": "code",
   "execution_count": 39,
   "id": "b896a129-6b7e-4840-a5d5-0e6392fef991",
   "metadata": {
    "execution": {
     "iopub.execute_input": "2025-06-01T10:59:51.053741Z",
     "iopub.status.busy": "2025-06-01T10:59:51.052703Z",
     "iopub.status.idle": "2025-06-01T10:59:51.646177Z",
     "shell.execute_reply": "2025-06-01T10:59:51.645125Z",
     "shell.execute_reply.started": "2025-06-01T10:59:51.053700Z"
    },
    "tags": []
   },
   "outputs": [
    {
     "data": {
      "text/plain": [
       "dict_keys(['i2text', 'text2i'])"
      ]
     },
     "execution_count": 39,
     "metadata": {},
     "output_type": "execute_result"
    }
   ],
   "source": [
    "corpus_mapping = load_mapping(corpus_mapping_path)\n",
    "corpus_mapping.keys()"
   ]
  },
  {
   "cell_type": "code",
   "execution_count": 40,
   "id": "33370a0d-9076-4084-a42e-c3c0ccf7f38f",
   "metadata": {
    "execution": {
     "iopub.execute_input": "2025-06-01T10:59:51.649217Z",
     "iopub.status.busy": "2025-06-01T10:59:51.647711Z",
     "iopub.status.idle": "2025-06-01T10:59:51.680395Z",
     "shell.execute_reply": "2025-06-01T10:59:51.679496Z",
     "shell.execute_reply.started": "2025-06-01T10:59:51.649177Z"
    },
    "tags": []
   },
   "outputs": [],
   "source": [
    "def reduct_sk(corpus_embeds, model_name, red_dim):\n",
    "    model_path = sk_model_path_template.format(\n",
    "        corpus_prefix, method_prefix, model_name, red_dim\n",
    "    )\n",
    "    red_model = load_sk_model(model_path)\n",
    "    red_embeddings = red_model.transform(corpus_embeds)\n",
    "    return red_embeddings"
   ]
  },
  {
   "cell_type": "code",
   "execution_count": 41,
   "id": "11a9e7d9-2604-41d8-ac13-4f7b24ffbc8f",
   "metadata": {
    "execution": {
     "iopub.execute_input": "2025-06-01T10:59:51.683394Z",
     "iopub.status.busy": "2025-06-01T10:59:51.682452Z",
     "iopub.status.idle": "2025-06-01T10:59:51.998568Z",
     "shell.execute_reply": "2025-06-01T10:59:51.997216Z",
     "shell.execute_reply.started": "2025-06-01T10:59:51.683361Z"
    },
    "tags": []
   },
   "outputs": [],
   "source": [
    "pca_vectors = reduct_sk(corpus_vectors, \"PCA\", curr_dim)"
   ]
  },
  {
   "cell_type": "code",
   "execution_count": 42,
   "id": "dd2894e3-5aa0-4a6a-add3-610b7d29d977",
   "metadata": {
    "execution": {
     "iopub.execute_input": "2025-06-01T10:59:52.003863Z",
     "iopub.status.busy": "2025-06-01T10:59:52.001834Z",
     "iopub.status.idle": "2025-06-01T11:00:13.002482Z",
     "shell.execute_reply": "2025-06-01T11:00:13.001434Z",
     "shell.execute_reply.started": "2025-06-01T10:59:52.003782Z"
    },
    "tags": []
   },
   "outputs": [],
   "source": [
    "umap_vectors = reduct_sk(corpus_vectors, \"UMAP\", curr_dim)"
   ]
  },
  {
   "cell_type": "code",
   "execution_count": 43,
   "id": "77837a63-d587-45ca-a9fb-4fff8f4c1ec2",
   "metadata": {
    "execution": {
     "iopub.execute_input": "2025-06-01T11:00:13.005039Z",
     "iopub.status.busy": "2025-06-01T11:00:13.003965Z",
     "iopub.status.idle": "2025-06-01T11:00:35.015473Z",
     "shell.execute_reply": "2025-06-01T11:00:35.014434Z",
     "shell.execute_reply.started": "2025-06-01T11:00:13.005002Z"
    },
    "tags": []
   },
   "outputs": [],
   "source": [
    "umap_5_vectors = reduct_sk(corpus_vectors, \"UMAP_5\", curr_dim)"
   ]
  },
  {
   "cell_type": "code",
   "execution_count": 44,
   "id": "87600a5d-863e-4045-9f60-19bf96c6068e",
   "metadata": {
    "execution": {
     "iopub.execute_input": "2025-06-01T11:00:35.017875Z",
     "iopub.status.busy": "2025-06-01T11:00:35.016750Z",
     "iopub.status.idle": "2025-06-01T11:01:13.012334Z",
     "shell.execute_reply": "2025-06-01T11:01:13.011356Z",
     "shell.execute_reply.started": "2025-06-01T11:00:35.017832Z"
    },
    "tags": []
   },
   "outputs": [],
   "source": [
    "umap_25_vectors = reduct_sk(corpus_vectors, \"UMAP_25\", curr_dim)"
   ]
  },
  {
   "cell_type": "code",
   "execution_count": 45,
   "id": "a9c36be2-3520-4caf-a716-12de8c64f1f5",
   "metadata": {
    "execution": {
     "iopub.execute_input": "2025-06-01T11:01:13.014826Z",
     "iopub.status.busy": "2025-06-01T11:01:13.013610Z",
     "iopub.status.idle": "2025-06-01T11:01:13.034969Z",
     "shell.execute_reply": "2025-06-01T11:01:13.034091Z",
     "shell.execute_reply.started": "2025-06-01T11:01:13.014793Z"
    },
    "tags": []
   },
   "outputs": [],
   "source": [
    "device = torch.device(\"cuda\" if torch.cuda.is_available() else \"cpu\")"
   ]
  },
  {
   "cell_type": "code",
   "execution_count": 46,
   "id": "4adece30-6e06-4f54-afce-60c562fe0cb7",
   "metadata": {
    "execution": {
     "iopub.execute_input": "2025-06-01T11:01:13.036984Z",
     "iopub.status.busy": "2025-06-01T11:01:13.036209Z",
     "iopub.status.idle": "2025-06-01T11:01:13.084674Z",
     "shell.execute_reply": "2025-06-01T11:01:13.083751Z",
     "shell.execute_reply.started": "2025-06-01T11:01:13.036947Z"
    },
    "tags": []
   },
   "outputs": [],
   "source": [
    "name2model = {\n",
    "    \"LinearAutoencoder\": LinearAutoencoder,\n",
    "    \"AutoEncoder+\": Autoencoder,\n",
    "}"
   ]
  },
  {
   "cell_type": "code",
   "execution_count": 47,
   "id": "a3c05fdd-36b9-4a61-baaa-c537177003f6",
   "metadata": {
    "execution": {
     "iopub.execute_input": "2025-06-01T11:01:13.089088Z",
     "iopub.status.busy": "2025-06-01T11:01:13.087704Z",
     "iopub.status.idle": "2025-06-01T11:01:13.124881Z",
     "shell.execute_reply": "2025-06-01T11:01:13.124091Z",
     "shell.execute_reply.started": "2025-06-01T11:01:13.089045Z"
    },
    "tags": []
   },
   "outputs": [],
   "source": [
    "def reduct_ae(corpus_embeds, model_name, red_dim, model_kwargs={}):\n",
    "    model_class = name2model[model_name]\n",
    "    red_model = model_class(\n",
    "        input_dim=corpus_embeds.shape[1], output_dim=red_dim, **model_kwargs\n",
    "    )\n",
    "    model_path = ae_model_path_template.format(\n",
    "        corpus_prefix, method_prefix, model_name, red_dim\n",
    "    )\n",
    "    print(model_path)\n",
    "    red_model.load_state_dict(torch.load(model_path, map_location=device))\n",
    "    red_model.to(device)\n",
    "    red_model.eval()\n",
    "    with torch.no_grad():\n",
    "        red_embeddings = red_model.encoder(\n",
    "            torch.tensor(corpus_embeds, dtype=torch.float32)).numpy()\n",
    "    return red_embeddings"
   ]
  },
  {
   "cell_type": "code",
   "execution_count": 48,
   "id": "7f04ae3b-1e2b-46e9-a9aa-f542bcf3522d",
   "metadata": {
    "execution": {
     "iopub.execute_input": "2025-06-01T11:01:13.127096Z",
     "iopub.status.busy": "2025-06-01T11:01:13.125954Z",
     "iopub.status.idle": "2025-06-01T11:01:13.448511Z",
     "shell.execute_reply": "2025-06-01T11:01:13.447461Z",
     "shell.execute_reply.started": "2025-06-01T11:01:13.127057Z"
    },
    "tags": []
   },
   "outputs": [
    {
     "name": "stdout",
     "output_type": "stream",
     "text": [
      "/home/jupyter/work/resources/DiplomDimReduction/data/models/marco/tas_b/LinearAutoencoder_128.pt\n"
     ]
    }
   ],
   "source": [
    "lae_vectors = reduct_ae(corpus_vectors, \"LinearAutoencoder\", curr_dim)"
   ]
  },
  {
   "cell_type": "code",
   "execution_count": 49,
   "id": "d3cf0240-4f65-4f7e-bbb0-7bc781fc10fd",
   "metadata": {
    "execution": {
     "iopub.execute_input": "2025-06-01T11:01:13.451114Z",
     "iopub.status.busy": "2025-06-01T11:01:13.449976Z",
     "iopub.status.idle": "2025-06-01T11:01:14.038557Z",
     "shell.execute_reply": "2025-06-01T11:01:14.037583Z",
     "shell.execute_reply.started": "2025-06-01T11:01:13.451065Z"
    },
    "tags": []
   },
   "outputs": [
    {
     "name": "stdout",
     "output_type": "stream",
     "text": [
      "/home/jupyter/work/resources/DiplomDimReduction/data/models/marco/tas_b/AutoEncoder+_128.pt\n"
     ]
    }
   ],
   "source": [
    "ae_vectors = reduct_ae(corpus_vectors, \"AutoEncoder+\", curr_dim)"
   ]
  },
  {
   "cell_type": "markdown",
   "id": "babc5e75-4c1c-478d-96f0-c7dbdf77e6bb",
   "metadata": {},
   "source": [
    "# Тесты"
   ]
  },
  {
   "cell_type": "code",
   "execution_count": 50,
   "id": "bada72f8-d43c-42ad-8cde-e69a1f5b2de6",
   "metadata": {
    "execution": {
     "iopub.execute_input": "2025-06-01T11:01:14.040987Z",
     "iopub.status.busy": "2025-06-01T11:01:14.039990Z",
     "iopub.status.idle": "2025-06-01T11:01:14.059375Z",
     "shell.execute_reply": "2025-06-01T11:01:14.058571Z",
     "shell.execute_reply.started": "2025-06-01T11:01:14.040939Z"
    },
    "tags": []
   },
   "outputs": [],
   "source": [
    "np.random.seed(seed)\n",
    "sample_size = 10000\n",
    "indices = np.random.choice(corpus_vectors.shape[0], sample_size, replace=False)"
   ]
  },
  {
   "cell_type": "code",
   "execution_count": 51,
   "id": "4d2a5865-b9bb-42e6-b117-ceed4a4c8504",
   "metadata": {
    "execution": {
     "iopub.execute_input": "2025-06-01T11:01:14.061503Z",
     "iopub.status.busy": "2025-06-01T11:01:14.060457Z",
     "iopub.status.idle": "2025-06-01T11:01:14.109958Z",
     "shell.execute_reply": "2025-06-01T11:01:14.109065Z",
     "shell.execute_reply.started": "2025-06-01T11:01:14.061464Z"
    },
    "tags": []
   },
   "outputs": [],
   "source": [
    "orig_vectors = corpus_vectors[indices]\n",
    "pca_vectors = pca_vectors[indices]\n",
    "umap_vectors = umap_vectors[indices]\n",
    "umap_5_vectors = umap_5_vectors[indices]\n",
    "umap_25_vectors = umap_25_vectors[indices]\n",
    "lae_vectors = lae_vectors[indices]\n",
    "ae_vectors = ae_vectors[indices]"
   ]
  },
  {
   "cell_type": "code",
   "execution_count": 52,
   "id": "e00def67-8929-445d-b0b9-88373ed384d1",
   "metadata": {
    "execution": {
     "iopub.execute_input": "2025-06-01T11:01:14.112152Z",
     "iopub.status.busy": "2025-06-01T11:01:14.111366Z",
     "iopub.status.idle": "2025-06-01T11:01:14.143929Z",
     "shell.execute_reply": "2025-06-01T11:01:14.143022Z",
     "shell.execute_reply.started": "2025-06-01T11:01:14.112118Z"
    },
    "tags": []
   },
   "outputs": [],
   "source": [
    "k = 10"
   ]
  },
  {
   "cell_type": "code",
   "execution_count": 53,
   "id": "61df552a-7e1b-4836-815b-055ca5662631",
   "metadata": {
    "execution": {
     "iopub.execute_input": "2025-06-01T11:01:14.145916Z",
     "iopub.status.busy": "2025-06-01T11:01:14.145154Z",
     "iopub.status.idle": "2025-06-01T11:01:15.880843Z",
     "shell.execute_reply": "2025-06-01T11:01:15.879847Z",
     "shell.execute_reply.started": "2025-06-01T11:01:14.145879Z"
    },
    "tags": []
   },
   "outputs": [],
   "source": [
    "nn_orig = NearestNeighbors(n_neighbors=k+1).fit(orig_vectors).kneighbors(return_distance=False)[:, 1:]  # без самого себя"
   ]
  },
  {
   "cell_type": "code",
   "execution_count": 54,
   "id": "618f51fc-61ef-4234-906c-c5e78a49b2b7",
   "metadata": {
    "execution": {
     "iopub.execute_input": "2025-06-01T11:01:15.883542Z",
     "iopub.status.busy": "2025-06-01T11:01:15.882069Z",
     "iopub.status.idle": "2025-06-01T11:01:15.895249Z",
     "shell.execute_reply": "2025-06-01T11:01:15.894531Z",
     "shell.execute_reply.started": "2025-06-01T11:01:15.883478Z"
    },
    "tags": []
   },
   "outputs": [
    {
     "data": {
      "text/plain": [
       "(10000, 10)"
      ]
     },
     "execution_count": 54,
     "metadata": {},
     "output_type": "execute_result"
    }
   ],
   "source": [
    "nn_orig.shape"
   ]
  },
  {
   "cell_type": "code",
   "execution_count": 55,
   "id": "da4376f6-92fa-491b-9d68-65c9e53fe1f8",
   "metadata": {
    "execution": {
     "iopub.execute_input": "2025-06-01T11:01:15.897183Z",
     "iopub.status.busy": "2025-06-01T11:01:15.896200Z",
     "iopub.status.idle": "2025-06-01T11:01:16.319358Z",
     "shell.execute_reply": "2025-06-01T11:01:16.318311Z",
     "shell.execute_reply.started": "2025-06-01T11:01:15.897144Z"
    },
    "tags": []
   },
   "outputs": [],
   "source": [
    "nn_pca = NearestNeighbors(n_neighbors=k+1).fit(pca_vectors).kneighbors(return_distance=False)[:, 1:]  # без самого себя"
   ]
  },
  {
   "cell_type": "code",
   "execution_count": 56,
   "id": "4aa27a33-e344-4c63-9ee6-46d2eadda07d",
   "metadata": {
    "execution": {
     "iopub.execute_input": "2025-06-01T11:01:16.321766Z",
     "iopub.status.busy": "2025-06-01T11:01:16.320467Z",
     "iopub.status.idle": "2025-06-01T11:01:16.748066Z",
     "shell.execute_reply": "2025-06-01T11:01:16.747082Z",
     "shell.execute_reply.started": "2025-06-01T11:01:16.321712Z"
    },
    "tags": []
   },
   "outputs": [],
   "source": [
    "nn_umap = NearestNeighbors(n_neighbors=k+1).fit(umap_vectors).kneighbors(return_distance=False)[:, 1:]  # без самого себя"
   ]
  },
  {
   "cell_type": "code",
   "execution_count": 57,
   "id": "f5d600b5-6193-4059-a9bd-c0a0e8e0e460",
   "metadata": {
    "execution": {
     "iopub.execute_input": "2025-06-01T11:01:16.750333Z",
     "iopub.status.busy": "2025-06-01T11:01:16.749435Z",
     "iopub.status.idle": "2025-06-01T11:01:17.155676Z",
     "shell.execute_reply": "2025-06-01T11:01:17.154806Z",
     "shell.execute_reply.started": "2025-06-01T11:01:16.750291Z"
    },
    "tags": []
   },
   "outputs": [],
   "source": [
    "nn_umap_5 = NearestNeighbors(n_neighbors=k+1).fit(umap_5_vectors).kneighbors(return_distance=False)[:, 1:]  # без самого себя"
   ]
  },
  {
   "cell_type": "code",
   "execution_count": 58,
   "id": "01b9d935-dbce-4f85-8530-833b12520e3c",
   "metadata": {
    "execution": {
     "iopub.execute_input": "2025-06-01T11:01:17.157900Z",
     "iopub.status.busy": "2025-06-01T11:01:17.156874Z",
     "iopub.status.idle": "2025-06-01T11:01:17.580843Z",
     "shell.execute_reply": "2025-06-01T11:01:17.579857Z",
     "shell.execute_reply.started": "2025-06-01T11:01:17.157865Z"
    },
    "tags": []
   },
   "outputs": [],
   "source": [
    "nn_umap_25 = NearestNeighbors(n_neighbors=k+1).fit(umap_25_vectors).kneighbors(return_distance=False)[:, 1:]  # без самого себя"
   ]
  },
  {
   "cell_type": "code",
   "execution_count": 59,
   "id": "295ebba1-db62-4b01-bf14-45cd126835c6",
   "metadata": {
    "execution": {
     "iopub.execute_input": "2025-06-01T11:01:17.583311Z",
     "iopub.status.busy": "2025-06-01T11:01:17.582098Z",
     "iopub.status.idle": "2025-06-01T11:01:17.981820Z",
     "shell.execute_reply": "2025-06-01T11:01:17.980933Z",
     "shell.execute_reply.started": "2025-06-01T11:01:17.583270Z"
    },
    "tags": []
   },
   "outputs": [],
   "source": [
    "nn_lae = NearestNeighbors(n_neighbors=k+1).fit(lae_vectors).kneighbors(return_distance=False)[:, 1:]  # без самого себя"
   ]
  },
  {
   "cell_type": "code",
   "execution_count": 60,
   "id": "e7a00774-3aa9-4ff3-84bc-ea8ace44b790",
   "metadata": {
    "execution": {
     "iopub.execute_input": "2025-06-01T11:01:17.984250Z",
     "iopub.status.busy": "2025-06-01T11:01:17.983028Z",
     "iopub.status.idle": "2025-06-01T11:01:18.385761Z",
     "shell.execute_reply": "2025-06-01T11:01:18.384640Z",
     "shell.execute_reply.started": "2025-06-01T11:01:17.984209Z"
    },
    "tags": []
   },
   "outputs": [],
   "source": [
    "nn_ae = NearestNeighbors(n_neighbors=k+1).fit(ae_vectors).kneighbors(return_distance=False)[:, 1:]  # без самого себя"
   ]
  },
  {
   "cell_type": "code",
   "execution_count": 61,
   "id": "cd1a6017-474b-45fc-b935-99e4fb51f60d",
   "metadata": {
    "execution": {
     "iopub.execute_input": "2025-06-01T11:01:18.388176Z",
     "iopub.status.busy": "2025-06-01T11:01:18.387044Z",
     "iopub.status.idle": "2025-06-01T11:01:18.401183Z",
     "shell.execute_reply": "2025-06-01T11:01:18.400339Z",
     "shell.execute_reply.started": "2025-06-01T11:01:18.388137Z"
    },
    "tags": []
   },
   "outputs": [],
   "source": [
    "def local_structure_preservation(nn_orig, nn_reduced, k):\n",
    "    overlap = [\n",
    "        len(set(orig).intersection(set(reduced))) / k\n",
    "        for orig, reduced in zip(nn_orig, nn_reduced)\n",
    "    ]\n",
    "    return np.mean(overlap)"
   ]
  },
  {
   "cell_type": "code",
   "execution_count": 62,
   "id": "2ee2b9e1-123e-40c8-8103-47ffcbc7a02e",
   "metadata": {
    "execution": {
     "iopub.execute_input": "2025-06-01T11:01:18.403269Z",
     "iopub.status.busy": "2025-06-01T11:01:18.402497Z",
     "iopub.status.idle": "2025-06-01T11:01:18.459500Z",
     "shell.execute_reply": "2025-06-01T11:01:18.458657Z",
     "shell.execute_reply.started": "2025-06-01T11:01:18.403239Z"
    },
    "tags": []
   },
   "outputs": [
    {
     "data": {
      "text/plain": [
       "0.6177199999999999"
      ]
     },
     "execution_count": 62,
     "metadata": {},
     "output_type": "execute_result"
    }
   ],
   "source": [
    "local_structure_preservation(nn_orig, nn_pca, k)"
   ]
  },
  {
   "cell_type": "code",
   "execution_count": 63,
   "id": "74e42bfb-25bf-4e00-9d31-4bf12a9ffa99",
   "metadata": {
    "execution": {
     "iopub.execute_input": "2025-06-01T11:01:18.461706Z",
     "iopub.status.busy": "2025-06-01T11:01:18.460558Z",
     "iopub.status.idle": "2025-06-01T11:01:18.519764Z",
     "shell.execute_reply": "2025-06-01T11:01:18.518818Z",
     "shell.execute_reply.started": "2025-06-01T11:01:18.461667Z"
    },
    "tags": []
   },
   "outputs": [
    {
     "data": {
      "text/plain": [
       "0.17514000000000002"
      ]
     },
     "execution_count": 63,
     "metadata": {},
     "output_type": "execute_result"
    }
   ],
   "source": [
    "local_structure_preservation(nn_orig, nn_umap, k)"
   ]
  },
  {
   "cell_type": "code",
   "execution_count": 64,
   "id": "388bdaee-126f-4f89-98e8-632c3e589af9",
   "metadata": {
    "execution": {
     "iopub.execute_input": "2025-06-01T11:01:18.522097Z",
     "iopub.status.busy": "2025-06-01T11:01:18.521074Z",
     "iopub.status.idle": "2025-06-01T11:01:18.677445Z",
     "shell.execute_reply": "2025-06-01T11:01:18.676367Z",
     "shell.execute_reply.started": "2025-06-01T11:01:18.522064Z"
    },
    "tags": []
   },
   "outputs": [
    {
     "data": {
      "text/plain": [
       "0.15888999999999998"
      ]
     },
     "execution_count": 64,
     "metadata": {},
     "output_type": "execute_result"
    }
   ],
   "source": [
    "local_structure_preservation(nn_orig, nn_umap_5, k)"
   ]
  },
  {
   "cell_type": "code",
   "execution_count": 65,
   "id": "1a7fd9f3-3e7e-4579-a2ef-1266f20c21f3",
   "metadata": {
    "execution": {
     "iopub.execute_input": "2025-06-01T11:01:18.682730Z",
     "iopub.status.busy": "2025-06-01T11:01:18.681662Z",
     "iopub.status.idle": "2025-06-01T11:01:18.737688Z",
     "shell.execute_reply": "2025-06-01T11:01:18.736783Z",
     "shell.execute_reply.started": "2025-06-01T11:01:18.682688Z"
    },
    "tags": []
   },
   "outputs": [
    {
     "data": {
      "text/plain": [
       "0.17819000000000002"
      ]
     },
     "execution_count": 65,
     "metadata": {},
     "output_type": "execute_result"
    }
   ],
   "source": [
    "local_structure_preservation(nn_orig, nn_umap_25, k)"
   ]
  },
  {
   "cell_type": "code",
   "execution_count": 66,
   "id": "e0d12c56-ae3e-4aac-b554-acbd8b860761",
   "metadata": {
    "execution": {
     "iopub.execute_input": "2025-06-01T11:01:18.739783Z",
     "iopub.status.busy": "2025-06-01T11:01:18.738805Z",
     "iopub.status.idle": "2025-06-01T11:01:19.017561Z",
     "shell.execute_reply": "2025-06-01T11:01:19.016601Z",
     "shell.execute_reply.started": "2025-06-01T11:01:18.739750Z"
    },
    "tags": []
   },
   "outputs": [
    {
     "data": {
      "text/plain": [
       "0.60193"
      ]
     },
     "execution_count": 66,
     "metadata": {},
     "output_type": "execute_result"
    }
   ],
   "source": [
    "local_structure_preservation(nn_orig, nn_lae, k)"
   ]
  },
  {
   "cell_type": "code",
   "execution_count": 67,
   "id": "c6ae4223-a6e7-423b-9802-7546d8e10f88",
   "metadata": {
    "execution": {
     "iopub.execute_input": "2025-06-01T11:01:19.019785Z",
     "iopub.status.busy": "2025-06-01T11:01:19.018788Z",
     "iopub.status.idle": "2025-06-01T11:01:19.074506Z",
     "shell.execute_reply": "2025-06-01T11:01:19.073666Z",
     "shell.execute_reply.started": "2025-06-01T11:01:19.019744Z"
    },
    "tags": []
   },
   "outputs": [
    {
     "data": {
      "text/plain": [
       "0.4908"
      ]
     },
     "execution_count": 67,
     "metadata": {},
     "output_type": "execute_result"
    }
   ],
   "source": [
    "local_structure_preservation(nn_orig, nn_ae, k)"
   ]
  },
  {
   "cell_type": "markdown",
   "id": "2679c285-a39d-4be1-b2a0-da866cd5eb9e",
   "metadata": {},
   "source": [
    "### Сами соседи"
   ]
  },
  {
   "cell_type": "code",
   "execution_count": 35,
   "id": "39ed60c6-54bd-4d59-8df8-d4cb5190a476",
   "metadata": {
    "execution": {
     "iopub.execute_input": "2025-06-01T10:58:14.588606Z",
     "iopub.status.busy": "2025-06-01T10:58:14.587459Z",
     "iopub.status.idle": "2025-06-01T10:58:14.670084Z",
     "shell.execute_reply": "2025-06-01T10:58:14.669155Z",
     "shell.execute_reply.started": "2025-06-01T10:58:14.588569Z"
    },
    "tags": []
   },
   "outputs": [],
   "source": [
    "# random.seed(seed)\n",
    "# points = random.sample(indices.tolist(), 10)\n",
    "# points"
   ]
  },
  {
   "cell_type": "code",
   "execution_count": 36,
   "id": "adde2713-c57e-4293-a977-34cde90eaaed",
   "metadata": {
    "execution": {
     "iopub.execute_input": "2025-06-01T10:58:14.672745Z",
     "iopub.status.busy": "2025-06-01T10:58:14.671317Z",
     "iopub.status.idle": "2025-06-01T10:58:14.683423Z",
     "shell.execute_reply": "2025-06-01T10:58:14.682719Z",
     "shell.execute_reply.started": "2025-06-01T10:58:14.672701Z"
    },
    "tags": []
   },
   "outputs": [],
   "source": [
    "# for point in points:\n",
    "#     i = np.where(indices == point)[0][0]\n",
    "#     orig_neighbours = nn_orig[i]\n",
    "#     pca_neighbours = nn_pca[i]\n",
    "#     umap_neighbours = nn_umap[i]\n",
    "#     lae_neighbours = nn_lae[i]\n",
    "#     ae_neighbours = nn_ae[i]\n",
    "    \n",
    "#     print(f'{point}:\\n-{orig_neighbours}\\n-{pca_neighbours}\\n-{umap_neighbours}\\n-{lae_neighbours}\\n-{ae_neighbours}')\n",
    "    "
   ]
  },
  {
   "cell_type": "code",
   "execution_count": null,
   "id": "febb33fa-2851-4960-a1a8-8d80a318ef24",
   "metadata": {},
   "outputs": [],
   "source": []
  },
  {
   "cell_type": "code",
   "execution_count": null,
   "id": "482bbb4a-f42f-473d-a780-ba7a3eadfaa4",
   "metadata": {},
   "outputs": [],
   "source": []
  }
 ],
 "metadata": {
  "kernelspec": {
   "display_name": "DataSphere Kernel",
   "language": "python",
   "name": "python3"
  },
  "language_info": {
   "codemirror_mode": {
    "name": "ipython",
    "version": 3
   },
   "file_extension": ".py",
   "mimetype": "text/x-python",
   "name": "python",
   "nbconvert_exporter": "python",
   "pygments_lexer": "ipython3",
   "version": "3.10.12"
  }
 },
 "nbformat": 4,
 "nbformat_minor": 5
}
