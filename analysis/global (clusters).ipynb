{
 "cells": [
  {
   "cell_type": "code",
   "execution_count": 1,
   "id": "fa7472a4-e1db-4853-8eea-af513599f681",
   "metadata": {
    "execution": {
     "iopub.execute_input": "2025-06-01T09:43:12.004231Z",
     "iopub.status.busy": "2025-06-01T09:43:12.002887Z",
     "iopub.status.idle": "2025-06-01T09:43:15.363739Z",
     "shell.execute_reply": "2025-06-01T09:43:15.362526Z",
     "shell.execute_reply.started": "2025-06-01T09:43:12.004171Z"
    },
    "tags": []
   },
   "outputs": [],
   "source": [
    "import matplotlib.pyplot as plt\n",
    "import numpy as np\n",
    "from scipy.stats import spearmanr\n",
    "from sklearn.cluster import KMeans\n",
    "from sklearn.metrics import (\n",
    "    adjusted_rand_score,\n",
    "    normalized_mutual_info_score,\n",
    "    pairwise_distances,\n",
    ")\n",
    "from tqdm import tqdm\n",
    "\n",
    "seed = 42\n",
    "import random\n",
    "\n",
    "\n",
    "from collections import defaultdict\n",
    "\n",
    "import sys\n",
    "\n",
    "from tqdm import tqdm\n",
    "\n",
    "sys.path.append(\"/home/jupyter/work/resources/DiplomDimReduction/\")\n",
    "import importlib\n",
    "import torch\n",
    "import config\n",
    "\n",
    "importlib.reload(config)\n",
    "import utils\n",
    "from config import config_dict\n",
    "\n",
    "importlib.reload(utils)\n",
    "\n",
    "from utils import Autoencoder, LinearAutoencoder, load_sk_model, load_vectors, load_mapping"
   ]
  },
  {
   "cell_type": "code",
   "execution_count": 2,
   "id": "bf11d6b1-2b2d-4095-98d2-550dbc56c0e9",
   "metadata": {
    "execution": {
     "iopub.execute_input": "2025-06-01T09:43:15.369106Z",
     "iopub.status.busy": "2025-06-01T09:43:15.366069Z",
     "iopub.status.idle": "2025-06-01T09:43:15.404537Z",
     "shell.execute_reply": "2025-06-01T09:43:15.403281Z",
     "shell.execute_reply.started": "2025-06-01T09:43:15.369003Z"
    },
    "tags": []
   },
   "outputs": [],
   "source": [
    "corpus_prefix = config_dict[\"marco_prefix\"]\n",
    "split_suffix = config_dict[\"train_suffix\"]"
   ]
  },
  {
   "cell_type": "code",
   "execution_count": 3,
   "id": "87e3768e-1890-4823-919f-6c9ba743c6b9",
   "metadata": {
    "execution": {
     "iopub.execute_input": "2025-06-01T09:43:15.407213Z",
     "iopub.status.busy": "2025-06-01T09:43:15.406360Z",
     "iopub.status.idle": "2025-06-01T09:43:15.452320Z",
     "shell.execute_reply": "2025-06-01T09:43:15.451123Z",
     "shell.execute_reply.started": "2025-06-01T09:43:15.407167Z"
    },
    "tags": []
   },
   "outputs": [],
   "source": [
    "# method_prefix = config_dict[\"dpr_prefix\"]\n",
    "# method_prefix = config_dict[\"ance_prefix\"]\n",
    "method_prefix = config_dict['tas-b_prefix']\n",
    "# method_prefix = config_dict['s-bert_prefix']\n",
    "# method_prefix = config_dict[\"late interaction prefix\"]\n",
    "\n",
    "corpus_vector_path = config_dict[\"corpus_vector_template\"].format(\n",
    "    corpus_prefix, method_prefix, split_suffix\n",
    ")\n",
    "\n",
    "corpus_sample_vector_path = config_dict[\"corpus_sample_vector_template\"].format(\n",
    "    corpus_prefix, method_prefix, split_suffix\n",
    ")\n",
    "\n",
    "corpus_mapping_path = config_dict[\"corpus_mapping_template\"].format(\n",
    "    corpus_prefix, method_prefix, split_suffix\n",
    ")\n",
    "\n",
    "sk_model_path_template = config_dict[\"reduction_sk_model_template\"]\n",
    "ae_model_path_template = config_dict[\"reduction_ae_model_template\"]"
   ]
  },
  {
   "cell_type": "code",
   "execution_count": 4,
   "id": "fd322929-0370-463c-8841-f17fc5b1b912",
   "metadata": {
    "execution": {
     "iopub.execute_input": "2025-06-01T09:43:15.456150Z",
     "iopub.status.busy": "2025-06-01T09:43:15.455060Z",
     "iopub.status.idle": "2025-06-01T09:43:15.474041Z",
     "shell.execute_reply": "2025-06-01T09:43:15.472785Z",
     "shell.execute_reply.started": "2025-06-01T09:43:15.456095Z"
    },
    "tags": []
   },
   "outputs": [],
   "source": [
    "curr_dim = 128"
   ]
  },
  {
   "cell_type": "code",
   "execution_count": 5,
   "id": "30aae609-dede-4c50-b412-c8c4727a1291",
   "metadata": {
    "execution": {
     "iopub.execute_input": "2025-06-01T09:43:15.476829Z",
     "iopub.status.busy": "2025-06-01T09:43:15.475943Z",
     "iopub.status.idle": "2025-06-01T09:43:17.660834Z",
     "shell.execute_reply": "2025-06-01T09:43:17.659607Z",
     "shell.execute_reply.started": "2025-06-01T09:43:15.476780Z"
    },
    "tags": []
   },
   "outputs": [
    {
     "name": "stdout",
     "output_type": "stream",
     "text": [
      "CPU times: user 2 s, sys: 161 ms, total: 2.16 s\n",
      "Wall time: 2.15 s\n"
     ]
    },
    {
     "data": {
      "text/plain": [
       "(99441, 768)"
      ]
     },
     "execution_count": 5,
     "metadata": {},
     "output_type": "execute_result"
    }
   ],
   "source": [
    "%%time\n",
    "corpus_vectors = load_vectors(corpus_vector_path)\n",
    "corpus_vectors.shape"
   ]
  },
  {
   "cell_type": "code",
   "execution_count": 6,
   "id": "e226e811-dea3-4a34-990d-cc04573f20cf",
   "metadata": {
    "execution": {
     "iopub.execute_input": "2025-06-01T09:43:17.664149Z",
     "iopub.status.busy": "2025-06-01T09:43:17.662320Z",
     "iopub.status.idle": "2025-06-01T09:43:17.679509Z",
     "shell.execute_reply": "2025-06-01T09:43:17.678382Z",
     "shell.execute_reply.started": "2025-06-01T09:43:17.664094Z"
    },
    "tags": []
   },
   "outputs": [],
   "source": [
    "def reduct_sk(corpus_embeds, model_name, red_dim):\n",
    "    model_path = sk_model_path_template.format(\n",
    "        corpus_prefix, method_prefix, model_name, red_dim\n",
    "    )\n",
    "    red_model = load_sk_model(model_path)\n",
    "    red_embeddings = red_model.transform(corpus_embeds)\n",
    "    return red_embeddings"
   ]
  },
  {
   "cell_type": "code",
   "execution_count": 7,
   "id": "7e1e663e-1888-41ae-8c2a-3a36333b5f7c",
   "metadata": {
    "execution": {
     "iopub.execute_input": "2025-06-01T09:43:17.683038Z",
     "iopub.status.busy": "2025-06-01T09:43:17.681041Z",
     "iopub.status.idle": "2025-06-01T09:43:18.057478Z",
     "shell.execute_reply": "2025-06-01T09:43:18.055793Z",
     "shell.execute_reply.started": "2025-06-01T09:43:17.682988Z"
    },
    "tags": []
   },
   "outputs": [],
   "source": [
    "pca_vectors = reduct_sk(corpus_vectors, \"PCA\", curr_dim)"
   ]
  },
  {
   "cell_type": "code",
   "execution_count": 8,
   "id": "4b5f5cf0-04db-4434-a303-6679be32837c",
   "metadata": {
    "execution": {
     "iopub.execute_input": "2025-06-01T09:43:18.063435Z",
     "iopub.status.busy": "2025-06-01T09:43:18.060585Z",
     "iopub.status.idle": "2025-06-01T09:43:57.625615Z",
     "shell.execute_reply": "2025-06-01T09:43:57.624457Z",
     "shell.execute_reply.started": "2025-06-01T09:43:18.063373Z"
    },
    "tags": []
   },
   "outputs": [
    {
     "name": "stderr",
     "output_type": "stream",
     "text": [
      "2025-06-01 09:43:23.897893: I tensorflow/core/util/port.cc:110] oneDNN custom operations are on. You may see slightly different numerical results due to floating-point round-off errors from different computation orders. To turn them off, set the environment variable `TF_ENABLE_ONEDNN_OPTS=0`.\n",
      "2025-06-01 09:43:23.960811: I tensorflow/core/platform/cpu_feature_guard.cc:182] This TensorFlow binary is optimized to use available CPU instructions in performance-critical operations.\n",
      "To enable the following instructions: AVX2 AVX512F AVX512_VNNI FMA, in other operations, rebuild TensorFlow with the appropriate compiler flags.\n",
      "2025-06-01 09:43:25.101916: W tensorflow/compiler/tf2tensorrt/utils/py_utils.cc:38] TF-TRT Warning: Could not find TensorRT\n"
     ]
    }
   ],
   "source": [
    "umap_vectors = reduct_sk(corpus_vectors, \"UMAP\", curr_dim)"
   ]
  },
  {
   "cell_type": "code",
   "execution_count": 9,
   "id": "c4b4b7b7-be10-4f5c-b148-04cf41a0e822",
   "metadata": {
    "execution": {
     "iopub.execute_input": "2025-06-01T09:43:57.628994Z",
     "iopub.status.busy": "2025-06-01T09:43:57.627369Z",
     "iopub.status.idle": "2025-06-01T09:44:40.552189Z",
     "shell.execute_reply": "2025-06-01T09:44:40.550808Z",
     "shell.execute_reply.started": "2025-06-01T09:43:57.628957Z"
    },
    "tags": []
   },
   "outputs": [],
   "source": [
    "umap_5_vectors = reduct_sk(corpus_vectors, \"UMAP_5\", curr_dim)"
   ]
  },
  {
   "cell_type": "code",
   "execution_count": 10,
   "id": "e076761c-0e52-4913-abed-527c88b8a136",
   "metadata": {
    "execution": {
     "iopub.execute_input": "2025-06-01T09:44:40.557666Z",
     "iopub.status.busy": "2025-06-01T09:44:40.555956Z",
     "iopub.status.idle": "2025-06-01T09:45:18.151116Z",
     "shell.execute_reply": "2025-06-01T09:45:18.149858Z",
     "shell.execute_reply.started": "2025-06-01T09:44:40.557618Z"
    },
    "tags": []
   },
   "outputs": [],
   "source": [
    "umap_25_vectors = reduct_sk(corpus_vectors, \"UMAP_25\", curr_dim)"
   ]
  },
  {
   "cell_type": "code",
   "execution_count": 11,
   "id": "5ed9ab30-a3fd-4675-bb4f-a319576a604c",
   "metadata": {
    "execution": {
     "iopub.execute_input": "2025-06-01T09:45:18.153914Z",
     "iopub.status.busy": "2025-06-01T09:45:18.152590Z",
     "iopub.status.idle": "2025-06-01T09:45:18.201266Z",
     "shell.execute_reply": "2025-06-01T09:45:18.200131Z",
     "shell.execute_reply.started": "2025-06-01T09:45:18.153867Z"
    },
    "tags": []
   },
   "outputs": [],
   "source": [
    "device = torch.device(\"cuda\" if torch.cuda.is_available() else \"cpu\")"
   ]
  },
  {
   "cell_type": "code",
   "execution_count": 12,
   "id": "b411aac7-4178-443f-9637-3f2f8438e5a8",
   "metadata": {
    "execution": {
     "iopub.execute_input": "2025-06-01T09:45:18.204690Z",
     "iopub.status.busy": "2025-06-01T09:45:18.202769Z",
     "iopub.status.idle": "2025-06-01T09:45:18.216777Z",
     "shell.execute_reply": "2025-06-01T09:45:18.215810Z",
     "shell.execute_reply.started": "2025-06-01T09:45:18.204641Z"
    },
    "tags": []
   },
   "outputs": [],
   "source": [
    "name2model = {\n",
    "    \"LinearAutoencoder\": LinearAutoencoder,\n",
    "    \"AutoEncoder+\": Autoencoder,\n",
    "}"
   ]
  },
  {
   "cell_type": "code",
   "execution_count": 13,
   "id": "1164c567-cb71-42a4-9992-9e92461fc41a",
   "metadata": {
    "execution": {
     "iopub.execute_input": "2025-06-01T09:45:18.219741Z",
     "iopub.status.busy": "2025-06-01T09:45:18.218176Z",
     "iopub.status.idle": "2025-06-01T09:45:18.239787Z",
     "shell.execute_reply": "2025-06-01T09:45:18.238679Z",
     "shell.execute_reply.started": "2025-06-01T09:45:18.219693Z"
    },
    "tags": []
   },
   "outputs": [],
   "source": [
    "def reduct_ae(corpus_embeds, model_name, red_dim, model_kwargs={}):\n",
    "    model_class = name2model[model_name]\n",
    "    red_model = model_class(\n",
    "        input_dim=corpus_embeds.shape[1], output_dim=red_dim, **model_kwargs\n",
    "    )\n",
    "    model_path = ae_model_path_template.format(\n",
    "        corpus_prefix, method_prefix, model_name, red_dim\n",
    "    )\n",
    "    print(model_path)\n",
    "    red_model.load_state_dict(torch.load(model_path, map_location=device))\n",
    "    red_model.to(device)\n",
    "    red_model.eval()\n",
    "    with torch.no_grad():\n",
    "        red_embeddings = red_model.encoder(\n",
    "            torch.tensor(corpus_embeds, dtype=torch.float32)).numpy()\n",
    "    return red_embeddings"
   ]
  },
  {
   "cell_type": "code",
   "execution_count": 14,
   "id": "ce2662f3-a3ed-4172-be81-7c2672d8a23e",
   "metadata": {
    "execution": {
     "iopub.execute_input": "2025-06-01T09:45:18.242608Z",
     "iopub.status.busy": "2025-06-01T09:45:18.241488Z",
     "iopub.status.idle": "2025-06-01T09:45:18.729316Z",
     "shell.execute_reply": "2025-06-01T09:45:18.728139Z",
     "shell.execute_reply.started": "2025-06-01T09:45:18.242573Z"
    },
    "tags": []
   },
   "outputs": [
    {
     "name": "stdout",
     "output_type": "stream",
     "text": [
      "/home/jupyter/work/resources/DiplomDimReduction/data/models/marco/tas_b/LinearAutoencoder_128.pt\n"
     ]
    }
   ],
   "source": [
    "lae_vectors = reduct_ae(corpus_vectors, \"LinearAutoencoder\", curr_dim)"
   ]
  },
  {
   "cell_type": "code",
   "execution_count": 15,
   "id": "d52526c8-038c-4f33-82db-5d8605a57e90",
   "metadata": {
    "execution": {
     "iopub.execute_input": "2025-06-01T09:45:18.732277Z",
     "iopub.status.busy": "2025-06-01T09:45:18.731035Z",
     "iopub.status.idle": "2025-06-01T09:45:19.844654Z",
     "shell.execute_reply": "2025-06-01T09:45:19.843444Z",
     "shell.execute_reply.started": "2025-06-01T09:45:18.732230Z"
    },
    "tags": []
   },
   "outputs": [
    {
     "name": "stdout",
     "output_type": "stream",
     "text": [
      "/home/jupyter/work/resources/DiplomDimReduction/data/models/marco/tas_b/AutoEncoder+_128.pt\n"
     ]
    }
   ],
   "source": [
    "ae_vectors = reduct_ae(corpus_vectors, \"AutoEncoder+\", curr_dim)"
   ]
  },
  {
   "cell_type": "markdown",
   "id": "77f40337-6d10-41a4-a040-d763954dabed",
   "metadata": {},
   "source": [
    "# Тесты"
   ]
  },
  {
   "cell_type": "code",
   "execution_count": 16,
   "id": "985efbe3-ebb9-4824-88f8-93dc62305e17",
   "metadata": {
    "execution": {
     "iopub.execute_input": "2025-06-01T09:45:19.846949Z",
     "iopub.status.busy": "2025-06-01T09:45:19.846053Z",
     "iopub.status.idle": "2025-06-01T09:45:19.862597Z",
     "shell.execute_reply": "2025-06-01T09:45:19.861463Z",
     "shell.execute_reply.started": "2025-06-01T09:45:19.846897Z"
    },
    "tags": []
   },
   "outputs": [],
   "source": [
    "np.random.seed(42)\n",
    "sample_size = 10000\n",
    "indices = np.random.choice(corpus_vectors.shape[0], sample_size, replace=False)"
   ]
  },
  {
   "cell_type": "code",
   "execution_count": 17,
   "id": "c95113ac-24ed-41ee-be40-478edc7fafe9",
   "metadata": {
    "execution": {
     "iopub.execute_input": "2025-06-01T09:45:19.865683Z",
     "iopub.status.busy": "2025-06-01T09:45:19.864082Z",
     "iopub.status.idle": "2025-06-01T09:45:19.925861Z",
     "shell.execute_reply": "2025-06-01T09:45:19.924763Z",
     "shell.execute_reply.started": "2025-06-01T09:45:19.865630Z"
    },
    "tags": []
   },
   "outputs": [],
   "source": [
    "orig_vectors = corpus_vectors[indices]\n",
    "pca_vectors = pca_vectors[indices]\n",
    "umap_vectors = umap_vectors[indices]\n",
    "umap_5_vectors = umap_5_vectors[indices]\n",
    "umap_25_vectors = umap_25_vectors[indices]\n",
    "lae_vectors = lae_vectors[indices]\n",
    "ae_vectors = ae_vectors[indices]"
   ]
  },
  {
   "cell_type": "markdown",
   "id": "23cb20d3-485c-4d7f-9805-923c78d8ddea",
   "metadata": {},
   "source": [
    "## Корреляции"
   ]
  },
  {
   "cell_type": "code",
   "execution_count": 18,
   "id": "e735eb38-06a0-4234-a48c-ce9ee5cbc4ae",
   "metadata": {
    "execution": {
     "iopub.execute_input": "2025-06-01T09:45:19.928454Z",
     "iopub.status.busy": "2025-06-01T09:45:19.927173Z",
     "iopub.status.idle": "2025-06-01T09:45:19.952614Z",
     "shell.execute_reply": "2025-06-01T09:45:19.951494Z",
     "shell.execute_reply.started": "2025-06-01T09:45:19.928413Z"
    },
    "tags": []
   },
   "outputs": [],
   "source": [
    "def flatten_distance_matrix(D):\n",
    "    tril_indices = np.tril_indices_from(D, k=-1)\n",
    "    return D[tril_indices]"
   ]
  },
  {
   "cell_type": "code",
   "execution_count": 19,
   "id": "7fecf6d2-b9e4-47d1-9411-2a21e07a1af4",
   "metadata": {
    "execution": {
     "iopub.execute_input": "2025-06-01T09:45:19.955723Z",
     "iopub.status.busy": "2025-06-01T09:45:19.953932Z",
     "iopub.status.idle": "2025-06-01T09:45:37.411616Z",
     "shell.execute_reply": "2025-06-01T09:45:37.410380Z",
     "shell.execute_reply.started": "2025-06-01T09:45:19.955669Z"
    },
    "tags": []
   },
   "outputs": [],
   "source": [
    "D_orig = flatten_distance_matrix(pairwise_distances(orig_vectors, metric=\"euclidean\"))\n",
    "D_pca = flatten_distance_matrix(pairwise_distances(pca_vectors, metric=\"euclidean\"))\n",
    "D_umap = flatten_distance_matrix(pairwise_distances(umap_vectors, metric=\"euclidean\"))\n",
    "D_umap_5 = flatten_distance_matrix(pairwise_distances(umap_5_vectors, metric=\"euclidean\"))\n",
    "D_umap_25 = flatten_distance_matrix(pairwise_distances(umap_25_vectors, metric=\"euclidean\"))\n",
    "D_lae = flatten_distance_matrix(pairwise_distances(lae_vectors, metric=\"euclidean\"))\n",
    "D_ae = flatten_distance_matrix(pairwise_distances(ae_vectors, metric=\"euclidean\"))"
   ]
  },
  {
   "cell_type": "code",
   "execution_count": 20,
   "id": "e626c7eb-dc38-45aa-bf63-4eee2c0609a0",
   "metadata": {
    "execution": {
     "iopub.execute_input": "2025-06-01T09:45:37.414703Z",
     "iopub.status.busy": "2025-06-01T09:45:37.413040Z",
     "iopub.status.idle": "2025-06-01T09:45:37.457612Z",
     "shell.execute_reply": "2025-06-01T09:45:37.456343Z",
     "shell.execute_reply.started": "2025-06-01T09:45:37.414655Z"
    },
    "tags": []
   },
   "outputs": [],
   "source": [
    "def check_spearman(D_orig, D_new):\n",
    "    # Корреляция Спирмена\n",
    "    corr, p_value = spearmanr(D_orig, D_new)\n",
    "    print(\n",
    "    f\"Spearman correlation between distance matrices: {corr:.4f} (p-value={p_value:.4e})\"\n",
    "    )"
   ]
  },
  {
   "cell_type": "code",
   "execution_count": 21,
   "id": "1bfc506a-7663-40fa-a38c-487df17485a2",
   "metadata": {
    "execution": {
     "iopub.execute_input": "2025-06-01T09:45:37.461677Z",
     "iopub.status.busy": "2025-06-01T09:45:37.459224Z",
     "iopub.status.idle": "2025-06-01T09:46:20.554008Z",
     "shell.execute_reply": "2025-06-01T09:46:20.552792Z",
     "shell.execute_reply.started": "2025-06-01T09:45:37.461621Z"
    },
    "tags": []
   },
   "outputs": [
    {
     "name": "stdout",
     "output_type": "stream",
     "text": [
      "Spearman correlation between distance matrices: 0.8691 (p-value=0.0000e+00)\n"
     ]
    }
   ],
   "source": [
    "check_spearman(D_orig, D_pca)"
   ]
  },
  {
   "cell_type": "code",
   "execution_count": 22,
   "id": "5be6fafe-53f5-41c7-bb29-a2edf7d940f2",
   "metadata": {
    "execution": {
     "iopub.execute_input": "2025-06-01T09:46:20.557175Z",
     "iopub.status.busy": "2025-06-01T09:46:20.555448Z",
     "iopub.status.idle": "2025-06-01T09:47:02.999210Z",
     "shell.execute_reply": "2025-06-01T09:47:02.998021Z",
     "shell.execute_reply.started": "2025-06-01T09:46:20.557118Z"
    },
    "tags": []
   },
   "outputs": [
    {
     "name": "stdout",
     "output_type": "stream",
     "text": [
      "Spearman correlation between distance matrices: 0.2494 (p-value=0.0000e+00)\n"
     ]
    }
   ],
   "source": [
    "check_spearman(D_orig, D_umap)"
   ]
  },
  {
   "cell_type": "code",
   "execution_count": 23,
   "id": "304e083c-00c5-46f8-9119-5538a4c64238",
   "metadata": {
    "execution": {
     "iopub.execute_input": "2025-06-01T09:47:03.001885Z",
     "iopub.status.busy": "2025-06-01T09:47:03.000938Z",
     "iopub.status.idle": "2025-06-01T09:47:45.650604Z",
     "shell.execute_reply": "2025-06-01T09:47:45.649413Z",
     "shell.execute_reply.started": "2025-06-01T09:47:03.001800Z"
    },
    "tags": []
   },
   "outputs": [
    {
     "name": "stdout",
     "output_type": "stream",
     "text": [
      "Spearman correlation between distance matrices: 0.2477 (p-value=0.0000e+00)\n"
     ]
    }
   ],
   "source": [
    "check_spearman(D_orig, D_umap_5)"
   ]
  },
  {
   "cell_type": "code",
   "execution_count": 24,
   "id": "0ebc49f9-35ca-4b83-aba9-b40bc1f6d7db",
   "metadata": {
    "execution": {
     "iopub.execute_input": "2025-06-01T09:47:45.653455Z",
     "iopub.status.busy": "2025-06-01T09:47:45.652124Z",
     "iopub.status.idle": "2025-06-01T09:48:28.478019Z",
     "shell.execute_reply": "2025-06-01T09:48:28.476657Z",
     "shell.execute_reply.started": "2025-06-01T09:47:45.653401Z"
    },
    "tags": []
   },
   "outputs": [
    {
     "name": "stdout",
     "output_type": "stream",
     "text": [
      "Spearman correlation between distance matrices: 0.2545 (p-value=0.0000e+00)\n"
     ]
    }
   ],
   "source": [
    "check_spearman(D_orig, D_umap_25)"
   ]
  },
  {
   "cell_type": "code",
   "execution_count": 25,
   "id": "3c55cc66-04fd-40ec-b111-280b5969b93d",
   "metadata": {
    "execution": {
     "iopub.execute_input": "2025-06-01T09:48:28.481117Z",
     "iopub.status.busy": "2025-06-01T09:48:28.479469Z",
     "iopub.status.idle": "2025-06-01T09:49:10.322423Z",
     "shell.execute_reply": "2025-06-01T09:49:10.321040Z",
     "shell.execute_reply.started": "2025-06-01T09:48:28.481077Z"
    },
    "tags": []
   },
   "outputs": [
    {
     "name": "stdout",
     "output_type": "stream",
     "text": [
      "Spearman correlation between distance matrices: 0.8689 (p-value=0.0000e+00)\n"
     ]
    }
   ],
   "source": [
    "check_spearman(D_orig, D_lae)"
   ]
  },
  {
   "cell_type": "code",
   "execution_count": 26,
   "id": "8aa29aa9-1b8c-4de5-abaa-81cc1750bfa6",
   "metadata": {
    "execution": {
     "iopub.execute_input": "2025-06-01T09:49:10.325183Z",
     "iopub.status.busy": "2025-06-01T09:49:10.324169Z",
     "iopub.status.idle": "2025-06-01T09:49:52.664762Z",
     "shell.execute_reply": "2025-06-01T09:49:52.663629Z",
     "shell.execute_reply.started": "2025-06-01T09:49:10.325143Z"
    },
    "tags": []
   },
   "outputs": [
    {
     "name": "stdout",
     "output_type": "stream",
     "text": [
      "Spearman correlation between distance matrices: 0.6680 (p-value=0.0000e+00)\n"
     ]
    }
   ],
   "source": [
    "check_spearman(D_orig, D_ae)"
   ]
  },
  {
   "cell_type": "markdown",
   "id": "31214f94-ca8e-4d8c-8351-69cf0300babb",
   "metadata": {},
   "source": [
    "## Кластеры"
   ]
  },
  {
   "cell_type": "code",
   "execution_count": 27,
   "id": "23e14c29-6100-4e20-b269-19b69bd0fb44",
   "metadata": {
    "execution": {
     "iopub.execute_input": "2025-06-01T09:49:52.667242Z",
     "iopub.status.busy": "2025-06-01T09:49:52.666406Z",
     "iopub.status.idle": "2025-06-01T09:50:39.073156Z",
     "shell.execute_reply": "2025-06-01T09:50:39.072015Z",
     "shell.execute_reply.started": "2025-06-01T09:49:52.667195Z"
    },
    "tags": []
   },
   "outputs": [
    {
     "name": "stderr",
     "output_type": "stream",
     "text": [
      "  0%|          | 0/7 [00:00<?, ?it/s]/usr/local/lib/python3.10/dist-packages/sklearn/cluster/_kmeans.py:870: FutureWarning: The default value of `n_init` will change from 10 to 'auto' in 1.4. Set the value of `n_init` explicitly to suppress the warning\n",
      "  warnings.warn(\n",
      " 14%|█▍        | 1/7 [00:04<00:26,  4.45s/it]/usr/local/lib/python3.10/dist-packages/sklearn/cluster/_kmeans.py:870: FutureWarning: The default value of `n_init` will change from 10 to 'auto' in 1.4. Set the value of `n_init` explicitly to suppress the warning\n",
      "  warnings.warn(\n",
      " 29%|██▊       | 2/7 [00:08<00:22,  4.46s/it]/usr/local/lib/python3.10/dist-packages/sklearn/cluster/_kmeans.py:870: FutureWarning: The default value of `n_init` will change from 10 to 'auto' in 1.4. Set the value of `n_init` explicitly to suppress the warning\n",
      "  warnings.warn(\n",
      " 43%|████▎     | 3/7 [00:14<00:19,  4.86s/it]/usr/local/lib/python3.10/dist-packages/sklearn/cluster/_kmeans.py:870: FutureWarning: The default value of `n_init` will change from 10 to 'auto' in 1.4. Set the value of `n_init` explicitly to suppress the warning\n",
      "  warnings.warn(\n",
      " 57%|█████▋    | 4/7 [00:20<00:16,  5.51s/it]/usr/local/lib/python3.10/dist-packages/sklearn/cluster/_kmeans.py:870: FutureWarning: The default value of `n_init` will change from 10 to 'auto' in 1.4. Set the value of `n_init` explicitly to suppress the warning\n",
      "  warnings.warn(\n",
      " 71%|███████▏  | 5/7 [00:29<00:13,  6.59s/it]/usr/local/lib/python3.10/dist-packages/sklearn/cluster/_kmeans.py:870: FutureWarning: The default value of `n_init` will change from 10 to 'auto' in 1.4. Set the value of `n_init` explicitly to suppress the warning\n",
      "  warnings.warn(\n",
      " 86%|████████▌ | 6/7 [00:37<00:07,  7.20s/it]/usr/local/lib/python3.10/dist-packages/sklearn/cluster/_kmeans.py:870: FutureWarning: The default value of `n_init` will change from 10 to 'auto' in 1.4. Set the value of `n_init` explicitly to suppress the warning\n",
      "  warnings.warn(\n",
      "100%|██████████| 7/7 [00:46<00:00,  6.62s/it]\n"
     ]
    }
   ],
   "source": [
    "# inertia = []\n",
    "# ks = range(3, 10)\n",
    "# for k in tqdm(ks):\n",
    "#     kmeans = KMeans(n_clusters=k, random_state=42).fit(orig_vectors)\n",
    "#     inertia.append(kmeans.inertia_)"
   ]
  },
  {
   "cell_type": "code",
   "execution_count": 28,
   "id": "04fb5ffb-a4ff-4107-b6c1-aa9fea8f3de8",
   "metadata": {
    "execution": {
     "iopub.execute_input": "2025-06-01T09:50:39.080025Z",
     "iopub.status.busy": "2025-06-01T09:50:39.078782Z",
     "iopub.status.idle": "2025-06-01T09:50:39.741514Z",
     "shell.execute_reply": "2025-06-01T09:50:39.740027Z",
     "shell.execute_reply.started": "2025-06-01T09:50:39.079980Z"
    },
    "tags": []
   },
   "outputs": [
    {
     "data": {
      "image/png": "[encoded data removed]",
      "text/plain": [
       "<Figure size 640x480 with 1 Axes>"
      ]
     },
     "metadata": {},
     "output_type": "display_data"
    }
   ],
   "source": [
    "# plt.plot(ks, inertia, \"bx-\")\n",
    "# plt.xlabel(\"Количество кластеров k\")\n",
    "# plt.ylabel(\"Инерция\")\n",
    "# plt.title(\"Метод локтя для выбора k\")\n",
    "# plt.show()"
   ]
  },
  {
   "cell_type": "code",
   "execution_count": 29,
   "id": "7291b395-2da2-4e6a-99e4-22133ea2762d",
   "metadata": {
    "execution": {
     "iopub.execute_input": "2025-06-01T09:50:39.745286Z",
     "iopub.status.busy": "2025-06-01T09:50:39.743935Z",
     "iopub.status.idle": "2025-06-01T09:50:39.764513Z",
     "shell.execute_reply": "2025-06-01T09:50:39.763385Z",
     "shell.execute_reply.started": "2025-06-01T09:50:39.745234Z"
    },
    "tags": []
   },
   "outputs": [],
   "source": [
    "k = 6"
   ]
  },
  {
   "cell_type": "code",
   "execution_count": 30,
   "id": "2237869e-f5f7-4dca-b4f2-389ddaa39148",
   "metadata": {
    "execution": {
     "iopub.execute_input": "2025-06-01T09:50:39.767853Z",
     "iopub.status.busy": "2025-06-01T09:50:39.766752Z",
     "iopub.status.idle": "2025-06-01T09:50:46.227732Z",
     "shell.execute_reply": "2025-06-01T09:50:46.226524Z",
     "shell.execute_reply.started": "2025-06-01T09:50:39.767805Z"
    },
    "tags": []
   },
   "outputs": [
    {
     "name": "stderr",
     "output_type": "stream",
     "text": [
      "/usr/local/lib/python3.10/dist-packages/sklearn/cluster/_kmeans.py:870: FutureWarning: The default value of `n_init` will change from 10 to 'auto' in 1.4. Set the value of `n_init` explicitly to suppress the warning\n",
      "  warnings.warn(\n"
     ]
    }
   ],
   "source": [
    "kmeans_orig = KMeans(n_clusters=k, random_state=42).fit(orig_vectors)"
   ]
  },
  {
   "cell_type": "code",
   "execution_count": 31,
   "id": "69894d04-c400-4a01-b53d-00a6f5b56ceb",
   "metadata": {
    "execution": {
     "iopub.execute_input": "2025-06-01T09:50:46.230648Z",
     "iopub.status.busy": "2025-06-01T09:50:46.229393Z",
     "iopub.status.idle": "2025-06-01T09:50:48.513727Z",
     "shell.execute_reply": "2025-06-01T09:50:48.512597Z",
     "shell.execute_reply.started": "2025-06-01T09:50:46.230597Z"
    },
    "tags": []
   },
   "outputs": [
    {
     "name": "stderr",
     "output_type": "stream",
     "text": [
      "/usr/local/lib/python3.10/dist-packages/sklearn/cluster/_kmeans.py:870: FutureWarning: The default value of `n_init` will change from 10 to 'auto' in 1.4. Set the value of `n_init` explicitly to suppress the warning\n",
      "  warnings.warn(\n"
     ]
    }
   ],
   "source": [
    "kmeans_pca = KMeans(n_clusters=k, random_state=42).fit(pca_vectors)"
   ]
  },
  {
   "cell_type": "code",
   "execution_count": 32,
   "id": "da75e68e-95f4-4b1a-9b28-f8d53d9a1ebe",
   "metadata": {
    "execution": {
     "iopub.execute_input": "2025-06-01T09:50:48.515914Z",
     "iopub.status.busy": "2025-06-01T09:50:48.515168Z",
     "iopub.status.idle": "2025-06-01T09:50:50.466402Z",
     "shell.execute_reply": "2025-06-01T09:50:50.465213Z",
     "shell.execute_reply.started": "2025-06-01T09:50:48.515864Z"
    },
    "tags": []
   },
   "outputs": [
    {
     "name": "stderr",
     "output_type": "stream",
     "text": [
      "/usr/local/lib/python3.10/dist-packages/sklearn/cluster/_kmeans.py:870: FutureWarning: The default value of `n_init` will change from 10 to 'auto' in 1.4. Set the value of `n_init` explicitly to suppress the warning\n",
      "  warnings.warn(\n"
     ]
    }
   ],
   "source": [
    "kmeans_umap = KMeans(n_clusters=k, random_state=42).fit(umap_vectors)"
   ]
  },
  {
   "cell_type": "code",
   "execution_count": 33,
   "id": "ee4cda75-ca23-43e1-bc52-278ee2d7d50b",
   "metadata": {
    "execution": {
     "iopub.execute_input": "2025-06-01T09:50:50.470427Z",
     "iopub.status.busy": "2025-06-01T09:50:50.468271Z",
     "iopub.status.idle": "2025-06-01T09:50:52.403630Z",
     "shell.execute_reply": "2025-06-01T09:50:52.402427Z",
     "shell.execute_reply.started": "2025-06-01T09:50:50.470375Z"
    },
    "tags": []
   },
   "outputs": [
    {
     "name": "stderr",
     "output_type": "stream",
     "text": [
      "/usr/local/lib/python3.10/dist-packages/sklearn/cluster/_kmeans.py:870: FutureWarning: The default value of `n_init` will change from 10 to 'auto' in 1.4. Set the value of `n_init` explicitly to suppress the warning\n",
      "  warnings.warn(\n"
     ]
    }
   ],
   "source": [
    "kmeans_umap_5 = KMeans(n_clusters=k, random_state=42).fit(umap_5_vectors)"
   ]
  },
  {
   "cell_type": "code",
   "execution_count": 34,
   "id": "67e26c55-d2e9-42ed-9079-3b6de3590ecf",
   "metadata": {
    "execution": {
     "iopub.execute_input": "2025-06-01T09:50:52.406362Z",
     "iopub.status.busy": "2025-06-01T09:50:52.405327Z",
     "iopub.status.idle": "2025-06-01T09:50:54.356213Z",
     "shell.execute_reply": "2025-06-01T09:50:54.354991Z",
     "shell.execute_reply.started": "2025-06-01T09:50:52.406314Z"
    },
    "tags": []
   },
   "outputs": [
    {
     "name": "stderr",
     "output_type": "stream",
     "text": [
      "/usr/local/lib/python3.10/dist-packages/sklearn/cluster/_kmeans.py:870: FutureWarning: The default value of `n_init` will change from 10 to 'auto' in 1.4. Set the value of `n_init` explicitly to suppress the warning\n",
      "  warnings.warn(\n"
     ]
    }
   ],
   "source": [
    "kmeans_umap_25 = KMeans(n_clusters=k, random_state=42).fit(umap_25_vectors)"
   ]
  },
  {
   "cell_type": "code",
   "execution_count": 35,
   "id": "061d88a3-450f-4952-8bec-0b3ab3ff5888",
   "metadata": {
    "execution": {
     "iopub.execute_input": "2025-06-01T09:50:54.359242Z",
     "iopub.status.busy": "2025-06-01T09:50:54.357693Z",
     "iopub.status.idle": "2025-06-01T09:50:57.067763Z",
     "shell.execute_reply": "2025-06-01T09:50:57.066608Z",
     "shell.execute_reply.started": "2025-06-01T09:50:54.359195Z"
    },
    "tags": []
   },
   "outputs": [
    {
     "name": "stderr",
     "output_type": "stream",
     "text": [
      "/usr/local/lib/python3.10/dist-packages/sklearn/cluster/_kmeans.py:870: FutureWarning: The default value of `n_init` will change from 10 to 'auto' in 1.4. Set the value of `n_init` explicitly to suppress the warning\n",
      "  warnings.warn(\n"
     ]
    }
   ],
   "source": [
    "kmeans_lae = KMeans(n_clusters=k, random_state=42).fit(lae_vectors)"
   ]
  },
  {
   "cell_type": "code",
   "execution_count": 36,
   "id": "67dd12cd-4e3a-4815-9fbd-d3958d6b52f0",
   "metadata": {
    "execution": {
     "iopub.execute_input": "2025-06-01T09:50:57.071140Z",
     "iopub.status.busy": "2025-06-01T09:50:57.069218Z",
     "iopub.status.idle": "2025-06-01T09:50:59.897208Z",
     "shell.execute_reply": "2025-06-01T09:50:59.896055Z",
     "shell.execute_reply.started": "2025-06-01T09:50:57.071091Z"
    },
    "tags": []
   },
   "outputs": [
    {
     "name": "stderr",
     "output_type": "stream",
     "text": [
      "/usr/local/lib/python3.10/dist-packages/sklearn/cluster/_kmeans.py:870: FutureWarning: The default value of `n_init` will change from 10 to 'auto' in 1.4. Set the value of `n_init` explicitly to suppress the warning\n",
      "  warnings.warn(\n"
     ]
    }
   ],
   "source": [
    "kmeans_ae = KMeans(n_clusters=k, random_state=42).fit(ae_vectors)"
   ]
  },
  {
   "cell_type": "code",
   "execution_count": 37,
   "id": "1bb3f271-5264-429a-aaf6-428ce52b3f46",
   "metadata": {
    "execution": {
     "iopub.execute_input": "2025-06-01T09:50:59.900216Z",
     "iopub.status.busy": "2025-06-01T09:50:59.898962Z",
     "iopub.status.idle": "2025-06-01T09:50:59.917224Z",
     "shell.execute_reply": "2025-06-01T09:50:59.916191Z",
     "shell.execute_reply.started": "2025-06-01T09:50:59.900168Z"
    },
    "tags": []
   },
   "outputs": [],
   "source": [
    "def check_kmeans(kmeans_orig, kmeans_red):  \n",
    "    labels_orig = kmeans_orig.labels_\n",
    "    labels_red = kmeans_red.labels_\n",
    "    \n",
    "    ari = adjusted_rand_score(labels_orig, labels_red)\n",
    "    nmi = normalized_mutual_info_score(labels_orig, labels_red)\n",
    "    \n",
    "    print(f\"Adjusted Rand Index (ARI) between clusterings: {ari:.4f}\")\n",
    "    print(f\"Normalized Mutual Information (NMI) between clusterings: {nmi:.4f}\")"
   ]
  },
  {
   "cell_type": "markdown",
   "id": "4dc668e8-2fd3-4311-86b3-ae092f2a584f",
   "metadata": {},
   "source": [
    "* ARI > 0.7 и NMI > 0.7 — очень хорошее совпадение, глобальная структура почти полностью сохранена.\n",
    "* ARI ≈ 0.4–0.7, NMI ≈ 0.4–0.7 — умеренное совпадение, часть глобальной структуры сохранена, но есть и искажения.\n",
    "* ARI < 0.4, NMI < 0.4 — слабое совпадение, глобальная структура практически не сохранена."
   ]
  },
  {
   "cell_type": "code",
   "execution_count": 38,
   "id": "ee03cb93-a664-4d22-bdfa-14c69718b83d",
   "metadata": {
    "execution": {
     "iopub.execute_input": "2025-06-01T09:50:59.921057Z",
     "iopub.status.busy": "2025-06-01T09:50:59.919194Z",
     "iopub.status.idle": "2025-06-01T09:50:59.952452Z",
     "shell.execute_reply": "2025-06-01T09:50:59.951333Z",
     "shell.execute_reply.started": "2025-06-01T09:50:59.921018Z"
    },
    "tags": []
   },
   "outputs": [
    {
     "name": "stdout",
     "output_type": "stream",
     "text": [
      "Adjusted Rand Index (ARI) between clusterings: 0.9771\n",
      "Normalized Mutual Information (NMI) between clusterings: 0.9638\n"
     ]
    }
   ],
   "source": [
    "check_kmeans(kmeans_orig, kmeans_pca)"
   ]
  },
  {
   "cell_type": "code",
   "execution_count": 39,
   "id": "64b6e0d4-53c6-43fd-8ed1-6c32557b6afa",
   "metadata": {
    "execution": {
     "iopub.execute_input": "2025-06-01T09:50:59.955042Z",
     "iopub.status.busy": "2025-06-01T09:50:59.953775Z",
     "iopub.status.idle": "2025-06-01T09:50:59.985649Z",
     "shell.execute_reply": "2025-06-01T09:50:59.984484Z",
     "shell.execute_reply.started": "2025-06-01T09:50:59.954996Z"
    },
    "tags": []
   },
   "outputs": [
    {
     "name": "stdout",
     "output_type": "stream",
     "text": [
      "Adjusted Rand Index (ARI) between clusterings: 0.1493\n",
      "Normalized Mutual Information (NMI) between clusterings: 0.2439\n"
     ]
    }
   ],
   "source": [
    "check_kmeans(kmeans_orig, kmeans_umap)"
   ]
  },
  {
   "cell_type": "code",
   "execution_count": 40,
   "id": "e8e8e55d-8c96-4d94-90eb-374e95514933",
   "metadata": {
    "execution": {
     "iopub.execute_input": "2025-06-01T09:50:59.988644Z",
     "iopub.status.busy": "2025-06-01T09:50:59.987163Z",
     "iopub.status.idle": "2025-06-01T09:51:00.085898Z",
     "shell.execute_reply": "2025-06-01T09:51:00.084665Z",
     "shell.execute_reply.started": "2025-06-01T09:50:59.988590Z"
    },
    "tags": []
   },
   "outputs": [
    {
     "name": "stdout",
     "output_type": "stream",
     "text": [
      "Adjusted Rand Index (ARI) between clusterings: 0.1598\n",
      "Normalized Mutual Information (NMI) between clusterings: 0.2518\n"
     ]
    }
   ],
   "source": [
    "check_kmeans(kmeans_orig, kmeans_umap_5)"
   ]
  },
  {
   "cell_type": "code",
   "execution_count": 41,
   "id": "006728a9-05cc-435a-b713-743d8665e3d2",
   "metadata": {
    "execution": {
     "iopub.execute_input": "2025-06-01T09:51:00.088674Z",
     "iopub.status.busy": "2025-06-01T09:51:00.087220Z",
     "iopub.status.idle": "2025-06-01T09:51:00.122552Z",
     "shell.execute_reply": "2025-06-01T09:51:00.121147Z",
     "shell.execute_reply.started": "2025-06-01T09:51:00.088622Z"
    },
    "tags": []
   },
   "outputs": [
    {
     "name": "stdout",
     "output_type": "stream",
     "text": [
      "Adjusted Rand Index (ARI) between clusterings: 0.1526\n",
      "Normalized Mutual Information (NMI) between clusterings: 0.2492\n"
     ]
    }
   ],
   "source": [
    "check_kmeans(kmeans_orig, kmeans_umap_25)"
   ]
  },
  {
   "cell_type": "code",
   "execution_count": 42,
   "id": "729e28e2-6f83-4867-842e-a27d179f35e8",
   "metadata": {
    "execution": {
     "iopub.execute_input": "2025-06-01T09:51:00.126006Z",
     "iopub.status.busy": "2025-06-01T09:51:00.124599Z",
     "iopub.status.idle": "2025-06-01T09:51:00.169762Z",
     "shell.execute_reply": "2025-06-01T09:51:00.168413Z",
     "shell.execute_reply.started": "2025-06-01T09:51:00.125965Z"
    },
    "tags": []
   },
   "outputs": [
    {
     "name": "stdout",
     "output_type": "stream",
     "text": [
      "Adjusted Rand Index (ARI) between clusterings: 0.8129\n",
      "Normalized Mutual Information (NMI) between clusterings: 0.7947\n"
     ]
    }
   ],
   "source": [
    "check_kmeans(kmeans_orig, kmeans_lae)"
   ]
  },
  {
   "cell_type": "code",
   "execution_count": 43,
   "id": "673c689e-8155-406b-8a25-831b15c82fc6",
   "metadata": {
    "execution": {
     "iopub.execute_input": "2025-06-01T09:51:00.172049Z",
     "iopub.status.busy": "2025-06-01T09:51:00.171364Z",
     "iopub.status.idle": "2025-06-01T09:51:00.223964Z",
     "shell.execute_reply": "2025-06-01T09:51:00.222787Z",
     "shell.execute_reply.started": "2025-06-01T09:51:00.172001Z"
    },
    "tags": []
   },
   "outputs": [
    {
     "name": "stdout",
     "output_type": "stream",
     "text": [
      "Adjusted Rand Index (ARI) between clusterings: 0.4156\n",
      "Normalized Mutual Information (NMI) between clusterings: 0.4957\n"
     ]
    }
   ],
   "source": [
    "check_kmeans(kmeans_orig, kmeans_ae)"
   ]
  },
  {
   "cell_type": "markdown",
   "id": "eb519664-6a89-4c66-8a74-c9820537b97e",
   "metadata": {},
   "source": [
    "### Сами кластеры"
   ]
  },
  {
   "cell_type": "code",
   "execution_count": 44,
   "id": "18aff75e-c703-437c-9f89-383cf0a807b0",
   "metadata": {
    "execution": {
     "iopub.execute_input": "2025-06-01T09:51:00.226766Z",
     "iopub.status.busy": "2025-06-01T09:51:00.225268Z",
     "iopub.status.idle": "2025-06-01T09:51:00.262501Z",
     "shell.execute_reply": "2025-06-01T09:51:00.261281Z",
     "shell.execute_reply.started": "2025-06-01T09:51:00.226721Z"
    },
    "tags": []
   },
   "outputs": [],
   "source": [
    "# texts = [corpus_mapping['i2text'][str(i)] for i in indices]"
   ]
  },
  {
   "cell_type": "code",
   "execution_count": 45,
   "id": "2f58563e-9f4f-415b-b663-972961a899ca",
   "metadata": {
    "execution": {
     "iopub.execute_input": "2025-06-01T09:51:00.265919Z",
     "iopub.status.busy": "2025-06-01T09:51:00.264483Z",
     "iopub.status.idle": "2025-06-01T09:51:00.318274Z",
     "shell.execute_reply": "2025-06-01T09:51:00.316946Z",
     "shell.execute_reply.started": "2025-06-01T09:51:00.265868Z"
    },
    "tags": []
   },
   "outputs": [],
   "source": [
    "def get_clusters(kmeans):\n",
    "    clusters = defaultdict(list)\n",
    "\n",
    "    labels = kmeans.labels_\n",
    "    for doc, label in zip(texts, labels):\n",
    "        clusters[label].append(doc)\n",
    "        \n",
    "    for cluster_id, docs_in_cluster in clusters.items():\n",
    "        print(f\"Кластер {cluster_id} (всего {len(docs_in_cluster)} документов):\")\n",
    "        for doc in random.sample(docs_in_cluster, 5):\n",
    "            print(f\"  - {doc}\")\n",
    "        print()\n",
    "        \n",
    "    return clusters"
   ]
  },
  {
   "cell_type": "code",
   "execution_count": 46,
   "id": "db566275-d624-4e51-9655-8653cf084789",
   "metadata": {
    "execution": {
     "iopub.execute_input": "2025-06-01T09:51:00.321754Z",
     "iopub.status.busy": "2025-06-01T09:51:00.319815Z",
     "iopub.status.idle": "2025-06-01T09:51:00.357510Z",
     "shell.execute_reply": "2025-06-01T09:51:00.356351Z",
     "shell.execute_reply.started": "2025-06-01T09:51:00.321704Z"
    },
    "tags": []
   },
   "outputs": [],
   "source": [
    "# orig_clusters = get_clusters(kmeans_orig)"
   ]
  },
  {
   "cell_type": "code",
   "execution_count": 47,
   "id": "f84140e1-0bbc-4460-b942-4bb5d812fe49",
   "metadata": {
    "execution": {
     "iopub.execute_input": "2025-06-01T09:51:00.360617Z",
     "iopub.status.busy": "2025-06-01T09:51:00.359503Z",
     "iopub.status.idle": "2025-06-01T09:51:00.485259Z",
     "shell.execute_reply": "2025-06-01T09:51:00.483979Z",
     "shell.execute_reply.started": "2025-06-01T09:51:00.360579Z"
    }
   },
   "outputs": [
    {
     "data": {
      "text/plain": [
       "8"
      ]
     },
     "execution_count": 47,
     "metadata": {},
     "output_type": "execute_result"
    }
   ],
   "source": [
    "8"
   ]
  },
  {
   "cell_type": "code",
   "execution_count": null,
   "id": "e331cf59-7624-4d80-b792-2173312b8f4e",
   "metadata": {},
   "outputs": [],
   "source": []
  }
 ],
 "metadata": {
  "kernelspec": {
   "display_name": "DataSphere Kernel",
   "language": "python",
   "name": "python3"
  },
  "language_info": {
   "codemirror_mode": {
    "name": "ipython",
    "version": 3
   },
   "file_extension": ".py",
   "mimetype": "text/x-python",
   "name": "python",
   "nbconvert_exporter": "python",
   "pygments_lexer": "ipython3",
   "version": "3.10.12"
  }
 },
 "nbformat": 4,
 "nbformat_minor": 5
}
