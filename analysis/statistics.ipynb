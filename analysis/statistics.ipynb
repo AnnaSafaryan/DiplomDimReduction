{
 "cells": [
  {
   "cell_type": "code",
   "execution_count": 1,
   "id": "3c11b6e2-6458-475f-97e7-0e9bd8b1d70b",
   "metadata": {
    "execution": {
     "iopub.execute_input": "2025-05-31T16:10:14.413297Z",
     "iopub.status.busy": "2025-05-31T16:10:14.412095Z",
     "iopub.status.idle": "2025-05-31T16:10:17.484166Z",
     "shell.execute_reply": "2025-05-31T16:10:17.482867Z",
     "shell.execute_reply.started": "2025-05-31T16:10:14.413241Z"
    },
    "tags": []
   },
   "outputs": [],
   "source": [
    "import sys\n",
    "\n",
    "sys.path.append(\"/home/jupyter/work/resources/DiplomDimReduction/\")\n",
    "import importlib\n",
    "\n",
    "import config\n",
    "\n",
    "importlib.reload(config)\n",
    "import utils\n",
    "from config import config_dict\n",
    "\n",
    "importlib.reload(utils)\n",
    "from itertools import combinations\n",
    "\n",
    "import matplotlib.pyplot as plt\n",
    "import numpy as np\n",
    "import pandas as pd\n",
    "import seaborn as sns\n",
    "from scipy.stats import friedmanchisquare, wilcoxon\n",
    "from sklearn.metrics import ndcg_score\n",
    "from statsmodels.stats.multitest import multipletests\n",
    "from utils import create_path, load_metrics"
   ]
  },
  {
   "cell_type": "code",
   "execution_count": 164,
   "id": "8394cbb0-39d7-4681-bf22-410d02d7d607",
   "metadata": {
    "execution": {
     "iopub.execute_input": "2025-05-31T17:43:25.267350Z",
     "iopub.status.busy": "2025-05-31T17:43:25.265786Z",
     "iopub.status.idle": "2025-05-31T17:43:25.294374Z",
     "shell.execute_reply": "2025-05-31T17:43:25.293288Z",
     "shell.execute_reply.started": "2025-05-31T17:43:25.267295Z"
    },
    "tags": []
   },
   "outputs": [],
   "source": [
    "red_dims = [512, 256, 128, 64]\n",
    "current_dim = 256"
   ]
  },
  {
   "cell_type": "code",
   "execution_count": 165,
   "id": "bb342c02-5b8c-4214-9bd2-35244dd10a0b",
   "metadata": {
    "execution": {
     "iopub.execute_input": "2025-05-31T17:43:25.479473Z",
     "iopub.status.busy": "2025-05-31T17:43:25.478384Z",
     "iopub.status.idle": "2025-05-31T17:43:25.537717Z",
     "shell.execute_reply": "2025-05-31T17:43:25.536586Z",
     "shell.execute_reply.started": "2025-05-31T17:43:25.479426Z"
    },
    "tags": []
   },
   "outputs": [],
   "source": [
    "# model_name = config_dict[\"dpr_model\"]\n",
    "# method_prefix = config_dict[\"dpr_prefix\"]\n",
    "\n",
    "# model_name = config_dict['ance_model']\n",
    "# method_prefix = config_dict['ance_prefix']\n",
    "\n",
    "model_name = config_dict[\"tas-b_model\"]\n",
    "method_prefix = config_dict[\"tas-b_prefix\"]\n",
    "\n",
    "# model_name = config_dict['s-bert_model']\n",
    "# method_prefix = config_dict['s-bert_prefix']\n",
    "\n",
    "corpus_prefix = config_dict[\"marco_prefix\"]\n",
    "\n",
    "ndcgs_path_template = config_dict[\"ndcgs_template\"]\n",
    "\n",
    "boxplot_all_path = config_dict[\"boxplot_all_template\"].format(\n",
    "    corpus_prefix, method_prefix, current_dim\n",
    ")\n",
    "\n",
    "boxplot_umaps_path = config_dict[\"boxplot_umaps_template\"].format(\n",
    "    corpus_prefix, method_prefix, current_dim\n",
    ")"
   ]
  },
  {
   "cell_type": "code",
   "execution_count": 166,
   "id": "2582364e-42c6-421e-a583-b72a9b31eea8",
   "metadata": {
    "execution": {
     "iopub.execute_input": "2025-05-31T17:43:25.764010Z",
     "iopub.status.busy": "2025-05-31T17:43:25.762317Z",
     "iopub.status.idle": "2025-05-31T17:43:25.776134Z",
     "shell.execute_reply": "2025-05-31T17:43:25.775091Z",
     "shell.execute_reply.started": "2025-05-31T17:43:25.763953Z"
    },
    "tags": []
   },
   "outputs": [],
   "source": [
    "methods = [\"PCA\", \"UMAP\", \"UMAP_5\", \"UMAP_25\", \"LinearAutoencoder\", \"AutoEncoder+\"]\n",
    "main = [\"PCA\", \"UMAP\", \"LinearAutoencoder\", \"AutoEncoder+\"]\n",
    "umaps = [\"UMAP\", \"UMAP_5\", \"UMAP_25\"]"
   ]
  },
  {
   "cell_type": "code",
   "execution_count": 167,
   "id": "481d3c6e-cb34-4ded-b926-391c4cae106a",
   "metadata": {
    "execution": {
     "iopub.execute_input": "2025-05-31T17:43:25.962164Z",
     "iopub.status.busy": "2025-05-31T17:43:25.960711Z",
     "iopub.status.idle": "2025-05-31T17:43:26.044600Z",
     "shell.execute_reply": "2025-05-31T17:43:26.043358Z",
     "shell.execute_reply.started": "2025-05-31T17:43:25.962104Z"
    },
    "tags": []
   },
   "outputs": [
    {
     "name": "stdout",
     "output_type": "stream",
     "text": [
      "512\n",
      "all: statistic=45.50155520995337, pvalue=1.1471711127930146e-08\n",
      "main: statistic=16.04854368932041, pvalue=0.0011082912868490519\n",
      "umap: statistic=1.8732394366197054, pvalue=0.3919505017110401\n",
      "256\n",
      "all: statistic=57.74806201550387, pvalue=3.545297812013426e-11\n",
      "main: statistic=18.636075949367058, pvalue=0.00032509484798081756\n",
      "umap: statistic=5.465753424657497, pvalue=0.06503194213514507\n",
      "128\n",
      "all: statistic=40.35222052067381, pvalue=1.2679947616885938e-07\n",
      "main: statistic=16.91304347826085, pvalue=0.0007364487053090755\n",
      "umap: statistic=1.581081081081118, pvalue=0.4535995400625503\n",
      "64\n",
      "all: statistic=25.660583941605875, pvalue=0.00010382885981626594\n",
      "main: statistic=12.42737430167591, pvalue=0.006053751567419508\n",
      "umap: statistic=1.7051282051281933, pvalue=0.4263204000714581\n"
     ]
    }
   ],
   "source": [
    "dims_ndcgs = {}\n",
    "\n",
    "for red_dim in red_dims:\n",
    "    print(red_dim)\n",
    "    dim_ndcgs = {}\n",
    "\n",
    "    for method in methods:\n",
    "        ndcgs_path = ndcgs_path_template.format(corpus_prefix, method_prefix, method)\n",
    "        ndcgs = load_metrics(ndcgs_path)\n",
    "        dim_ndcgs[method] = ndcgs[str(red_dim)][\"ndcgs\"]\n",
    "\n",
    "    statistic, pvalue = friedmanchisquare(*[dim_ndcgs[method] for method in methods])\n",
    "    print(f\"all: statistic={statistic}, pvalue={pvalue}\")\n",
    "\n",
    "    statistic, pvalue = friedmanchisquare(*[dim_ndcgs[method] for method in main])\n",
    "    print(f\"main: statistic={statistic}, pvalue={pvalue}\")\n",
    "\n",
    "    statistic, pvalue = friedmanchisquare(*[dim_ndcgs[method] for method in umaps])\n",
    "    print(f\"umap: statistic={statistic}, pvalue={pvalue}\")\n",
    "\n",
    "    dims_ndcgs[red_dim] = dim_ndcgs"
   ]
  },
  {
   "cell_type": "code",
   "execution_count": 168,
   "id": "c21b1916-09be-4bc9-b011-37bf382ecbba",
   "metadata": {
    "execution": {
     "iopub.execute_input": "2025-05-31T17:43:26.793507Z",
     "iopub.status.busy": "2025-05-31T17:43:26.792358Z",
     "iopub.status.idle": "2025-05-31T17:43:26.811604Z",
     "shell.execute_reply": "2025-05-31T17:43:26.810435Z",
     "shell.execute_reply.started": "2025-05-31T17:43:26.793449Z"
    },
    "tags": []
   },
   "outputs": [],
   "source": [
    "def compare_pairs(df, columns=[], correct=False):\n",
    "    if not columns:\n",
    "        columns = df.columns\n",
    "\n",
    "    pairs = list(combinations(columns, 2))\n",
    "    p_values = []\n",
    "    comparisons = []\n",
    "    reject = []\n",
    "\n",
    "    for m1, m2 in pairs:\n",
    "        stat, pval = wilcoxon(df[m1], df[m2])\n",
    "        p_values.append(pval)\n",
    "        comparisons.append(f\"{m1} vs {m2}\")\n",
    "        if pval > 0.05:  # TODO: a ровно?\n",
    "            reject.append(False)\n",
    "        else:\n",
    "            reject.append(True)\n",
    "\n",
    "    print(\"Попарные сравнения Wilcoxon без поправки\")\n",
    "    for comp, pval, rej in zip(comparisons, p_values, reject):\n",
    "        print(f\"{comp}: raw p = {pval:.5f}, reject H0: {rej}\")\n",
    "\n",
    "    if len(columns) > 2:\n",
    "        correct = True\n",
    "\n",
    "    if correct:\n",
    "        print()\n",
    "\n",
    "        reject, p_corrected, _, _ = multipletests(p_values, method=\"holm\")\n",
    "        print(\"Попарные сравнения Wilcoxon с поправкой Holm:\")\n",
    "        for comp, p_corr, rej in zip(comparisons, p_corrected, reject):\n",
    "            print(f\"{comp}: corrected p = {p_corr:.5f}, reject H0: {rej}\")\n",
    "\n",
    "        print()\n",
    "\n",
    "        reject, p_corrected, _, _ = multipletests(p_values, method=\"fdr_bh\")\n",
    "        print(\"Попарные сравнения Wilcoxon с поправкой Benjamini–Hochberg:\")\n",
    "        for comp, p_corr, rej in zip(comparisons, p_corrected, reject):\n",
    "            print(f\"{comp}: corrected p = {p_corr:.5f}, reject H0: {rej}\")"
   ]
  },
  {
   "cell_type": "code",
   "execution_count": 169,
   "id": "7f37c9e7-d882-4d3f-a865-fb9554733b74",
   "metadata": {
    "execution": {
     "iopub.execute_input": "2025-05-31T17:43:27.399764Z",
     "iopub.status.busy": "2025-05-31T17:43:27.398171Z",
     "iopub.status.idle": "2025-05-31T17:43:27.439950Z",
     "shell.execute_reply": "2025-05-31T17:43:27.438929Z",
     "shell.execute_reply.started": "2025-05-31T17:43:27.399701Z"
    },
    "tags": []
   },
   "outputs": [
    {
     "data": {
      "text/html": [
       "<div>\n",
       "<style scoped>\n",
       "    .dataframe tbody tr th:only-of-type {\n",
       "        vertical-align: middle;\n",
       "    }\n",
       "\n",
       "    .dataframe tbody tr th {\n",
       "        vertical-align: top;\n",
       "    }\n",
       "\n",
       "    .dataframe thead th {\n",
       "        text-align: right;\n",
       "    }\n",
       "</style>\n",
       "<table border=\"1\" class=\"dataframe\">\n",
       "  <thead>\n",
       "    <tr style=\"text-align: right;\">\n",
       "      <th></th>\n",
       "      <th>PCA</th>\n",
       "      <th>UMAP</th>\n",
       "      <th>UMAP_5</th>\n",
       "      <th>UMAP_25</th>\n",
       "      <th>LinearAutoencoder</th>\n",
       "      <th>AutoEncoder+</th>\n",
       "    </tr>\n",
       "  </thead>\n",
       "  <tbody>\n",
       "    <tr>\n",
       "      <th>count</th>\n",
       "      <td>43.000000</td>\n",
       "      <td>43.000000</td>\n",
       "      <td>43.000000</td>\n",
       "      <td>43.000000</td>\n",
       "      <td>43.000000</td>\n",
       "      <td>43.000000</td>\n",
       "    </tr>\n",
       "    <tr>\n",
       "      <th>mean</th>\n",
       "      <td>0.865384</td>\n",
       "      <td>0.765827</td>\n",
       "      <td>0.748395</td>\n",
       "      <td>0.727728</td>\n",
       "      <td>0.870525</td>\n",
       "      <td>0.860066</td>\n",
       "    </tr>\n",
       "    <tr>\n",
       "      <th>std</th>\n",
       "      <td>0.166558</td>\n",
       "      <td>0.171553</td>\n",
       "      <td>0.173735</td>\n",
       "      <td>0.168731</td>\n",
       "      <td>0.163108</td>\n",
       "      <td>0.162259</td>\n",
       "    </tr>\n",
       "    <tr>\n",
       "      <th>min</th>\n",
       "      <td>0.445734</td>\n",
       "      <td>0.424960</td>\n",
       "      <td>0.424960</td>\n",
       "      <td>0.440119</td>\n",
       "      <td>0.464854</td>\n",
       "      <td>0.479235</td>\n",
       "    </tr>\n",
       "    <tr>\n",
       "      <th>25%</th>\n",
       "      <td>0.752564</td>\n",
       "      <td>0.621977</td>\n",
       "      <td>0.626366</td>\n",
       "      <td>0.572607</td>\n",
       "      <td>0.770038</td>\n",
       "      <td>0.712263</td>\n",
       "    </tr>\n",
       "    <tr>\n",
       "      <th>50%</th>\n",
       "      <td>0.946902</td>\n",
       "      <td>0.732829</td>\n",
       "      <td>0.752972</td>\n",
       "      <td>0.712263</td>\n",
       "      <td>0.946902</td>\n",
       "      <td>0.932521</td>\n",
       "    </tr>\n",
       "    <tr>\n",
       "      <th>75%</th>\n",
       "      <td>1.000000</td>\n",
       "      <td>0.922961</td>\n",
       "      <td>0.906628</td>\n",
       "      <td>0.863933</td>\n",
       "      <td>1.000000</td>\n",
       "      <td>1.000000</td>\n",
       "    </tr>\n",
       "    <tr>\n",
       "      <th>max</th>\n",
       "      <td>1.000000</td>\n",
       "      <td>1.000000</td>\n",
       "      <td>1.000000</td>\n",
       "      <td>1.000000</td>\n",
       "      <td>1.000000</td>\n",
       "      <td>1.000000</td>\n",
       "    </tr>\n",
       "  </tbody>\n",
       "</table>\n",
       "</div>"
      ],
      "text/plain": [
       "             PCA       UMAP  ...  LinearAutoencoder  AutoEncoder+\n",
       "count  43.000000  43.000000  ...          43.000000     43.000000\n",
       "mean    0.865384   0.765827  ...           0.870525      0.860066\n",
       "std     0.166558   0.171553  ...           0.163108      0.162259\n",
       "min     0.445734   0.424960  ...           0.464854      0.479235\n",
       "25%     0.752564   0.621977  ...           0.770038      0.712263\n",
       "50%     0.946902   0.732829  ...           0.946902      0.932521\n",
       "75%     1.000000   0.922961  ...           1.000000      1.000000\n",
       "max     1.000000   1.000000  ...           1.000000      1.000000\n",
       "\n",
       "[8 rows x 6 columns]"
      ]
     },
     "execution_count": 169,
     "metadata": {},
     "output_type": "execute_result"
    }
   ],
   "source": [
    "df = pd.DataFrame(dims_ndcgs[current_dim])\n",
    "df.describe()"
   ]
  },
  {
   "cell_type": "code",
   "execution_count": 162,
   "id": "9a21943e-d1ae-422c-829a-83f710468b11",
   "metadata": {
    "execution": {
     "iopub.execute_input": "2025-05-31T17:43:05.322247Z",
     "iopub.status.busy": "2025-05-31T17:43:05.321506Z",
     "iopub.status.idle": "2025-05-31T17:43:05.689254Z",
     "shell.execute_reply": "2025-05-31T17:43:05.688066Z",
     "shell.execute_reply.started": "2025-05-31T17:43:05.322190Z"
    },
    "tags": []
   },
   "outputs": [
    {
     "name": "stdout",
     "output_type": "stream",
     "text": [
      "/home/jupyter/work/resources/DiplomDimReduction/data/plots/marco/tas_b exists.\n"
     ]
    },
    {
     "data": {
      "image/png": "[encoded data removed]",
      "text/plain": [
       "<Figure size 1000x600 with 1 Axes>"
      ]
     },
     "metadata": {},
     "output_type": "display_data"
    }
   ],
   "source": [
    "plt.figure(figsize=(10, 6))\n",
    "sns.boxplot(data=df[umaps])\n",
    "plt.title(f\"Сравнение NDCG для разных вариаций UMAP: {method_prefix} - {current_dim}\")\n",
    "plt.ylabel(\"NDCG\")\n",
    "plt.xticks(rotation=0)\n",
    "plt.grid(True)\n",
    "plt.tight_layout()\n",
    "create_path(boxplot_umaps_path)\n",
    "plt.savefig(boxplot_umaps_path)\n",
    "plt.show()"
   ]
  },
  {
   "cell_type": "code",
   "execution_count": 163,
   "id": "b1ba04ba-4e3f-4120-9505-f81395bc25d0",
   "metadata": {
    "execution": {
     "iopub.execute_input": "2025-05-31T17:43:06.256984Z",
     "iopub.status.busy": "2025-05-31T17:43:06.255247Z",
     "iopub.status.idle": "2025-05-31T17:43:06.741596Z",
     "shell.execute_reply": "2025-05-31T17:43:06.740456Z",
     "shell.execute_reply.started": "2025-05-31T17:43:06.256925Z"
    },
    "tags": []
   },
   "outputs": [
    {
     "name": "stdout",
     "output_type": "stream",
     "text": [
      "/home/jupyter/work/resources/DiplomDimReduction/data/plots/marco/tas_b exists.\n"
     ]
    },
    {
     "data": {
      "image/png": "[encoded data removed]",
      "text/plain": [
       "<Figure size 1000x600 with 1 Axes>"
      ]
     },
     "metadata": {},
     "output_type": "display_data"
    }
   ],
   "source": [
    "plt.figure(figsize=(10, 6))\n",
    "sns.boxplot(data=df[main])\n",
    "plt.title(\n",
    "    f\"Сравнение NDCG для разных методов понижения размерности: {method_prefix} - {current_dim}\"\n",
    ")\n",
    "plt.ylabel(\"NDCG\")\n",
    "plt.xticks(rotation=0)\n",
    "plt.grid(True)\n",
    "plt.tight_layout()\n",
    "create_path(boxplot_all_path)\n",
    "plt.savefig(boxplot_all_path)\n",
    "plt.show()"
   ]
  },
  {
   "cell_type": "code",
   "execution_count": 154,
   "id": "2491b3b8-b32e-4093-a606-73256ba55293",
   "metadata": {
    "execution": {
     "iopub.execute_input": "2025-05-31T17:37:08.270619Z",
     "iopub.status.busy": "2025-05-31T17:37:08.269157Z",
     "iopub.status.idle": "2025-05-31T17:37:08.458643Z",
     "shell.execute_reply": "2025-05-31T17:37:08.457337Z",
     "shell.execute_reply.started": "2025-05-31T17:37:08.270566Z"
    },
    "tags": []
   },
   "outputs": [
    {
     "name": "stderr",
     "output_type": "stream",
     "text": [
      "/usr/local/lib/python3.10/dist-packages/scipy/stats/_morestats.py:3414: UserWarning: Exact p-value calculation does not work if there are zeros. Switching to normal approximation.\n",
      "  warnings.warn(\"Exact p-value calculation does not work if there are \"\n",
      "/usr/local/lib/python3.10/dist-packages/scipy/stats/_morestats.py:3414: UserWarning: Exact p-value calculation does not work if there are zeros. Switching to normal approximation.\n",
      "  warnings.warn(\"Exact p-value calculation does not work if there are \"\n"
     ]
    },
    {
     "name": "stdout",
     "output_type": "stream",
     "text": [
      "Попарные сравнения Wilcoxon без поправки\n",
      "UMAP vs UMAP_5: raw p = 0.30291, reject H0: False\n",
      "UMAP vs UMAP_25: raw p = 0.08986, reject H0: False\n",
      "UMAP_5 vs UMAP_25: raw p = 0.66618, reject H0: False\n",
      "\n",
      "Попарные сравнения Wilcoxon с поправкой Holm:\n",
      "UMAP vs UMAP_5: corrected p = 0.60582, reject H0: False\n",
      "UMAP vs UMAP_25: corrected p = 0.26959, reject H0: False\n",
      "UMAP_5 vs UMAP_25: corrected p = 0.66618, reject H0: False\n",
      "\n",
      "Попарные сравнения Wilcoxon с поправкой Benjamini–Hochberg:\n",
      "UMAP vs UMAP_5: corrected p = 0.45437, reject H0: False\n",
      "UMAP vs UMAP_25: corrected p = 0.26959, reject H0: False\n",
      "UMAP_5 vs UMAP_25: corrected p = 0.66618, reject H0: False\n"
     ]
    },
    {
     "name": "stderr",
     "output_type": "stream",
     "text": [
      "/usr/local/lib/python3.10/dist-packages/scipy/stats/_morestats.py:3414: UserWarning: Exact p-value calculation does not work if there are zeros. Switching to normal approximation.\n",
      "  warnings.warn(\"Exact p-value calculation does not work if there are \"\n"
     ]
    }
   ],
   "source": [
    "compare_pairs(df, columns=umaps)"
   ]
  },
  {
   "cell_type": "code",
   "execution_count": 155,
   "id": "0b87a077-d617-4e8d-80e4-e934284a1989",
   "metadata": {
    "execution": {
     "iopub.execute_input": "2025-05-31T17:37:08.523910Z",
     "iopub.status.busy": "2025-05-31T17:37:08.522683Z",
     "iopub.status.idle": "2025-05-31T17:37:08.725072Z",
     "shell.execute_reply": "2025-05-31T17:37:08.723944Z",
     "shell.execute_reply.started": "2025-05-31T17:37:08.523852Z"
    },
    "tags": []
   },
   "outputs": [
    {
     "name": "stderr",
     "output_type": "stream",
     "text": [
      "/usr/local/lib/python3.10/dist-packages/scipy/stats/_morestats.py:3414: UserWarning: Exact p-value calculation does not work if there are zeros. Switching to normal approximation.\n",
      "  warnings.warn(\"Exact p-value calculation does not work if there are \"\n",
      "/usr/local/lib/python3.10/dist-packages/scipy/stats/_morestats.py:3414: UserWarning: Exact p-value calculation does not work if there are zeros. Switching to normal approximation.\n",
      "  warnings.warn(\"Exact p-value calculation does not work if there are \"\n"
     ]
    },
    {
     "name": "stdout",
     "output_type": "stream",
     "text": [
      "Попарные сравнения Wilcoxon без поправки\n",
      "PCA vs UMAP: raw p = 0.21768, reject H0: False\n",
      "PCA vs LinearAutoencoder: raw p = 0.01835, reject H0: True\n",
      "PCA vs AutoEncoder+: raw p = 0.01199, reject H0: True\n",
      "UMAP vs LinearAutoencoder: raw p = 0.06238, reject H0: False\n",
      "UMAP vs AutoEncoder+: raw p = 0.01273, reject H0: True\n",
      "LinearAutoencoder vs AutoEncoder+: raw p = 0.06014, reject H0: False\n",
      "\n",
      "Попарные сравнения Wilcoxon с поправкой Holm:\n",
      "PCA vs UMAP: corrected p = 0.21768, reject H0: False\n",
      "PCA vs LinearAutoencoder: corrected p = 0.07340, reject H0: False\n",
      "PCA vs AutoEncoder+: corrected p = 0.07193, reject H0: False\n",
      "UMAP vs LinearAutoencoder: corrected p = 0.18042, reject H0: False\n",
      "UMAP vs AutoEncoder+: corrected p = 0.07193, reject H0: False\n",
      "LinearAutoencoder vs AutoEncoder+: corrected p = 0.18042, reject H0: False\n",
      "\n",
      "Попарные сравнения Wilcoxon с поправкой Benjamini–Hochberg:\n",
      "PCA vs UMAP: corrected p = 0.21768, reject H0: False\n",
      "PCA vs LinearAutoencoder: corrected p = 0.03670, reject H0: True\n",
      "PCA vs AutoEncoder+: corrected p = 0.03670, reject H0: True\n",
      "UMAP vs LinearAutoencoder: corrected p = 0.07485, reject H0: False\n",
      "UMAP vs AutoEncoder+: corrected p = 0.03670, reject H0: True\n",
      "LinearAutoencoder vs AutoEncoder+: corrected p = 0.07485, reject H0: False\n"
     ]
    },
    {
     "name": "stderr",
     "output_type": "stream",
     "text": [
      "/usr/local/lib/python3.10/dist-packages/scipy/stats/_morestats.py:3414: UserWarning: Exact p-value calculation does not work if there are zeros. Switching to normal approximation.\n",
      "  warnings.warn(\"Exact p-value calculation does not work if there are \"\n",
      "/usr/local/lib/python3.10/dist-packages/scipy/stats/_morestats.py:3414: UserWarning: Exact p-value calculation does not work if there are zeros. Switching to normal approximation.\n",
      "  warnings.warn(\"Exact p-value calculation does not work if there are \"\n",
      "/usr/local/lib/python3.10/dist-packages/scipy/stats/_morestats.py:3414: UserWarning: Exact p-value calculation does not work if there are zeros. Switching to normal approximation.\n",
      "  warnings.warn(\"Exact p-value calculation does not work if there are \"\n",
      "/usr/local/lib/python3.10/dist-packages/scipy/stats/_morestats.py:3414: UserWarning: Exact p-value calculation does not work if there are zeros. Switching to normal approximation.\n",
      "  warnings.warn(\"Exact p-value calculation does not work if there are \"\n"
     ]
    }
   ],
   "source": [
    "compare_pairs(df, columns=main)"
   ]
  },
  {
   "cell_type": "code",
   "execution_count": null,
   "id": "458dd2e9-a6c9-417e-a2c9-36f4726cea7f",
   "metadata": {},
   "outputs": [],
   "source": []
  }
 ],
 "metadata": {
  "kernelspec": {
   "display_name": "DataSphere Kernel",
   "language": "python",
   "name": "python3"
  },
  "language_info": {
   "codemirror_mode": {
    "name": "ipython",
    "version": 3
   },
   "file_extension": ".py",
   "mimetype": "text/x-python",
   "name": "python",
   "nbconvert_exporter": "python",
   "pygments_lexer": "ipython3",
   "version": "3.10.12"
  }
 },
 "nbformat": 4,
 "nbformat_minor": 5
}
