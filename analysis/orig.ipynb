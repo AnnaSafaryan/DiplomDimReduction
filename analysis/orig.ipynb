{
 "cells": [
  {
   "cell_type": "code",
   "execution_count": 2,
   "id": "fa9cb23a-f5f2-4409-a6ac-7962f84d16c2",
   "metadata": {
    "execution": {
     "iopub.execute_input": "2025-05-29T07:45:59.193831Z",
     "iopub.status.busy": "2025-05-29T07:45:59.192948Z",
     "iopub.status.idle": "2025-05-29T07:46:08.890527Z",
     "shell.execute_reply": "2025-05-29T07:46:08.889266Z",
     "shell.execute_reply.started": "2025-05-29T07:45:59.193792Z"
    },
    "tags": []
   },
   "outputs": [],
   "source": [
    "import sys\n",
    "\n",
    "sys.path.append(\"/home/jupyter/work/resources/DiplomDimReduction/\")\n",
    "import importlib\n",
    "\n",
    "import config\n",
    "\n",
    "importlib.reload(config)\n",
    "import utils\n",
    "from config import config_dict\n",
    "\n",
    "importlib.reload(utils)\n",
    "from itertools import combinations\n",
    "\n",
    "import matplotlib.pyplot as plt\n",
    "import numpy as np\n",
    "import pandas as pd\n",
    "import seaborn as sns\n",
    "from scipy.stats import friedmanchisquare, wilcoxon\n",
    "from sklearn.metrics import ndcg_score\n",
    "from statsmodels.stats.multitest import multipletests\n",
    "from utils import create_path, load_metrics"
   ]
  },
  {
   "cell_type": "code",
   "execution_count": null,
   "id": "df637db7-114c-4a8f-af7a-31803357cf60",
   "metadata": {},
   "outputs": [],
   "source": [
    "# model_name = config_dict[\"dpr_model\"]\n",
    "# method_prefix = config_dict[\"dpr_prefix\"]\n",
    "\n",
    "# model_name = config_dict['ance_model']\n",
    "# method_prefix = config_dict['ance_prefix']\n",
    "\n",
    "# model_name = config_dict[\"tas-b_model\"]\n",
    "# method_prefix = config_dict[\"tas-b_prefix\"]"
   ]
  },
  {
   "cell_type": "code",
   "execution_count": 26,
   "id": "e0dbafcf-8d42-4867-88a4-4dcbef0c1957",
   "metadata": {
    "execution": {
     "iopub.execute_input": "2025-05-29T07:54:15.210216Z",
     "iopub.status.busy": "2025-05-29T07:54:15.209063Z",
     "iopub.status.idle": "2025-05-29T07:54:15.249349Z",
     "shell.execute_reply": "2025-05-29T07:54:15.248653Z",
     "shell.execute_reply.started": "2025-05-29T07:54:15.210170Z"
    },
    "tags": []
   },
   "outputs": [],
   "source": [
    "dpr_ndcgs_path = '/home/jupyter/datasphere/project/DiplomDimReduction/data/metrics/marco/dpr/PCA_ndcgs.json'\n",
    "ance_ndcgs_path = '/home/jupyter/datasphere/project/DiplomDimReduction/data/metrics/marco/ance/PCA_ndcgs.json'\n",
    "tas_b_ndcgs_path = '/home/jupyter/datasphere/project/DiplomDimReduction/data/metrics/marco/tas_b/PCA_ndcgs.json'\n",
    "boxplot_path = '/home/jupyter/datasphere/project/DiplomDimReduction/data/plots/marco/orig.png'"
   ]
  },
  {
   "cell_type": "code",
   "execution_count": 14,
   "id": "d372f69e-79c4-47f6-888e-0a2d385b96cd",
   "metadata": {
    "execution": {
     "iopub.execute_input": "2025-05-29T07:49:10.613991Z",
     "iopub.status.busy": "2025-05-29T07:49:10.612697Z",
     "iopub.status.idle": "2025-05-29T07:49:10.663224Z",
     "shell.execute_reply": "2025-05-29T07:49:10.662474Z",
     "shell.execute_reply.started": "2025-05-29T07:49:10.613947Z"
    },
    "tags": []
   },
   "outputs": [],
   "source": [
    "orig_dim = '768'"
   ]
  },
  {
   "cell_type": "code",
   "execution_count": 16,
   "id": "a9e838aa-0b08-413d-86dc-5293084954f1",
   "metadata": {
    "execution": {
     "iopub.execute_input": "2025-05-29T07:49:54.728694Z",
     "iopub.status.busy": "2025-05-29T07:49:54.727699Z",
     "iopub.status.idle": "2025-05-29T07:49:54.760059Z",
     "shell.execute_reply": "2025-05-29T07:49:54.759383Z",
     "shell.execute_reply.started": "2025-05-29T07:49:54.728650Z"
    },
    "tags": []
   },
   "outputs": [],
   "source": [
    "dpr_ndcgs = load_metrics(dpr_ndcgs_path)[orig_dim]\n",
    "ance_ndcgs = load_metrics(ance_ndcgs_path)[orig_dim]\n",
    "tas_b_ndcgs = load_metrics(tas_b_ndcgs_path)[orig_dim]"
   ]
  },
  {
   "cell_type": "code",
   "execution_count": 18,
   "id": "665abfe3-e7df-4267-9e38-237a2fcf1dce",
   "metadata": {
    "execution": {
     "iopub.execute_input": "2025-05-29T07:51:39.055983Z",
     "iopub.status.busy": "2025-05-29T07:51:39.055103Z",
     "iopub.status.idle": "2025-05-29T07:51:39.069348Z",
     "shell.execute_reply": "2025-05-29T07:51:39.068639Z",
     "shell.execute_reply.started": "2025-05-29T07:51:39.055937Z"
    },
    "tags": []
   },
   "outputs": [],
   "source": [
    "ndcgs = {\n",
    "    'DPR': dpr_ndcgs['ndcgs'],\n",
    "    'ANCE': ance_ndcgs['ndcgs'],\n",
    "    'TAS_B': tas_b_ndcgs['ndcgs']\n",
    "        }\n"
   ]
  },
  {
   "cell_type": "code",
   "execution_count": 19,
   "id": "5ef10e70-38b2-4e26-a08e-7842be798226",
   "metadata": {
    "execution": {
     "iopub.execute_input": "2025-05-29T07:51:54.011378Z",
     "iopub.status.busy": "2025-05-29T07:51:54.009878Z",
     "iopub.status.idle": "2025-05-29T07:51:54.059081Z",
     "shell.execute_reply": "2025-05-29T07:51:54.058333Z",
     "shell.execute_reply.started": "2025-05-29T07:51:54.011339Z"
    }
   },
   "outputs": [
    {
     "data": {
      "text/html": [
       "<div>\n",
       "<style scoped>\n",
       "    .dataframe tbody tr th:only-of-type {\n",
       "        vertical-align: middle;\n",
       "    }\n",
       "\n",
       "    .dataframe tbody tr th {\n",
       "        vertical-align: top;\n",
       "    }\n",
       "\n",
       "    .dataframe thead th {\n",
       "        text-align: right;\n",
       "    }\n",
       "</style>\n",
       "<table border=\"1\" class=\"dataframe\">\n",
       "  <thead>\n",
       "    <tr style=\"text-align: right;\">\n",
       "      <th></th>\n",
       "      <th>DPR</th>\n",
       "      <th>ANCE</th>\n",
       "      <th>TAS_B</th>\n",
       "    </tr>\n",
       "  </thead>\n",
       "  <tbody>\n",
       "    <tr>\n",
       "      <th>count</th>\n",
       "      <td>43.000000</td>\n",
       "      <td>43.000000</td>\n",
       "      <td>43.000000</td>\n",
       "    </tr>\n",
       "    <tr>\n",
       "      <th>mean</th>\n",
       "      <td>0.864953</td>\n",
       "      <td>0.866676</td>\n",
       "      <td>0.856697</td>\n",
       "    </tr>\n",
       "    <tr>\n",
       "      <th>std</th>\n",
       "      <td>0.164375</td>\n",
       "      <td>0.169136</td>\n",
       "      <td>0.169834</td>\n",
       "    </tr>\n",
       "    <tr>\n",
       "      <th>min</th>\n",
       "      <td>0.456468</td>\n",
       "      <td>0.456468</td>\n",
       "      <td>0.470850</td>\n",
       "    </tr>\n",
       "    <tr>\n",
       "      <th>25%</th>\n",
       "      <td>0.828987</td>\n",
       "      <td>0.792878</td>\n",
       "      <td>0.705072</td>\n",
       "    </tr>\n",
       "    <tr>\n",
       "      <th>50%</th>\n",
       "      <td>0.921787</td>\n",
       "      <td>0.921787</td>\n",
       "      <td>0.946902</td>\n",
       "    </tr>\n",
       "    <tr>\n",
       "      <th>75%</th>\n",
       "      <td>1.000000</td>\n",
       "      <td>1.000000</td>\n",
       "      <td>1.000000</td>\n",
       "    </tr>\n",
       "    <tr>\n",
       "      <th>max</th>\n",
       "      <td>1.000000</td>\n",
       "      <td>1.000000</td>\n",
       "      <td>1.000000</td>\n",
       "    </tr>\n",
       "  </tbody>\n",
       "</table>\n",
       "</div>"
      ],
      "text/plain": [
       "             DPR       ANCE      TAS_B\n",
       "count  43.000000  43.000000  43.000000\n",
       "mean    0.864953   0.866676   0.856697\n",
       "std     0.164375   0.169136   0.169834\n",
       "min     0.456468   0.456468   0.470850\n",
       "25%     0.828987   0.792878   0.705072\n",
       "50%     0.921787   0.921787   0.946902\n",
       "75%     1.000000   1.000000   1.000000\n",
       "max     1.000000   1.000000   1.000000"
      ]
     },
     "execution_count": 19,
     "metadata": {},
     "output_type": "execute_result"
    }
   ],
   "source": [
    "df = pd.DataFrame(ndcgs)\n",
    "df.describe()"
   ]
  },
  {
   "cell_type": "code",
   "execution_count": 27,
   "id": "d6694d43-44e2-498b-93b8-5e6cd88cd880",
   "metadata": {
    "execution": {
     "iopub.execute_input": "2025-05-29T07:54:22.025718Z",
     "iopub.status.busy": "2025-05-29T07:54:22.024292Z",
     "iopub.status.idle": "2025-05-29T07:54:22.277034Z",
     "shell.execute_reply": "2025-05-29T07:54:22.276241Z",
     "shell.execute_reply.started": "2025-05-29T07:54:22.025671Z"
    },
    "tags": []
   },
   "outputs": [
    {
     "name": "stdout",
     "output_type": "stream",
     "text": [
      "/home/jupyter/datasphere/project/DiplomDimReduction/data/plots/marco exists.\n"
     ]
    },
    {
     "data": {
      "image/png": "[encoded data removed]",
      "text/plain": [
       "<Figure size 1000x600 with 1 Axes>"
      ]
     },
     "metadata": {},
     "output_type": "display_data"
    }
   ],
   "source": [
    "plt.figure(figsize=(10, 6))\n",
    "sns.boxplot(data=df)\n",
    "plt.title(\n",
    "    f\"Сравнение NDCG для разных методов векторизации: оригинальная размерность (768)\"\n",
    ")\n",
    "plt.ylabel(\"NDCG\")\n",
    "plt.xticks(rotation=0)\n",
    "plt.grid(True)\n",
    "plt.tight_layout()\n",
    "create_path(boxplot_path)\n",
    "plt.savefig(boxplot_path)\n",
    "plt.show()"
   ]
  },
  {
   "cell_type": "code",
   "execution_count": null,
   "id": "f207a362-a937-4814-a6b6-b1d8957b5000",
   "metadata": {},
   "outputs": [],
   "source": []
  }
 ],
 "metadata": {
  "kernelspec": {
   "display_name": "DataSphere Kernel",
   "language": "python",
   "name": "python3"
  },
  "language_info": {
   "codemirror_mode": {
    "name": "ipython",
    "version": 3
   },
   "file_extension": ".py",
   "mimetype": "text/x-python",
   "name": "python",
   "nbconvert_exporter": "python",
   "pygments_lexer": "ipython3",
   "version": "3.10.12"
  }
 },
 "nbformat": 4,
 "nbformat_minor": 5
}
