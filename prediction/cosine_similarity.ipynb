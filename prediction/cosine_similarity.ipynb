{
 "cells": [
  {
   "cell_type": "code",
   "execution_count": 1,
   "id": "d7c14590-2718-4ba3-94f2-4719a98fdea4",
   "metadata": {
    "execution": {
     "iopub.execute_input": "2025-06-01T15:56:06.773282Z",
     "iopub.status.busy": "2025-06-01T15:56:06.771319Z",
     "iopub.status.idle": "2025-06-01T15:56:34.006046Z",
     "shell.execute_reply": "2025-06-01T15:56:34.005004Z",
     "shell.execute_reply.started": "2025-06-01T15:56:06.773227Z"
    },
    "tags": []
   },
   "outputs": [
    {
     "name": "stderr",
     "output_type": "stream",
     "text": [
      "/home/jupyter/.local/lib/python3.10/site-packages/transformers/utils/hub.py:105: FutureWarning: Using `TRANSFORMERS_CACHE` is deprecated and will be removed in v5 of Transformers. Use `HF_HOME` instead.\n",
      "  warnings.warn(\n"
     ]
    }
   ],
   "source": [
    "import sys\n",
    "\n",
    "import numpy as np\n",
    "import pandas as pd\n",
    "import torch\n",
    "from tqdm import tqdm\n",
    "from transformers import AutoModel, AutoTokenizer\n",
    "\n",
    "sys.path.append(\"/home/jupyter/work/resources/DiplomDimReduction/\")\n",
    "import importlib\n",
    "\n",
    "import random\n",
    "seed=42\n",
    "\n",
    "import config\n",
    "\n",
    "importlib.reload(config)\n",
    "import utils\n",
    "from config import config_dict\n",
    "\n",
    "importlib.reload(utils)\n",
    "from sklearn.metrics import ndcg_score\n",
    "from utils import (\n",
    "    Autoencoder,\n",
    "    LinearAutoencoder,\n",
    "    cosine_similarity,\n",
    "    create_path,\n",
    "    load_mapping,\n",
    "    load_sk_model,\n",
    "    load_vectors,\n",
    "    save_preds,\n",
    ")"
   ]
  },
  {
   "cell_type": "code",
   "execution_count": 94,
   "id": "17024e22-1511-41a7-8277-5a07b86a9de5",
   "metadata": {
    "execution": {
     "iopub.execute_input": "2025-06-01T16:04:19.475083Z",
     "iopub.status.busy": "2025-06-01T16:04:19.473819Z",
     "iopub.status.idle": "2025-06-01T16:04:19.487600Z",
     "shell.execute_reply": "2025-06-01T16:04:19.486591Z",
     "shell.execute_reply.started": "2025-06-01T16:04:19.475035Z"
    },
    "tags": []
   },
   "outputs": [],
   "source": [
    "curr_dim = 64"
   ]
  },
  {
   "cell_type": "code",
   "execution_count": 95,
   "id": "3f06d98a-8178-41ec-9970-911c91ef3f53",
   "metadata": {
    "execution": {
     "iopub.execute_input": "2025-06-01T16:04:20.056311Z",
     "iopub.status.busy": "2025-06-01T16:04:20.055239Z",
     "iopub.status.idle": "2025-06-01T16:04:20.071862Z",
     "shell.execute_reply": "2025-06-01T16:04:20.070910Z",
     "shell.execute_reply.started": "2025-06-01T16:04:20.056258Z"
    },
    "tags": []
   },
   "outputs": [],
   "source": [
    "model_name = config_dict[\"dpr_model\"]\n",
    "method_prefix = config_dict[\"dpr_prefix\"]\n",
    "\n",
    "# model_name = config_dict['ance_model']\n",
    "# method_prefix = config_dict['ance_prefix']\n",
    "\n",
    "# model_name = config_dict['tas-b_model']\n",
    "# method_prefix = config_dict['tas-b_prefix']\n",
    "\n",
    "# model_name = config_dict['s-bert_model']\n",
    "# method_prefix = config_dict['s-bert_prefix']\n",
    "\n",
    "corpus_prefix = config_dict[\"marco_prefix\"]\n",
    "split_suffix = config_dict[\"test_suffix\"]\n",
    "\n",
    "data_path = config_dict[\"data_template\"].format(corpus_prefix, split_suffix)\n",
    "\n",
    "corpus_vector_path = config_dict[\"corpus_vector_template\"].format(\n",
    "    corpus_prefix, method_prefix, split_suffix\n",
    ")\n",
    "corpus_mapping_path = config_dict[\"corpus_mapping_template\"].format(\n",
    "    corpus_prefix, method_prefix, split_suffix\n",
    ")\n",
    "\n",
    "queries_vector_path = config_dict[\"queries_vector_template\"].format(\n",
    "    corpus_prefix, method_prefix, split_suffix\n",
    ")\n",
    "queries_mapping_path = config_dict[\"queries_mapping_template\"].format(\n",
    "    corpus_prefix, method_prefix, split_suffix\n",
    ")\n",
    "\n",
    "sk_model_path_template = config_dict[\"reduction_sk_model_template\"]\n",
    "ae_model_path_template = config_dict[\"reduction_ae_model_template\"]\n",
    "\n",
    "preds_path = config_dict['preds_template'].format(corpus_prefix, method_prefix, curr_dim)"
   ]
  },
  {
   "cell_type": "code",
   "execution_count": 96,
   "id": "b791a252-92a6-4362-9e43-00416d9920ba",
   "metadata": {
    "execution": {
     "iopub.execute_input": "2025-06-01T16:04:20.299052Z",
     "iopub.status.busy": "2025-06-01T16:04:20.297957Z",
     "iopub.status.idle": "2025-06-01T16:04:20.327622Z",
     "shell.execute_reply": "2025-06-01T16:04:20.326746Z",
     "shell.execute_reply.started": "2025-06-01T16:04:20.299011Z"
    },
    "tags": []
   },
   "outputs": [
    {
     "data": {
      "text/html": [
       "<div>\n",
       "<style scoped>\n",
       "    .dataframe tbody tr th:only-of-type {\n",
       "        vertical-align: middle;\n",
       "    }\n",
       "\n",
       "    .dataframe tbody tr th {\n",
       "        vertical-align: top;\n",
       "    }\n",
       "\n",
       "    .dataframe thead th {\n",
       "        text-align: right;\n",
       "    }\n",
       "</style>\n",
       "<table border=\"1\" class=\"dataframe\">\n",
       "  <thead>\n",
       "    <tr style=\"text-align: right;\">\n",
       "      <th></th>\n",
       "      <th>query_id</th>\n",
       "      <th>corpus_id</th>\n",
       "      <th>label</th>\n",
       "      <th>corpus_text</th>\n",
       "      <th>query_text</th>\n",
       "    </tr>\n",
       "  </thead>\n",
       "  <tbody>\n",
       "    <tr>\n",
       "      <th>0</th>\n",
       "      <td>19335</td>\n",
       "      <td>8412683</td>\n",
       "      <td>1</td>\n",
       "      <td>Ecological anthropology is defined as the stud...</td>\n",
       "      <td>anthropological definition of environment</td>\n",
       "    </tr>\n",
       "    <tr>\n",
       "      <th>1</th>\n",
       "      <td>19335</td>\n",
       "      <td>1729</td>\n",
       "      <td>1</td>\n",
       "      <td>Graduate Study in Anthropology. The graduate p...</td>\n",
       "      <td>anthropological definition of environment</td>\n",
       "    </tr>\n",
       "    <tr>\n",
       "      <th>2</th>\n",
       "      <td>19335</td>\n",
       "      <td>8412684</td>\n",
       "      <td>1</td>\n",
       "      <td>Ecological Anthropology. Ecological anthropolo...</td>\n",
       "      <td>anthropological definition of environment</td>\n",
       "    </tr>\n",
       "    <tr>\n",
       "      <th>3</th>\n",
       "      <td>19335</td>\n",
       "      <td>3683653</td>\n",
       "      <td>0</td>\n",
       "      <td>The branches of Earth Science are: 1  Geology ...</td>\n",
       "      <td>anthropological definition of environment</td>\n",
       "    </tr>\n",
       "    <tr>\n",
       "      <th>4</th>\n",
       "      <td>19335</td>\n",
       "      <td>342432</td>\n",
       "      <td>0</td>\n",
       "      <td>Five Disciplines of Anthropology. 1  Applied A...</td>\n",
       "      <td>anthropological definition of environment</td>\n",
       "    </tr>\n",
       "    <tr>\n",
       "      <th>...</th>\n",
       "      <td>...</td>\n",
       "      <td>...</td>\n",
       "      <td>...</td>\n",
       "      <td>...</td>\n",
       "      <td>...</td>\n",
       "    </tr>\n",
       "    <tr>\n",
       "      <th>425</th>\n",
       "      <td>1133167</td>\n",
       "      <td>6467520</td>\n",
       "      <td>0</td>\n",
       "      <td>Climate data for ball mtn lake, Longitude: -72...</td>\n",
       "      <td>how is the weather in jamaica</td>\n",
       "    </tr>\n",
       "    <tr>\n",
       "      <th>426</th>\n",
       "      <td>1133167</td>\n",
       "      <td>4712274</td>\n",
       "      <td>0</td>\n",
       "      <td>Re: Best Time of Year to Visit Jamaica Mar 17,...</td>\n",
       "      <td>how is the weather in jamaica</td>\n",
       "    </tr>\n",
       "    <tr>\n",
       "      <th>427</th>\n",
       "      <td>1133167</td>\n",
       "      <td>7115353</td>\n",
       "      <td>0</td>\n",
       "      <td>Hurricane season has ended over a month ago an...</td>\n",
       "      <td>how is the weather in jamaica</td>\n",
       "    </tr>\n",
       "    <tr>\n",
       "      <th>428</th>\n",
       "      <td>1133167</td>\n",
       "      <td>8415745</td>\n",
       "      <td>0</td>\n",
       "      <td>The weather stations sit near sea level, with ...</td>\n",
       "      <td>how is the weather in jamaica</td>\n",
       "    </tr>\n",
       "    <tr>\n",
       "      <th>429</th>\n",
       "      <td>1133167</td>\n",
       "      <td>2365200</td>\n",
       "      <td>0</td>\n",
       "      <td>Jamaica Airport Transfers [3] Jamaica Airport ...</td>\n",
       "      <td>how is the weather in jamaica</td>\n",
       "    </tr>\n",
       "  </tbody>\n",
       "</table>\n",
       "<p>430 rows × 5 columns</p>\n",
       "</div>"
      ],
      "text/plain": [
       "     query_id  ...                                 query_text\n",
       "0       19335  ...  anthropological definition of environment\n",
       "1       19335  ...  anthropological definition of environment\n",
       "2       19335  ...  anthropological definition of environment\n",
       "3       19335  ...  anthropological definition of environment\n",
       "4       19335  ...  anthropological definition of environment\n",
       "..        ...  ...                                        ...\n",
       "425   1133167  ...              how is the weather in jamaica\n",
       "426   1133167  ...              how is the weather in jamaica\n",
       "427   1133167  ...              how is the weather in jamaica\n",
       "428   1133167  ...              how is the weather in jamaica\n",
       "429   1133167  ...              how is the weather in jamaica\n",
       "\n",
       "[430 rows x 5 columns]"
      ]
     },
     "execution_count": 96,
     "metadata": {},
     "output_type": "execute_result"
    }
   ],
   "source": [
    "data = pd.read_parquet(data_path)\n",
    "data"
   ]
  },
  {
   "cell_type": "code",
   "execution_count": 97,
   "id": "c6c2f613-7ed9-4103-9bda-81dc18465ecd",
   "metadata": {
    "execution": {
     "iopub.execute_input": "2025-06-01T16:04:20.372427Z",
     "iopub.status.busy": "2025-06-01T16:04:20.371163Z",
     "iopub.status.idle": "2025-06-01T16:04:20.399645Z",
     "shell.execute_reply": "2025-06-01T16:04:20.398670Z",
     "shell.execute_reply.started": "2025-06-01T16:04:20.372381Z"
    },
    "tags": []
   },
   "outputs": [
    {
     "name": "stdout",
     "output_type": "stream",
     "text": [
      "CPU times: user 7.02 ms, sys: 3.52 ms, total: 10.5 ms\n",
      "Wall time: 10.2 ms\n"
     ]
    },
    {
     "data": {
      "text/plain": [
       "(428, 768)"
      ]
     },
     "execution_count": 97,
     "metadata": {},
     "output_type": "execute_result"
    }
   ],
   "source": [
    "%%time\n",
    "corpus_vectors = load_vectors(corpus_vector_path)\n",
    "corpus_vectors.shape"
   ]
  },
  {
   "cell_type": "code",
   "execution_count": 98,
   "id": "a923fd5d-dda7-4469-a4ae-cef444294bbc",
   "metadata": {
    "execution": {
     "iopub.execute_input": "2025-06-01T16:04:20.585932Z",
     "iopub.status.busy": "2025-06-01T16:04:20.584627Z",
     "iopub.status.idle": "2025-06-01T16:04:20.605399Z",
     "shell.execute_reply": "2025-06-01T16:04:20.604418Z",
     "shell.execute_reply.started": "2025-06-01T16:04:20.585883Z"
    },
    "tags": []
   },
   "outputs": [
    {
     "data": {
      "text/plain": [
       "dict_keys(['i2text', 'text2i'])"
      ]
     },
     "execution_count": 98,
     "metadata": {},
     "output_type": "execute_result"
    }
   ],
   "source": [
    "corpus_mapping = load_mapping(corpus_mapping_path)\n",
    "corpus_mapping.keys()"
   ]
  },
  {
   "cell_type": "code",
   "execution_count": 99,
   "id": "3bdf76c3-965d-4328-b1dc-252486cf0547",
   "metadata": {
    "execution": {
     "iopub.execute_input": "2025-06-01T16:04:20.711457Z",
     "iopub.status.busy": "2025-06-01T16:04:20.710012Z",
     "iopub.status.idle": "2025-06-01T16:04:20.755836Z",
     "shell.execute_reply": "2025-06-01T16:04:20.754878Z",
     "shell.execute_reply.started": "2025-06-01T16:04:20.711408Z"
    },
    "tags": []
   },
   "outputs": [
    {
     "name": "stdout",
     "output_type": "stream",
     "text": [
      "CPU times: user 1.97 ms, sys: 776 µs, total: 2.74 ms\n",
      "Wall time: 2.4 ms\n"
     ]
    },
    {
     "data": {
      "text/plain": [
       "(43, 768)"
      ]
     },
     "execution_count": 99,
     "metadata": {},
     "output_type": "execute_result"
    }
   ],
   "source": [
    "%%time\n",
    "query_vectors = load_vectors(queries_vector_path)\n",
    "query_vectors.shape"
   ]
  },
  {
   "cell_type": "code",
   "execution_count": 100,
   "id": "67eed1bd-4dd4-4b3b-a209-cdb6c0fd8683",
   "metadata": {
    "execution": {
     "iopub.execute_input": "2025-06-01T16:04:20.841673Z",
     "iopub.status.busy": "2025-06-01T16:04:20.840302Z",
     "iopub.status.idle": "2025-06-01T16:04:20.946088Z",
     "shell.execute_reply": "2025-06-01T16:04:20.944774Z",
     "shell.execute_reply.started": "2025-06-01T16:04:20.841625Z"
    },
    "tags": []
   },
   "outputs": [
    {
     "data": {
      "text/plain": [
       "dict_keys(['i2text', 'text2i'])"
      ]
     },
     "execution_count": 100,
     "metadata": {},
     "output_type": "execute_result"
    }
   ],
   "source": [
    "query_mapping = load_mapping(queries_mapping_path)\n",
    "query_mapping.keys()"
   ]
  },
  {
   "cell_type": "code",
   "execution_count": 101,
   "id": "85cc415e-de5f-4736-9e50-825ee3c0c5f6",
   "metadata": {
    "execution": {
     "iopub.execute_input": "2025-06-01T16:04:20.952744Z",
     "iopub.status.busy": "2025-06-01T16:04:20.951548Z",
     "iopub.status.idle": "2025-06-01T16:04:20.993003Z",
     "shell.execute_reply": "2025-06-01T16:04:20.991964Z",
     "shell.execute_reply.started": "2025-06-01T16:04:20.952695Z"
    },
    "tags": []
   },
   "outputs": [
    {
     "data": {
      "text/plain": [
       "array([1117099,  833860,  855410, 1115776, 1114646, 1121709,   87452,\n",
       "        168216,  146187,   87181])"
      ]
     },
     "execution_count": 101,
     "metadata": {},
     "output_type": "execute_result"
    }
   ],
   "source": [
    "np.random.seed(seed)\n",
    "sample_size = 10\n",
    "query_indices = np.random.choice(data['query_id'].unique(), sample_size, replace=False)\n",
    "query_indices"
   ]
  },
  {
   "cell_type": "code",
   "execution_count": 102,
   "id": "750ebfcd-8e62-48b8-a492-7277c3482b90",
   "metadata": {
    "execution": {
     "iopub.execute_input": "2025-06-01T16:04:21.058162Z",
     "iopub.status.busy": "2025-06-01T16:04:21.057214Z",
     "iopub.status.idle": "2025-06-01T16:04:21.079800Z",
     "shell.execute_reply": "2025-06-01T16:04:21.078809Z",
     "shell.execute_reply.started": "2025-06-01T16:04:21.058112Z"
    },
    "tags": []
   },
   "outputs": [],
   "source": [
    "def reduct_sk(query_embeds, corpus_embeds, model_name, red_dim, model_kwargs={}):\n",
    "    model_path = sk_model_path_template.format(\n",
    "        corpus_prefix, method_prefix, model_name, red_dim\n",
    "    )\n",
    "    red_model = load_sk_model(model_path)\n",
    "    red_embeddings = red_model.transform(np.vstack([query_embeds, corpus_embeds]))\n",
    "    return np.split(red_embeddings, [len(query_embeds)])"
   ]
  },
  {
   "cell_type": "code",
   "execution_count": 103,
   "id": "4cedf5aa-952d-4a85-8894-944b082aae31",
   "metadata": {
    "execution": {
     "iopub.execute_input": "2025-06-01T16:04:21.185069Z",
     "iopub.status.busy": "2025-06-01T16:04:21.183825Z",
     "iopub.status.idle": "2025-06-01T16:04:21.214970Z",
     "shell.execute_reply": "2025-06-01T16:04:21.213785Z",
     "shell.execute_reply.started": "2025-06-01T16:04:21.185033Z"
    },
    "tags": []
   },
   "outputs": [],
   "source": [
    "pca_queries, pca_corpus = reduct_sk(query_vectors, corpus_vectors, \"PCA\", curr_dim)"
   ]
  },
  {
   "cell_type": "code",
   "execution_count": 104,
   "id": "ac22fec4-d0c9-42ba-8315-0eaab9f14901",
   "metadata": {
    "execution": {
     "iopub.execute_input": "2025-06-01T16:04:21.325571Z",
     "iopub.status.busy": "2025-06-01T16:04:21.323422Z",
     "iopub.status.idle": "2025-06-01T16:04:42.596848Z",
     "shell.execute_reply": "2025-06-01T16:04:42.595782Z",
     "shell.execute_reply.started": "2025-06-01T16:04:21.325506Z"
    },
    "tags": []
   },
   "outputs": [],
   "source": [
    "umap_queries, umap_corpus = reduct_sk(query_vectors, corpus_vectors, \"UMAP\", curr_dim)"
   ]
  },
  {
   "cell_type": "code",
   "execution_count": 105,
   "id": "a94b79d9-0226-43f3-beb2-935bfd5ee12f",
   "metadata": {
    "execution": {
     "iopub.execute_input": "2025-06-01T16:04:42.600483Z",
     "iopub.status.busy": "2025-06-01T16:04:42.599310Z",
     "iopub.status.idle": "2025-06-01T16:05:04.450298Z",
     "shell.execute_reply": "2025-06-01T16:05:04.449192Z",
     "shell.execute_reply.started": "2025-06-01T16:04:42.600409Z"
    },
    "tags": []
   },
   "outputs": [],
   "source": [
    "umap_5_queries, umap_5_corpus = reduct_sk(query_vectors, corpus_vectors, \"UMAP_5\", curr_dim)"
   ]
  },
  {
   "cell_type": "code",
   "execution_count": 106,
   "id": "98b88ec0-dcb2-4f5f-b7eb-84e180b900f9",
   "metadata": {
    "execution": {
     "iopub.execute_input": "2025-06-01T16:05:04.453720Z",
     "iopub.status.busy": "2025-06-01T16:05:04.451682Z",
     "iopub.status.idle": "2025-06-01T16:05:24.283888Z",
     "shell.execute_reply": "2025-06-01T16:05:24.282928Z",
     "shell.execute_reply.started": "2025-06-01T16:05:04.453673Z"
    },
    "tags": []
   },
   "outputs": [],
   "source": [
    "umap_25_queries, umap_25_corpus = reduct_sk(query_vectors, corpus_vectors, \"UMAP_25\", curr_dim)"
   ]
  },
  {
   "cell_type": "code",
   "execution_count": 107,
   "id": "49cb9749-5d7e-4924-9214-c3e44f4ba447",
   "metadata": {
    "execution": {
     "iopub.execute_input": "2025-06-01T16:05:24.287542Z",
     "iopub.status.busy": "2025-06-01T16:05:24.286594Z",
     "iopub.status.idle": "2025-06-01T16:05:24.309835Z",
     "shell.execute_reply": "2025-06-01T16:05:24.308783Z",
     "shell.execute_reply.started": "2025-06-01T16:05:24.287495Z"
    },
    "tags": []
   },
   "outputs": [],
   "source": [
    "device = torch.device(\"cuda\" if torch.cuda.is_available() else \"cpu\")"
   ]
  },
  {
   "cell_type": "code",
   "execution_count": 108,
   "id": "cacb94a3-9b78-4b48-bcee-c2061604d346",
   "metadata": {
    "execution": {
     "iopub.execute_input": "2025-06-01T16:05:24.311578Z",
     "iopub.status.busy": "2025-06-01T16:05:24.310934Z",
     "iopub.status.idle": "2025-06-01T16:05:24.325425Z",
     "shell.execute_reply": "2025-06-01T16:05:24.324516Z",
     "shell.execute_reply.started": "2025-06-01T16:05:24.311515Z"
    },
    "tags": []
   },
   "outputs": [],
   "source": [
    "name2model = {\n",
    "    \"LinearAutoencoder\": LinearAutoencoder,\n",
    "    \"AutoEncoder+\": Autoencoder,\n",
    "}"
   ]
  },
  {
   "cell_type": "code",
   "execution_count": 109,
   "id": "077c39ef-1f95-4e96-8724-dd0a1351d0ef",
   "metadata": {
    "execution": {
     "iopub.execute_input": "2025-06-01T16:05:24.327568Z",
     "iopub.status.busy": "2025-06-01T16:05:24.326692Z",
     "iopub.status.idle": "2025-06-01T16:05:24.342429Z",
     "shell.execute_reply": "2025-06-01T16:05:24.341625Z",
     "shell.execute_reply.started": "2025-06-01T16:05:24.327504Z"
    },
    "tags": []
   },
   "outputs": [],
   "source": [
    "def reduct_ae(query_embeds, corpus_embeds, model_name, red_dim, model_kwargs={}):\n",
    "    model_class = name2model[model_name]\n",
    "    red_model = model_class(\n",
    "        input_dim=query_embeds.shape[1], output_dim=red_dim, **model_kwargs\n",
    "    )\n",
    "    model_path = ae_model_path_template.format(\n",
    "        corpus_prefix, method_prefix, model_name, red_dim\n",
    "    )\n",
    "    print(model_path)\n",
    "    red_model.load_state_dict(torch.load(model_path, map_location=device))\n",
    "    red_model.to(device)\n",
    "    red_model.eval()\n",
    "    with torch.no_grad():\n",
    "        query_embeddings = red_model.encoder(\n",
    "            torch.tensor(query_embeds, dtype=torch.float32)).numpy()\n",
    "        corpus_embeddings = red_model.encoder(\n",
    "            torch.tensor(corpus_embeds, dtype=torch.float32)).numpy()\n",
    "\n",
    "        return query_embeddings, corpus_embeddings"
   ]
  },
  {
   "cell_type": "code",
   "execution_count": 110,
   "id": "5e2f5c6e-13b9-4719-828c-e5c1a127a38d",
   "metadata": {
    "execution": {
     "iopub.execute_input": "2025-06-01T16:05:24.345168Z",
     "iopub.status.busy": "2025-06-01T16:05:24.343715Z",
     "iopub.status.idle": "2025-06-01T16:05:24.386309Z",
     "shell.execute_reply": "2025-06-01T16:05:24.385239Z",
     "shell.execute_reply.started": "2025-06-01T16:05:24.345121Z"
    },
    "tags": []
   },
   "outputs": [
    {
     "name": "stdout",
     "output_type": "stream",
     "text": [
      "/home/jupyter/work/resources/DiplomDimReduction/data/models/marco/dpr/LinearAutoencoder_64.pt\n"
     ]
    }
   ],
   "source": [
    "lae_queries, lae_corpus = reduct_ae(query_vectors, corpus_vectors, \"LinearAutoencoder\", curr_dim)"
   ]
  },
  {
   "cell_type": "code",
   "execution_count": 111,
   "id": "651cc1ff-07ac-4ad4-aa06-095ed99f8c91",
   "metadata": {
    "execution": {
     "iopub.execute_input": "2025-06-01T16:05:24.388266Z",
     "iopub.status.busy": "2025-06-01T16:05:24.387477Z",
     "iopub.status.idle": "2025-06-01T16:05:24.453829Z",
     "shell.execute_reply": "2025-06-01T16:05:24.452771Z",
     "shell.execute_reply.started": "2025-06-01T16:05:24.388221Z"
    },
    "tags": []
   },
   "outputs": [
    {
     "name": "stdout",
     "output_type": "stream",
     "text": [
      "/home/jupyter/work/resources/DiplomDimReduction/data/models/marco/dpr/AutoEncoder+_64.pt\n"
     ]
    }
   ],
   "source": [
    "ae_queries, ae_corpus = reduct_ae(query_vectors, corpus_vectors, \"AutoEncoder+\", curr_dim)"
   ]
  },
  {
   "cell_type": "code",
   "execution_count": 112,
   "id": "d3b251c2-4589-46ab-a568-1151f6b077fc",
   "metadata": {
    "execution": {
     "iopub.execute_input": "2025-06-01T16:05:24.456572Z",
     "iopub.status.busy": "2025-06-01T16:05:24.455056Z",
     "iopub.status.idle": "2025-06-01T16:05:24.470555Z",
     "shell.execute_reply": "2025-06-01T16:05:24.469676Z",
     "shell.execute_reply.started": "2025-06-01T16:05:24.456532Z"
    },
    "tags": []
   },
   "outputs": [],
   "source": [
    "def predict_group(query_embeds, queries_mapping, corpus_embeds, corpus_mapping, n=10):\n",
    "    predictions = {}\n",
    "    \n",
    "    for q, g in tqdm(data.groupby(\"query_id\")):\n",
    "        if q in query_indices:\n",
    "\n",
    "            # Ранжируем имеющееся\n",
    "            q_text = g[\"query_text\"].values[0]\n",
    "            \n",
    "            q_i = queries_mapping[\"text2i\"][q_text]\n",
    "            q_vec = query_embeds[q_i]\n",
    "\n",
    "            c_texts = g[\"corpus_text\"].values.tolist()\n",
    "            i2t = {i: text for i, text in enumerate(c_texts)}\n",
    "\n",
    "            c_vecs = np.empty((len(c_texts), corpus_embeds.shape[1]), dtype=np.float32)\n",
    "            for i, c_text in enumerate(c_texts):\n",
    "                c_i = corpus_mapping[\"text2i\"][c_text]\n",
    "                c_vec = corpus_embeds[c_i]\n",
    "                c_vecs[i] = c_vec\n",
    "\n",
    "            scores = cosine_similarity(q_vec, c_vecs)\n",
    "            indices = np.argsort(-scores)\n",
    "\n",
    "            texts = [i2t[i] for i in indices]\n",
    "\n",
    "            t2l = dict(zip(g['corpus_text'], g['label']))\n",
    "            labels = [t2l[text] for text in texts]\n",
    "            \n",
    "            predictions[q_text] = [{'text': text, 'label': label} for text, label in zip(texts, labels)]\n",
    "            \n",
    "    return predictions"
   ]
  },
  {
   "cell_type": "code",
   "execution_count": 113,
   "id": "351b1f69-3667-4897-90f7-1a8efcf66d2a",
   "metadata": {
    "execution": {
     "iopub.execute_input": "2025-06-01T16:05:24.474846Z",
     "iopub.status.busy": "2025-06-01T16:05:24.473849Z",
     "iopub.status.idle": "2025-06-01T16:05:24.498336Z",
     "shell.execute_reply": "2025-06-01T16:05:24.497328Z",
     "shell.execute_reply.started": "2025-06-01T16:05:24.474805Z"
    },
    "tags": []
   },
   "outputs": [
    {
     "data": {
      "text/html": [
       "<div>\n",
       "<style scoped>\n",
       "    .dataframe tbody tr th:only-of-type {\n",
       "        vertical-align: middle;\n",
       "    }\n",
       "\n",
       "    .dataframe tbody tr th {\n",
       "        vertical-align: top;\n",
       "    }\n",
       "\n",
       "    .dataframe thead th {\n",
       "        text-align: right;\n",
       "    }\n",
       "</style>\n",
       "<table border=\"1\" class=\"dataframe\">\n",
       "  <thead>\n",
       "    <tr style=\"text-align: right;\">\n",
       "      <th></th>\n",
       "      <th>query_id</th>\n",
       "      <th>corpus_id</th>\n",
       "      <th>label</th>\n",
       "      <th>corpus_text</th>\n",
       "      <th>query_text</th>\n",
       "    </tr>\n",
       "  </thead>\n",
       "  <tbody>\n",
       "    <tr>\n",
       "      <th>370</th>\n",
       "      <td>1117099</td>\n",
       "      <td>52516</td>\n",
       "      <td>1</td>\n",
       "      <td>In plate tectonics, a convergent boundary, als...</td>\n",
       "      <td>what is a active margin</td>\n",
       "    </tr>\n",
       "    <tr>\n",
       "      <th>371</th>\n",
       "      <td>1117099</td>\n",
       "      <td>859540</td>\n",
       "      <td>1</td>\n",
       "      <td>Convergent boundary. In plate tectonics, a con...</td>\n",
       "      <td>what is a active margin</td>\n",
       "    </tr>\n",
       "    <tr>\n",
       "      <th>372</th>\n",
       "      <td>1117099</td>\n",
       "      <td>4393950</td>\n",
       "      <td>1</td>\n",
       "      <td>(February 2016) In plate tectonics, a converge...</td>\n",
       "      <td>what is a active margin</td>\n",
       "    </tr>\n",
       "    <tr>\n",
       "      <th>373</th>\n",
       "      <td>1117099</td>\n",
       "      <td>5452829</td>\n",
       "      <td>0</td>\n",
       "      <td>The location where the sinking of a plate occu...</td>\n",
       "      <td>what is a active margin</td>\n",
       "    </tr>\n",
       "    <tr>\n",
       "      <th>374</th>\n",
       "      <td>1117099</td>\n",
       "      <td>3349607</td>\n",
       "      <td>0</td>\n",
       "      <td>57. ____________ continental margins occur whe...</td>\n",
       "      <td>what is a active margin</td>\n",
       "    </tr>\n",
       "    <tr>\n",
       "      <th>375</th>\n",
       "      <td>1117099</td>\n",
       "      <td>4040437</td>\n",
       "      <td>0</td>\n",
       "      <td>difference $ 5 margin $ 5 $ 55 9 1 % markup $ ...</td>\n",
       "      <td>what is a active margin</td>\n",
       "    </tr>\n",
       "    <tr>\n",
       "      <th>376</th>\n",
       "      <td>1117099</td>\n",
       "      <td>855067</td>\n",
       "      <td>0</td>\n",
       "      <td>1 Convergent Boundaries-A convergent boundary ...</td>\n",
       "      <td>what is a active margin</td>\n",
       "    </tr>\n",
       "    <tr>\n",
       "      <th>377</th>\n",
       "      <td>1117099</td>\n",
       "      <td>8202908</td>\n",
       "      <td>0</td>\n",
       "      <td>Subduction zones occur at collision boundaries...</td>\n",
       "      <td>what is a active margin</td>\n",
       "    </tr>\n",
       "    <tr>\n",
       "      <th>378</th>\n",
       "      <td>1117099</td>\n",
       "      <td>3951182</td>\n",
       "      <td>0</td>\n",
       "      <td>Tectonics and Landforms Plate Boundaries Along...</td>\n",
       "      <td>what is a active margin</td>\n",
       "    </tr>\n",
       "    <tr>\n",
       "      <th>379</th>\n",
       "      <td>1117099</td>\n",
       "      <td>1527742</td>\n",
       "      <td>0</td>\n",
       "      <td>When one plate is composed of oceanic lithosph...</td>\n",
       "      <td>what is a active margin</td>\n",
       "    </tr>\n",
       "  </tbody>\n",
       "</table>\n",
       "</div>"
      ],
      "text/plain": [
       "     query_id  ...               query_text\n",
       "370   1117099  ...  what is a active margin\n",
       "371   1117099  ...  what is a active margin\n",
       "372   1117099  ...  what is a active margin\n",
       "373   1117099  ...  what is a active margin\n",
       "374   1117099  ...  what is a active margin\n",
       "375   1117099  ...  what is a active margin\n",
       "376   1117099  ...  what is a active margin\n",
       "377   1117099  ...  what is a active margin\n",
       "378   1117099  ...  what is a active margin\n",
       "379   1117099  ...  what is a active margin\n",
       "\n",
       "[10 rows x 5 columns]"
      ]
     },
     "execution_count": 113,
     "metadata": {},
     "output_type": "execute_result"
    }
   ],
   "source": [
    "data[data['query_text'] == 'what is a active margin']"
   ]
  },
  {
   "cell_type": "code",
   "execution_count": 114,
   "id": "5c8baae1-2867-460e-9830-4cf2db4affd5",
   "metadata": {
    "execution": {
     "iopub.execute_input": "2025-06-01T16:05:24.500532Z",
     "iopub.status.busy": "2025-06-01T16:05:24.499480Z",
     "iopub.status.idle": "2025-06-01T16:05:24.513841Z",
     "shell.execute_reply": "2025-06-01T16:05:24.512857Z",
     "shell.execute_reply.started": "2025-06-01T16:05:24.500465Z"
    },
    "tags": []
   },
   "outputs": [],
   "source": [
    "predictions = {}"
   ]
  },
  {
   "cell_type": "code",
   "execution_count": 115,
   "id": "5bcec07e-d1ab-4392-b018-57d5849434e2",
   "metadata": {
    "execution": {
     "iopub.execute_input": "2025-06-01T16:05:24.517026Z",
     "iopub.status.busy": "2025-06-01T16:05:24.515064Z",
     "iopub.status.idle": "2025-06-01T16:05:24.565459Z",
     "shell.execute_reply": "2025-06-01T16:05:24.564458Z",
     "shell.execute_reply.started": "2025-06-01T16:05:24.516977Z"
    },
    "tags": []
   },
   "outputs": [
    {
     "name": "stderr",
     "output_type": "stream",
     "text": [
      "100%|██████████| 43/43 [00:00<00:00, 7296.51it/s]\n"
     ]
    }
   ],
   "source": [
    "predictions['orig'] = predict_group(query_vectors, query_mapping, corpus_vectors, corpus_mapping)"
   ]
  },
  {
   "cell_type": "code",
   "execution_count": 116,
   "id": "ca877de1-760a-4596-8a3f-5ea8a7483712",
   "metadata": {
    "execution": {
     "iopub.execute_input": "2025-06-01T16:05:24.567442Z",
     "iopub.status.busy": "2025-06-01T16:05:24.566661Z",
     "iopub.status.idle": "2025-06-01T16:05:24.590807Z",
     "shell.execute_reply": "2025-06-01T16:05:24.589919Z",
     "shell.execute_reply.started": "2025-06-01T16:05:24.567400Z"
    },
    "tags": []
   },
   "outputs": [
    {
     "name": "stderr",
     "output_type": "stream",
     "text": [
      "100%|██████████| 43/43 [00:00<00:00, 9118.05it/s]\n"
     ]
    }
   ],
   "source": [
    "predictions['PCA'] = predict_group(pca_queries, query_mapping, pca_corpus, corpus_mapping)"
   ]
  },
  {
   "cell_type": "code",
   "execution_count": 117,
   "id": "d99e71b5-db9f-4db5-828e-c174486e8c54",
   "metadata": {
    "execution": {
     "iopub.execute_input": "2025-06-01T16:05:24.593917Z",
     "iopub.status.busy": "2025-06-01T16:05:24.592920Z",
     "iopub.status.idle": "2025-06-01T16:05:24.618881Z",
     "shell.execute_reply": "2025-06-01T16:05:24.617938Z",
     "shell.execute_reply.started": "2025-06-01T16:05:24.593866Z"
    },
    "tags": []
   },
   "outputs": [
    {
     "name": "stderr",
     "output_type": "stream",
     "text": [
      "100%|██████████| 43/43 [00:00<00:00, 6133.07it/s]\n"
     ]
    }
   ],
   "source": [
    "predictions['UMAP'] = predict_group(umap_queries, query_mapping, umap_corpus, corpus_mapping)"
   ]
  },
  {
   "cell_type": "code",
   "execution_count": 118,
   "id": "45173166-727d-48dc-8ec8-492b53e12f59",
   "metadata": {
    "execution": {
     "iopub.execute_input": "2025-06-01T16:05:24.621687Z",
     "iopub.status.busy": "2025-06-01T16:05:24.620246Z",
     "iopub.status.idle": "2025-06-01T16:05:24.649770Z",
     "shell.execute_reply": "2025-06-01T16:05:24.648764Z",
     "shell.execute_reply.started": "2025-06-01T16:05:24.621637Z"
    },
    "tags": []
   },
   "outputs": [
    {
     "name": "stderr",
     "output_type": "stream",
     "text": [
      "100%|██████████| 43/43 [00:00<00:00, 7222.00it/s]\n"
     ]
    }
   ],
   "source": [
    "predictions['UMAP_5'] = predict_group(umap_5_queries, query_mapping, umap_5_corpus, corpus_mapping)"
   ]
  },
  {
   "cell_type": "code",
   "execution_count": 119,
   "id": "58c18905-82c5-4528-952a-62d3426adcbb",
   "metadata": {
    "execution": {
     "iopub.execute_input": "2025-06-01T16:05:24.652404Z",
     "iopub.status.busy": "2025-06-01T16:05:24.651291Z",
     "iopub.status.idle": "2025-06-01T16:05:24.675204Z",
     "shell.execute_reply": "2025-06-01T16:05:24.674186Z",
     "shell.execute_reply.started": "2025-06-01T16:05:24.652354Z"
    },
    "tags": []
   },
   "outputs": [
    {
     "name": "stderr",
     "output_type": "stream",
     "text": [
      "100%|██████████| 43/43 [00:00<00:00, 8133.63it/s]\n"
     ]
    }
   ],
   "source": [
    "predictions['UMAP_25'] = predict_group(umap_25_queries, query_mapping, umap_25_corpus, corpus_mapping)"
   ]
  },
  {
   "cell_type": "code",
   "execution_count": 120,
   "id": "e4a23ad0-36d0-46c3-85f4-577b2c030756",
   "metadata": {
    "execution": {
     "iopub.execute_input": "2025-06-01T16:05:24.678052Z",
     "iopub.status.busy": "2025-06-01T16:05:24.676671Z",
     "iopub.status.idle": "2025-06-01T16:05:24.699392Z",
     "shell.execute_reply": "2025-06-01T16:05:24.698598Z",
     "shell.execute_reply.started": "2025-06-01T16:05:24.678010Z"
    },
    "tags": []
   },
   "outputs": [
    {
     "name": "stderr",
     "output_type": "stream",
     "text": [
      "100%|██████████| 43/43 [00:00<00:00, 7761.88it/s]\n"
     ]
    }
   ],
   "source": [
    "predictions['LAE'] = predict_group(lae_queries, query_mapping, lae_corpus, corpus_mapping)"
   ]
  },
  {
   "cell_type": "code",
   "execution_count": 121,
   "id": "a4b4cf6f-2edb-436b-999d-cc852691b7c2",
   "metadata": {
    "execution": {
     "iopub.execute_input": "2025-06-01T16:05:24.702079Z",
     "iopub.status.busy": "2025-06-01T16:05:24.700697Z",
     "iopub.status.idle": "2025-06-01T16:05:24.728489Z",
     "shell.execute_reply": "2025-06-01T16:05:24.727421Z",
     "shell.execute_reply.started": "2025-06-01T16:05:24.702039Z"
    },
    "tags": []
   },
   "outputs": [
    {
     "name": "stderr",
     "output_type": "stream",
     "text": [
      "100%|██████████| 43/43 [00:00<00:00, 7205.27it/s]\n"
     ]
    }
   ],
   "source": [
    "predictions['AE+'] = predict_group(ae_queries, query_mapping, ae_corpus, corpus_mapping)"
   ]
  },
  {
   "cell_type": "code",
   "execution_count": 122,
   "id": "e460ca96-4fd9-4655-881b-ca48ef3e6885",
   "metadata": {
    "execution": {
     "iopub.execute_input": "2025-06-01T16:05:24.731654Z",
     "iopub.status.busy": "2025-06-01T16:05:24.730160Z",
     "iopub.status.idle": "2025-06-01T16:05:24.788168Z",
     "shell.execute_reply": "2025-06-01T16:05:24.787107Z",
     "shell.execute_reply.started": "2025-06-01T16:05:24.731605Z"
    },
    "tags": []
   },
   "outputs": [
    {
     "name": "stdout",
     "output_type": "stream",
     "text": [
      "/home/jupyter/work/resources/DiplomDimReduction/data/predictions/marco/dpr exists.\n",
      "360 -> 304441\n"
     ]
    }
   ],
   "source": [
    "save_preds(predictions, preds_path)"
   ]
  },
  {
   "cell_type": "code",
   "execution_count": 123,
   "id": "9748a482-115e-4f06-932f-99332f710f71",
   "metadata": {
    "execution": {
     "iopub.execute_input": "2025-06-01T16:05:24.791129Z",
     "iopub.status.busy": "2025-06-01T16:05:24.789446Z",
     "iopub.status.idle": "2025-06-01T16:05:24.802399Z",
     "shell.execute_reply": "2025-06-01T16:05:24.801364Z",
     "shell.execute_reply.started": "2025-06-01T16:05:24.791090Z"
    },
    "tags": []
   },
   "outputs": [],
   "source": [
    "    # for q_i, q_vec in tqdm(zip(query_indices, query_vectors)):\n",
    "    #     scores = cosine_similarity(q_vec, corpus_vectors)\n",
    "    #     indices = np.argsort(-scores).tolist()[:n]\n",
    "    #     predictions[q_i] = indices\n",
    "    # return predictions"
   ]
  },
  {
   "cell_type": "code",
   "execution_count": 124,
   "id": "bd90388e-bdf7-4062-9fe5-78f41aea3113",
   "metadata": {
    "execution": {
     "iopub.execute_input": "2025-06-01T16:05:24.804807Z",
     "iopub.status.busy": "2025-06-01T16:05:24.803622Z",
     "iopub.status.idle": "2025-06-01T16:05:24.820544Z",
     "shell.execute_reply": "2025-06-01T16:05:24.819637Z",
     "shell.execute_reply.started": "2025-06-01T16:05:24.804762Z"
    },
    "tags": []
   },
   "outputs": [],
   "source": [
    "# def map_preds(pred_ids):\n",
    "#     predictions = {}\n",
    "#     for q_id, c_ids in pred_ids.items():\n",
    "#         q_text = query_mapping['i2text'][str(q_id)]\n",
    "#         predictions[q_text] = [corpus_mapping['i2text'][str(c_id)] for c_id in c_ids]\n",
    "#     return predictions"
   ]
  },
  {
   "cell_type": "code",
   "execution_count": 33,
   "id": "2dcf4a91-775d-49a9-9508-feb032b20ded",
   "metadata": {
    "execution": {
     "iopub.execute_input": "2025-06-01T15:58:27.537743Z",
     "iopub.status.busy": "2025-06-01T15:58:27.536216Z",
     "iopub.status.idle": "2025-06-01T15:58:27.549585Z",
     "shell.execute_reply": "2025-06-01T15:58:27.548559Z",
     "shell.execute_reply.started": "2025-06-01T15:58:27.537698Z"
    },
    "tags": []
   },
   "outputs": [],
   "source": [
    "# orig_pred_ids = predict_n(orig_query_vectors, corpus_vectors, n=20)\n",
    "# orig_pred_texts = map_preds(orig_pred_ids)"
   ]
  },
  {
   "cell_type": "code",
   "execution_count": null,
   "id": "086e4af4-4a27-4197-a1f8-a548a22b38b8",
   "metadata": {},
   "outputs": [],
   "source": []
  }
 ],
 "metadata": {
  "kernelspec": {
   "display_name": "DataSphere Kernel",
   "language": "python",
   "name": "python3"
  },
  "language_info": {
   "codemirror_mode": {
    "name": "ipython",
    "version": 3
   },
   "file_extension": ".py",
   "mimetype": "text/x-python",
   "name": "python",
   "nbconvert_exporter": "python",
   "pygments_lexer": "ipython3",
   "version": "3.10.12"
  }
 },
 "nbformat": 4,
 "nbformat_minor": 5
}
