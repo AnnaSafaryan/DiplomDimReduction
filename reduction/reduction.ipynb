{
 "cells": [
  {
   "cell_type": "code",
   "execution_count": 1,
   "metadata": {
    "execution": {
     "iopub.execute_input": "2025-05-30T09:19:54.923490Z",
     "iopub.status.busy": "2025-05-30T09:19:54.922370Z",
     "iopub.status.idle": "2025-05-30T09:20:04.408829Z",
     "shell.execute_reply": "2025-05-30T09:20:04.407897Z",
     "shell.execute_reply.started": "2025-05-30T09:19:54.923445Z"
    },
    "executionInfo": {
     "elapsed": 50188,
     "status": "ok",
     "timestamp": 1746322283882,
     "user": {
      "displayName": "Аня Сафарян",
      "userId": "07200194749385482212"
     },
     "user_tz": -180
    },
    "id": "yld-0M0FkvEZ",
    "tags": []
   },
   "outputs": [
    {
     "name": "stderr",
     "output_type": "stream",
     "text": [
      "2025-05-30 09:20:02.205817: I tensorflow/core/util/port.cc:110] oneDNN custom operations are on. You may see slightly different numerical results due to floating-point round-off errors from different computation orders. To turn them off, set the environment variable `TF_ENABLE_ONEDNN_OPTS=0`.\n",
      "2025-05-30 09:20:02.257955: I tensorflow/core/platform/cpu_feature_guard.cc:182] This TensorFlow binary is optimized to use available CPU instructions in performance-critical operations.\n",
      "To enable the following instructions: AVX2 AVX512F AVX512_VNNI FMA, in other operations, rebuild TensorFlow with the appropriate compiler flags.\n",
      "2025-05-30 09:20:03.139204: W tensorflow/compiler/tf2tensorrt/utils/py_utils.cc:38] TF-TRT Warning: Could not find TensorRT\n"
     ]
    }
   ],
   "source": [
    "import sys\n",
    "\n",
    "import numpy as np\n",
    "from tqdm import tqdm\n",
    "\n",
    "sys.path.append(\"/home/jupyter/work/resources/DiplomDimReduction/\")\n",
    "import importlib\n",
    "\n",
    "seed = 42\n",
    "\n",
    "import config\n",
    "\n",
    "importlib.reload(config)\n",
    "import utils\n",
    "from config import config_dict\n",
    "\n",
    "importlib.reload(utils)\n",
    "\n",
    "import torch\n",
    "from sklearn.decomposition import PCA, FastICA, KernelPCA, TruncatedSVD\n",
    "from sklearn.manifold import MDS, Isomap, LocallyLinearEmbedding\n",
    "from torch.utils.data import DataLoader, TensorDataset\n",
    "from umap import UMAP\n",
    "from utils import (\n",
    "    Autoencoder,\n",
    "    LinearAutoencoder,\n",
    "    load_vectors,\n",
    "    save_ae_model,\n",
    "    save_sk_model,\n",
    ")"
   ]
  },
  {
   "cell_type": "code",
   "execution_count": 2,
   "metadata": {
    "execution": {
     "iopub.execute_input": "2025-05-30T09:20:04.411072Z",
     "iopub.status.busy": "2025-05-30T09:20:04.410060Z",
     "iopub.status.idle": "2025-05-30T09:20:04.436132Z",
     "shell.execute_reply": "2025-05-30T09:20:04.435483Z",
     "shell.execute_reply.started": "2025-05-30T09:20:04.411045Z"
    },
    "executionInfo": {
     "elapsed": 4,
     "status": "ok",
     "timestamp": 1746322283884,
     "user": {
      "displayName": "Аня Сафарян",
      "userId": "07200194749385482212"
     },
     "user_tz": -180
    },
    "id": "7Hm_XLEGlEl0",
    "tags": []
   },
   "outputs": [],
   "source": [
    "corpus_prefix = config_dict[\"marco_prefix\"]\n",
    "train_split_suffix = config_dict[\"train_suffix\"]\n",
    "val_split_suffix = config_dict[\"val_suffix\"]"
   ]
  },
  {
   "cell_type": "code",
   "execution_count": 3,
   "metadata": {
    "execution": {
     "iopub.execute_input": "2025-05-30T09:20:04.437895Z",
     "iopub.status.busy": "2025-05-30T09:20:04.437037Z",
     "iopub.status.idle": "2025-05-30T09:20:04.469512Z",
     "shell.execute_reply": "2025-05-30T09:20:04.468769Z",
     "shell.execute_reply.started": "2025-05-30T09:20:04.437865Z"
    },
    "executionInfo": {
     "elapsed": 6,
     "status": "ok",
     "timestamp": 1746322285180,
     "user": {
      "displayName": "Аня Сафарян",
      "userId": "07200194749385482212"
     },
     "user_tz": -180
    },
    "id": "XX_O0e7YlKhG",
    "tags": []
   },
   "outputs": [],
   "source": [
    "# method_prefix = config_dict[\"dpr_prefix\"]\n",
    "# method_prefix = config_dict[\"ance_prefix\"]\n",
    "method_prefix = config_dict['tas-b_prefix']\n",
    "# method_prefix = config_dict['s-bert_prefix']\n",
    "# method_prefix = config_dict[\"late interaction prefix\"]\n",
    "\n",
    "corpus_vector_path = config_dict[\"corpus_vector_template\"].format(\n",
    "    corpus_prefix, method_prefix, train_split_suffix\n",
    ")\n",
    "\n",
    "corpus_sample_vector_path = config_dict[\"corpus_sample_vector_template\"].format(\n",
    "    corpus_prefix, method_prefix, train_split_suffix\n",
    ")\n",
    "\n",
    "val_vector_path = config_dict[\"corpus_vector_template\"].format(\n",
    "    corpus_prefix, method_prefix, val_split_suffix\n",
    ")\n",
    "\n",
    "val_sample_vector_path = config_dict[\"corpus_sample_vector_template\"].format(\n",
    "    corpus_prefix, method_prefix, val_split_suffix\n",
    ")\n",
    "\n",
    "sk_model_path_template = config_dict[\"reduction_sk_model_template\"]\n",
    "ae_model_path_template = config_dict[\"reduction_ae_model_template\"]"
   ]
  },
  {
   "cell_type": "code",
   "execution_count": 4,
   "metadata": {
    "execution": {
     "iopub.execute_input": "2025-05-30T09:20:04.471741Z",
     "iopub.status.busy": "2025-05-30T09:20:04.471010Z",
     "iopub.status.idle": "2025-05-30T09:20:08.133997Z",
     "shell.execute_reply": "2025-05-30T09:20:08.133274Z",
     "shell.execute_reply.started": "2025-05-30T09:20:04.471715Z"
    },
    "tags": []
   },
   "outputs": [
    {
     "name": "stdout",
     "output_type": "stream",
     "text": [
      "CPU times: user 1.85 s, sys: 193 ms, total: 2.04 s\n",
      "Wall time: 3.64 s\n"
     ]
    },
    {
     "data": {
      "text/plain": [
       "(99441, 768)"
      ]
     },
     "execution_count": 4,
     "metadata": {},
     "output_type": "execute_result"
    }
   ],
   "source": [
    "%%time\n",
    "corpus_vectors = load_vectors(corpus_vector_path)\n",
    "corpus_vectors.shape"
   ]
  },
  {
   "cell_type": "code",
   "execution_count": 5,
   "metadata": {
    "execution": {
     "iopub.execute_input": "2025-05-30T09:20:08.135599Z",
     "iopub.status.busy": "2025-05-30T09:20:08.134925Z",
     "iopub.status.idle": "2025-05-30T09:20:11.382687Z",
     "shell.execute_reply": "2025-05-30T09:20:11.381959Z",
     "shell.execute_reply.started": "2025-05-30T09:20:08.135575Z"
    },
    "tags": []
   },
   "outputs": [
    {
     "name": "stdout",
     "output_type": "stream",
     "text": [
      "CPU times: user 1.3 s, sys: 138 ms, total: 1.44 s\n",
      "Wall time: 3.2 s\n"
     ]
    },
    {
     "data": {
      "text/plain": [
       "(69529, 768)"
      ]
     },
     "execution_count": 5,
     "metadata": {},
     "output_type": "execute_result"
    }
   ],
   "source": [
    "%%time\n",
    "val_vectors = load_vectors(val_vector_path)\n",
    "val_vectors.shape"
   ]
  },
  {
   "cell_type": "code",
   "execution_count": 6,
   "metadata": {
    "execution": {
     "iopub.execute_input": "2025-05-30T09:20:11.384538Z",
     "iopub.status.busy": "2025-05-30T09:20:11.383571Z",
     "iopub.status.idle": "2025-05-30T09:20:11.413508Z",
     "shell.execute_reply": "2025-05-30T09:20:11.412818Z",
     "shell.execute_reply.started": "2025-05-30T09:20:11.384489Z"
    },
    "executionInfo": {
     "elapsed": 1,
     "status": "ok",
     "timestamp": 1746322510403,
     "user": {
      "displayName": "Аня Сафарян",
      "userId": "07200194749385482212"
     },
     "user_tz": -180
    },
    "id": "ImJcXGUBl9Dw",
    "tags": []
   },
   "outputs": [],
   "source": [
    "red_dims = [512, 256, 128, 64]"
   ]
  },
  {
   "cell_type": "code",
   "execution_count": 7,
   "metadata": {
    "execution": {
     "iopub.execute_input": "2025-05-30T09:20:11.414902Z",
     "iopub.status.busy": "2025-05-30T09:20:11.414386Z",
     "iopub.status.idle": "2025-05-30T09:20:11.435155Z",
     "shell.execute_reply": "2025-05-30T09:20:11.434459Z",
     "shell.execute_reply.started": "2025-05-30T09:20:11.414869Z"
    },
    "executionInfo": {
     "elapsed": 13,
     "status": "ok",
     "timestamp": 1746322511726,
     "user": {
      "displayName": "Аня Сафарян",
      "userId": "07200194749385482212"
     },
     "user_tz": -180
    },
    "id": "MaYCRoxcmLZ4",
    "tags": []
   },
   "outputs": [],
   "source": [
    "def train_sk_models(model_fn, red_dims, model_kwargs={}, fit_kwargs={}, model_name=\"\"):\n",
    "    for red_dim in tqdm(red_dims):\n",
    "        try:\n",
    "            red_model = model_fn(n_components=red_dim, **model_kwargs)\n",
    "            red_model.fit(corpus_vectors, **fit_kwargs)\n",
    "            if not model_name:\n",
    "                model_name = model_fn.__name__\n",
    "            model_path = sk_model_path_template.format(\n",
    "                corpus_prefix, method_prefix, model_name, red_dim\n",
    "            )\n",
    "            print(f\"{red_dim} is trained\")\n",
    "            save_sk_model(red_model, model_path)\n",
    "\n",
    "        except ValueError as ve:\n",
    "            print(f\"{red_dim} is passed because of '{ve}'\")\n",
    "            continue"
   ]
  },
  {
   "cell_type": "code",
   "execution_count": 8,
   "metadata": {
    "colab": {
     "base_uri": "https://localhost:8080/"
    },
    "execution": {
     "iopub.execute_input": "2025-05-30T09:20:11.436563Z",
     "iopub.status.busy": "2025-05-30T09:20:11.436029Z",
     "iopub.status.idle": "2025-05-30T09:20:11.454625Z",
     "shell.execute_reply": "2025-05-30T09:20:11.453988Z",
     "shell.execute_reply.started": "2025-05-30T09:20:11.436539Z"
    },
    "executionInfo": {
     "elapsed": 54073,
     "status": "ok",
     "timestamp": 1746322853097,
     "user": {
      "displayName": "Аня Сафарян",
      "userId": "07200194749385482212"
     },
     "user_tz": -180
    },
    "id": "8I3QmsYaor_B",
    "outputId": "21770198-1aa1-4736-9ee4-a0e5e614d46e",
    "tags": []
   },
   "outputs": [
    {
     "name": "stdout",
     "output_type": "stream",
     "text": [
      "CPU times: user 4 µs, sys: 1 µs, total: 5 µs\n",
      "Wall time: 9.06 µs\n"
     ]
    }
   ],
   "source": [
    "%%time\n",
    "# train_sk_models(PCA, red_dims)"
   ]
  },
  {
   "cell_type": "code",
   "execution_count": 9,
   "metadata": {
    "colab": {
     "base_uri": "https://localhost:8080/"
    },
    "execution": {
     "iopub.execute_input": "2025-05-30T09:20:11.455998Z",
     "iopub.status.busy": "2025-05-30T09:20:11.455580Z",
     "iopub.status.idle": "2025-05-30T09:20:11.472912Z",
     "shell.execute_reply": "2025-05-30T09:20:11.472167Z",
     "shell.execute_reply.started": "2025-05-30T09:20:11.455974Z"
    },
    "id": "uBmLZJiqq1uJ",
    "outputId": "f948e796-ae4f-4a0d-8473-bf4cb3db4d4c",
    "tags": []
   },
   "outputs": [
    {
     "name": "stdout",
     "output_type": "stream",
     "text": [
      "CPU times: user 4 µs, sys: 2 µs, total: 6 µs\n",
      "Wall time: 9.78 µs\n"
     ]
    }
   ],
   "source": [
    "%%time\n",
    "# train_sk_models(KernelPCA, red_dims)"
   ]
  },
  {
   "cell_type": "code",
   "execution_count": 10,
   "metadata": {
    "execution": {
     "iopub.execute_input": "2025-05-30T09:20:11.475882Z",
     "iopub.status.busy": "2025-05-30T09:20:11.475290Z",
     "iopub.status.idle": "2025-05-30T09:20:11.504922Z",
     "shell.execute_reply": "2025-05-30T09:20:11.504069Z",
     "shell.execute_reply.started": "2025-05-30T09:20:11.475857Z"
    },
    "id": "ja2OE4oEqVjg",
    "tags": []
   },
   "outputs": [
    {
     "name": "stdout",
     "output_type": "stream",
     "text": [
      "CPU times: user 3 µs, sys: 1e+03 ns, total: 4 µs\n",
      "Wall time: 8.58 µs\n"
     ]
    }
   ],
   "source": [
    "%%time\n",
    "# train_sk_models(TruncatedSVD, red_dims)"
   ]
  },
  {
   "cell_type": "code",
   "execution_count": 11,
   "metadata": {
    "execution": {
     "iopub.execute_input": "2025-05-30T09:20:11.506366Z",
     "iopub.status.busy": "2025-05-30T09:20:11.505894Z",
     "iopub.status.idle": "2025-05-30T09:20:11.524545Z",
     "shell.execute_reply": "2025-05-30T09:20:11.523865Z",
     "shell.execute_reply.started": "2025-05-30T09:20:11.506341Z"
    },
    "id": "xwLg8lOqqt7F",
    "tags": []
   },
   "outputs": [
    {
     "name": "stdout",
     "output_type": "stream",
     "text": [
      "CPU times: user 4 µs, sys: 2 µs, total: 6 µs\n",
      "Wall time: 9.54 µs\n"
     ]
    }
   ],
   "source": [
    "%%time\n",
    "# train_sk_models(FastICA, red_dims)"
   ]
  },
  {
   "cell_type": "code",
   "execution_count": 12,
   "metadata": {
    "execution": {
     "iopub.execute_input": "2025-05-30T09:20:11.526193Z",
     "iopub.status.busy": "2025-05-30T09:20:11.525445Z",
     "iopub.status.idle": "2025-05-30T09:20:11.554677Z",
     "shell.execute_reply": "2025-05-30T09:20:11.553857Z",
     "shell.execute_reply.started": "2025-05-30T09:20:11.526170Z"
    },
    "tags": []
   },
   "outputs": [
    {
     "name": "stdout",
     "output_type": "stream",
     "text": [
      "CPU times: user 3 µs, sys: 1 µs, total: 4 µs\n",
      "Wall time: 8.82 µs\n"
     ]
    }
   ],
   "source": [
    "%%time\n",
    "# train_sk_models(UMAP, red_dims)"
   ]
  },
  {
   "cell_type": "code",
   "execution_count": null,
   "metadata": {
    "execution": {
     "iopub.execute_input": "2025-05-30T09:20:11.556464Z",
     "iopub.status.busy": "2025-05-30T09:20:11.555692Z",
     "iopub.status.idle": "2025-05-30T09:31:49.466134Z"
    },
    "tags": []
   },
   "outputs": [
    {
     "name": "stderr",
     "output_type": "stream",
     "text": [
      "  0%|          | 0/4 [00:00<?, ?it/s]"
     ]
    },
    {
     "name": "stdout",
     "output_type": "stream",
     "text": [
      "512 is trained\n",
      "/home/jupyter/work/resources/DiplomDimReduction/data/models/marco/tas_b exists.\n"
     ]
    },
    {
     "name": "stderr",
     "output_type": "stream",
     "text": [
      " 25%|██▌       | 1/4 [06:21<19:04, 381.47s/it]"
     ]
    },
    {
     "name": "stdout",
     "output_type": "stream",
     "text": [
      "48 -> 1455261869\n",
      "256 is trained\n",
      "/home/jupyter/work/resources/DiplomDimReduction/data/models/marco/tas_b exists.\n"
     ]
    },
    {
     "name": "stderr",
     "output_type": "stream",
     "text": [
      " 50%|█████     | 2/4 [09:09<08:31, 255.83s/it]"
     ]
    },
    {
     "name": "stdout",
     "output_type": "stream",
     "text": [
      "48 -> 1354598109\n",
      "128 is trained\n",
      "/home/jupyter/work/resources/DiplomDimReduction/data/models/marco/tas_b exists.\n"
     ]
    },
    {
     "name": "stderr",
     "output_type": "stream",
     "text": [
      "100%|██████████| 4/4 [11:37<00:00, 174.47s/it]"
     ]
    },
    {
     "name": "stdout",
     "output_type": "stream",
     "text": [
      "48 -> 1276608877\n",
      "CPU times: user 4h 3min 24s, sys: 37min 24s, total: 4h 40min 48s\n",
      "Wall time: 11min 37s\n"
     ]
    },
    {
     "name": "stderr",
     "output_type": "stream",
     "text": [
      "\n"
     ]
    }
   ],
   "source": [
    "%%time\n",
    "train_sk_models(UMAP, red_dims, model_kwargs={\"n_neighbors\": 5}, model_name=\"UMAP_5\")"
   ]
  },
  {
   "cell_type": "code",
   "execution_count": null,
   "metadata": {
    "execution": {
     "iopub.execute_input": "2025-05-30T09:31:49.468079Z",
     "iopub.status.busy": "2025-05-30T09:31:49.467299Z"
    },
    "tags": []
   },
   "outputs": [
    {
     "name": "stderr",
     "output_type": "stream",
     "text": [
      "  0%|          | 0/4 [00:00<?, ?it/s]"
     ]
    },
    {
     "name": "stdout",
     "output_type": "stream",
     "text": [
      "512 is trained\n",
      "/home/jupyter/work/resources/DiplomDimReduction/data/models/marco/tas_b exists.\n"
     ]
    },
    {
     "name": "stderr",
     "output_type": "stream",
     "text": [
      " 25%|██▌       | 1/4 [05:28<16:25, 328.42s/it]"
     ]
    },
    {
     "name": "stdout",
     "output_type": "stream",
     "text": [
      "48 -> 1333518557\n",
      "256 is trained\n",
      "/home/jupyter/work/resources/DiplomDimReduction/data/models/marco/tas_b exists.\n"
     ]
    },
    {
     "name": "stderr",
     "output_type": "stream",
     "text": [
      " 50%|█████     | 2/4 [08:16<07:47, 233.82s/it]"
     ]
    },
    {
     "name": "stdout",
     "output_type": "stream",
     "text": [
      "48 -> 1232076573\n",
      "128 is trained\n",
      "/home/jupyter/work/resources/DiplomDimReduction/data/models/marco/tas_b exists.\n"
     ]
    }
   ],
   "source": [
    "%%time\n",
    "train_sk_models(UMAP, red_dims, model_kwargs={\"n_neighbors\": 25}, model_name=\"UMAP_25\")"
   ]
  },
  {
   "cell_type": "code",
   "execution_count": null,
   "metadata": {
    "execution": {
     "iopub.execute_input": "2025-05-30T09:54:06.149324Z",
     "iopub.status.busy": "2025-05-30T09:54:06.148366Z",
     "iopub.status.idle": "2025-05-30T09:54:06.160944Z"
    },
    "tags": []
   },
   "outputs": [
    {
     "name": "stdout",
     "output_type": "stream",
     "text": [
      "CPU times: user 3 µs, sys: 2 µs, total: 5 µs\n",
      "Wall time: 10.5 µs\n"
     ]
    }
   ],
   "source": [
    "%%time\n",
    "# train_sk_models(UMAP, red_dims, model_kwargs={\"min_dist\": 0.8}, model_name=\"UMAP_0.8\")"
   ]
  },
  {
   "cell_type": "code",
   "execution_count": null,
   "metadata": {
    "execution": {
     "iopub.execute_input": "2025-05-30T09:54:06.162760Z",
     "iopub.status.busy": "2025-05-30T09:54:06.161949Z",
     "iopub.status.idle": "2025-05-30T09:54:06.175934Z"
    },
    "tags": []
   },
   "outputs": [
    {
     "name": "stdout",
     "output_type": "stream",
     "text": [
      "CPU times: user 5 µs, sys: 0 ns, total: 5 µs\n",
      "Wall time: 10 µs\n"
     ]
    }
   ],
   "source": [
    "%%time\n",
    "# train_sk_models(\n",
    "#     UMAP,\n",
    "#     red_dims,\n",
    "#     model_kwargs={\"n_neighbors\": 5, \"min_dist\": 0.8},\n",
    "#     model_name=\"UMAP_5_0.8\",\n",
    "# )"
   ]
  },
  {
   "cell_type": "code",
   "execution_count": null,
   "metadata": {
    "execution": {
     "iopub.execute_input": "2025-05-30T09:54:06.177687Z",
     "iopub.status.busy": "2025-05-30T09:54:06.176972Z",
     "iopub.status.idle": "2025-05-30T09:54:06.201574Z"
    },
    "id": "FxERybSItzAR",
    "tags": []
   },
   "outputs": [
    {
     "name": "stdout",
     "output_type": "stream",
     "text": [
      "CPU times: user 5 µs, sys: 0 ns, total: 5 µs\n",
      "Wall time: 10 µs\n"
     ]
    }
   ],
   "source": [
    "%%time\n",
    "# train_sk_models(Isomap, red_dims)"
   ]
  },
  {
   "cell_type": "code",
   "execution_count": null,
   "metadata": {
    "execution": {
     "iopub.execute_input": "2025-05-30T09:54:06.203354Z",
     "iopub.status.busy": "2025-05-30T09:54:06.202593Z",
     "iopub.status.idle": "2025-05-30T09:54:06.233598Z"
    },
    "id": "zAl_eaz1x8nz",
    "tags": []
   },
   "outputs": [
    {
     "name": "stdout",
     "output_type": "stream",
     "text": [
      "CPU times: user 5 µs, sys: 0 ns, total: 5 µs\n",
      "Wall time: 10.3 µs\n"
     ]
    }
   ],
   "source": [
    "%%time\n",
    "# train_sk_models(MDS, red_dims)"
   ]
  },
  {
   "cell_type": "code",
   "execution_count": null,
   "metadata": {
    "execution": {
     "iopub.execute_input": "2025-05-30T09:54:06.235499Z",
     "iopub.status.busy": "2025-05-30T09:54:06.234718Z",
     "iopub.status.idle": "2025-05-30T09:54:06.260587Z"
    },
    "id": "h-YfVDIMyFzc",
    "tags": []
   },
   "outputs": [
    {
     "name": "stdout",
     "output_type": "stream",
     "text": [
      "CPU times: user 6 µs, sys: 0 ns, total: 6 µs\n",
      "Wall time: 11.4 µs\n"
     ]
    }
   ],
   "source": [
    "%%time\n",
    "# train_sk_models(LocallyLinearEmbedding, red_dims)"
   ]
  },
  {
   "cell_type": "code",
   "execution_count": null,
   "metadata": {
    "execution": {
     "iopub.execute_input": "2025-05-30T09:54:06.262310Z",
     "iopub.status.busy": "2025-05-30T09:54:06.261607Z",
     "iopub.status.idle": "2025-05-30T09:54:06.331544Z"
    },
    "id": "sik9Ln-kz1n8",
    "tags": []
   },
   "outputs": [],
   "source": [
    "device = torch.device(\"cuda\" if torch.cuda.is_available() else \"cpu\")"
   ]
  },
  {
   "cell_type": "code",
   "execution_count": null,
   "metadata": {
    "execution": {
     "iopub.execute_input": "2025-05-30T09:54:06.333399Z",
     "iopub.status.busy": "2025-05-30T09:54:06.332577Z",
     "iopub.status.idle": "2025-05-30T09:54:06.428158Z"
    },
    "id": "jmCEfN4Zz4Tp",
    "tags": []
   },
   "outputs": [],
   "source": [
    "batch_size = 16\n",
    "train_dataloader = DataLoader(\n",
    "    TensorDataset(torch.tensor(corpus_vectors, dtype=torch.float32)),\n",
    "    batch_size=batch_size,\n",
    "    shuffle=True,\n",
    ")\n",
    "val_dataloader = DataLoader(\n",
    "    TensorDataset(torch.tensor(val_vectors, dtype=torch.float32)),\n",
    "    batch_size=batch_size,\n",
    "    shuffle=True,\n",
    ")"
   ]
  },
  {
   "cell_type": "code",
   "execution_count": null,
   "metadata": {
    "execution": {
     "iopub.execute_input": "2025-05-30T09:54:06.430140Z",
     "iopub.status.busy": "2025-05-30T09:54:06.429282Z",
     "iopub.status.idle": "2025-05-30T09:54:06.449541Z"
    },
    "tags": []
   },
   "outputs": [],
   "source": [
    "def train_dim(model_class, red_dim, n_epochs, model_kwargs={}):\n",
    "    model = model_class(\n",
    "        input_dim=corpus_vectors.shape[1], output_dim=red_dim, **model_kwargs\n",
    "    )\n",
    "    print(model)\n",
    "    model.to(device)\n",
    "    optimizer = torch.optim.Adam(model.parameters(), lr=1e-3)\n",
    "    loss_fn = torch.nn.MSELoss()\n",
    "\n",
    "    best_val_loss = float(\"inf\")\n",
    "    best_model_state = None\n",
    "\n",
    "    for epoch in range(n_epochs):\n",
    "        model.train()\n",
    "        total_loss = 0\n",
    "        for batch in train_dataloader:\n",
    "            batch_inputs = batch[0].to(device)\n",
    "\n",
    "            optimizer.zero_grad()\n",
    "            _, decoded = model(batch_inputs)\n",
    "            loss = loss_fn(decoded, batch_inputs)\n",
    "            loss.backward()\n",
    "            optimizer.step()\n",
    "\n",
    "            total_loss += loss.item()\n",
    "\n",
    "        avg_train_loss = total_loss / len(train_dataloader)\n",
    "\n",
    "        model.eval()\n",
    "        val_loss = 0\n",
    "        with torch.no_grad():\n",
    "            for batch in val_dataloader:\n",
    "                batch_inputs = batch[0].to(device)\n",
    "                _, decoded = model(batch_inputs)\n",
    "                loss = loss_fn(decoded, batch_inputs)\n",
    "                val_loss += loss.item()\n",
    "        avg_val_loss = val_loss / len(val_dataloader)\n",
    "\n",
    "        if avg_val_loss < best_val_loss:\n",
    "            best_val_loss = avg_val_loss\n",
    "            best_model_state = model.state_dict()\n",
    "            # print(f\"Model state is updated on epoch {epoch + 1}\")\n",
    "\n",
    "        if (epoch + 1) % 5 == 0:\n",
    "            print(\n",
    "                f\"Epoch {epoch+1}, Train Loss: {avg_train_loss:.4f}, Val Loss: {avg_val_loss:.4f}\"\n",
    "            )\n",
    "\n",
    "    model.load_state_dict(best_model_state)\n",
    "    return model"
   ]
  },
  {
   "cell_type": "code",
   "execution_count": null,
   "metadata": {
    "execution": {
     "iopub.execute_input": "2025-05-30T09:54:06.451286Z",
     "iopub.status.busy": "2025-05-30T09:54:06.450648Z",
     "iopub.status.idle": "2025-05-30T09:54:06.469637Z"
    },
    "id": "vrEN6ueZ0rQE",
    "tags": []
   },
   "outputs": [],
   "source": [
    "def train_ae_models(model_class, red_dims, n_epochs, model_kwargs={}, model_name=\"\"):\n",
    "    for red_dim in tqdm(red_dims):\n",
    "        model = train_dim(model_class, red_dim, n_epochs, model_kwargs)\n",
    "        print(f\"{red_dim} is trained\")\n",
    "        if not model_name:\n",
    "            model_name = model_class.__name__\n",
    "        ae_model_path = ae_model_path_template.format(\n",
    "            corpus_prefix, method_prefix, model_name, red_dim\n",
    "        )\n",
    "        save_ae_model(model, ae_model_path)"
   ]
  },
  {
   "cell_type": "code",
   "execution_count": null,
   "metadata": {
    "execution": {
     "iopub.execute_input": "2025-05-30T09:54:06.471464Z",
     "iopub.status.busy": "2025-05-30T09:54:06.470593Z",
     "iopub.status.idle": "2025-05-30T09:54:06.499439Z"
    },
    "id": "V1iZApQllE7h",
    "tags": []
   },
   "outputs": [],
   "source": [
    "# train_ae_models(LinearAutoencoder, red_dims, n_epochs=20)"
   ]
  },
  {
   "cell_type": "code",
   "execution_count": null,
   "metadata": {
    "execution": {
     "iopub.execute_input": "2025-05-30T09:54:06.501280Z",
     "iopub.status.busy": "2025-05-30T09:54:06.500504Z",
     "iopub.status.idle": "2025-05-30T09:54:06.533835Z"
    },
    "tags": []
   },
   "outputs": [],
   "source": [
    "# train_ae_models(Autoencoder, red_dims, n_epochs=20, model_name=\"AutoEncoder+\")"
   ]
  },
  {
   "cell_type": "code",
   "execution_count": null,
   "metadata": {
    "execution": {
     "iopub.execute_input": "2025-05-30T09:54:06.535715Z",
     "iopub.status.busy": "2025-05-30T09:54:06.534918Z",
     "iopub.status.idle": "2025-05-30T09:54:06.546516Z"
    },
    "tags": []
   },
   "outputs": [],
   "source": [
    "# train_ae_models(Autoencoder, red_dims, n_epochs=20, model_kwargs={\"hidden_dim\": 256}, model_name=\"AutoEncoder256\")"
   ]
  },
  {
   "cell_type": "code",
   "execution_count": null,
   "metadata": {},
   "outputs": [],
   "source": []
  }
 ],
 "metadata": {
  "colab": {
   "authorship_tag": "ABX9TyNg3dubQ3S8R5LuPF6U1sA+",
   "gpuType": "T4",
   "mount_file_id": "1qbUIaeNZ9G1Q0jTdIsjBt-szoj5l0HRY",
   "provenance": []
  },
  "kernelspec": {
   "display_name": "DataSphere Kernel",
   "language": "python",
   "name": "python3"
  },
  "language_info": {
   "codemirror_mode": {
    "name": "ipython",
    "version": 3
   },
   "file_extension": ".py",
   "mimetype": "text/x-python",
   "name": "python",
   "nbconvert_exporter": "python",
   "pygments_lexer": "ipython3",
   "version": "3.10.12"
  }
 },
 "nbformat": 4,
 "nbformat_minor": 4
}
