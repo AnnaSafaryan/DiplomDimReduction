{
 "cells": [
  {
   "cell_type": "code",
   "execution_count": 1,
   "metadata": {
    "execution": {
     "iopub.execute_input": "2025-05-14T16:39:43.568906Z",
     "iopub.status.busy": "2025-05-14T16:39:43.567875Z",
     "iopub.status.idle": "2025-05-14T16:40:43.931796Z",
     "shell.execute_reply": "2025-05-14T16:40:43.930873Z",
     "shell.execute_reply.started": "2025-05-14T16:39:43.568859Z"
    },
    "executionInfo": {
     "elapsed": 50188,
     "status": "ok",
     "timestamp": 1746322283882,
     "user": {
      "displayName": "Аня Сафарян",
      "userId": "07200194749385482212"
     },
     "user_tz": -180
    },
    "id": "yld-0M0FkvEZ",
    "tags": []
   },
   "outputs": [
    {
     "name": "stderr",
     "output_type": "stream",
     "text": [
      "2025-05-14 16:40:11.734328: I tensorflow/core/util/port.cc:110] oneDNN custom operations are on. You may see slightly different numerical results due to floating-point round-off errors from different computation orders. To turn them off, set the environment variable `TF_ENABLE_ONEDNN_OPTS=0`.\n",
      "2025-05-14 16:40:14.512047: I tensorflow/core/platform/cpu_feature_guard.cc:182] This TensorFlow binary is optimized to use available CPU instructions in performance-critical operations.\n",
      "To enable the following instructions: AVX2 AVX512F AVX512_VNNI FMA, in other operations, rebuild TensorFlow with the appropriate compiler flags.\n",
      "2025-05-14 16:40:22.171961: W tensorflow/compiler/tf2tensorrt/utils/py_utils.cc:38] TF-TRT Warning: Could not find TensorRT\n"
     ]
    }
   ],
   "source": [
    "import sys\n",
    "\n",
    "import numpy as np\n",
    "from tqdm import tqdm\n",
    "\n",
    "sys.path.append(\"/home/jupyter/work/resources/DiplomDimReduction/\")\n",
    "import importlib\n",
    "\n",
    "import config\n",
    "\n",
    "importlib.reload(config)\n",
    "import utils\n",
    "from config import config_dict\n",
    "\n",
    "importlib.reload(utils)\n",
    "\n",
    "import torch\n",
    "import torch.nn as nn\n",
    "from sklearn.decomposition import PCA, FastICA, KernelPCA, TruncatedSVD\n",
    "from sklearn.manifold import MDS, Isomap, LocallyLinearEmbedding\n",
    "from torch.utils.data import DataLoader, TensorDataset\n",
    "from umap import UMAP\n",
    "from utils import load_vectors, save_ae_model, save_sk_model"
   ]
  },
  {
   "cell_type": "code",
   "execution_count": 2,
   "metadata": {
    "execution": {
     "iopub.execute_input": "2025-05-14T16:40:43.934547Z",
     "iopub.status.busy": "2025-05-14T16:40:43.933026Z",
     "iopub.status.idle": "2025-05-14T16:40:43.945783Z",
     "shell.execute_reply": "2025-05-14T16:40:43.944820Z",
     "shell.execute_reply.started": "2025-05-14T16:40:43.934501Z"
    },
    "executionInfo": {
     "elapsed": 4,
     "status": "ok",
     "timestamp": 1746322283884,
     "user": {
      "displayName": "Аня Сафарян",
      "userId": "07200194749385482212"
     },
     "user_tz": -180
    },
    "id": "7Hm_XLEGlEl0",
    "tags": []
   },
   "outputs": [],
   "source": [
    "corpus_prefix = config_dict[\"marco_prefix\"]\n",
    "split_suffix = config_dict[\"train_suffix\"]"
   ]
  },
  {
   "cell_type": "code",
   "execution_count": 3,
   "metadata": {
    "execution": {
     "iopub.execute_input": "2025-05-14T16:40:43.948765Z",
     "iopub.status.busy": "2025-05-14T16:40:43.946839Z",
     "iopub.status.idle": "2025-05-14T16:40:43.961663Z",
     "shell.execute_reply": "2025-05-14T16:40:43.960732Z",
     "shell.execute_reply.started": "2025-05-14T16:40:43.948732Z"
    },
    "executionInfo": {
     "elapsed": 6,
     "status": "ok",
     "timestamp": 1746322285180,
     "user": {
      "displayName": "Аня Сафарян",
      "userId": "07200194749385482212"
     },
     "user_tz": -180
    },
    "id": "XX_O0e7YlKhG",
    "tags": []
   },
   "outputs": [],
   "source": [
    "# method_prefix = config_dict['dpr_prefix']\n",
    "# method_prefix = config_dict[\"ance_prefix\"]\n",
    "# method_prefix = config_dict['tas-b_prefix']\n",
    "method_prefix = config_dict[\"late interaction prefix\"]\n",
    "\n",
    "corpus_vector_path = config_dict[\"corpus_vector_template\"].format(\n",
    "    corpus_prefix, method_prefix, split_suffix\n",
    ")\n",
    "corpus_sample_vector_path = config_dict[\"corpus_sample_vector_template\"].format(\n",
    "    corpus_prefix, method_prefix, split_suffix\n",
    ")\n",
    "queries_vector_path = config_dict[\"queries_vector_template\"].format(\n",
    "    corpus_prefix, method_prefix, split_suffix\n",
    ")\n",
    "\n",
    "sk_model_path_template = config_dict[\"reduction_sk_model_template\"]\n",
    "ae_model_path_template = config_dict[\"reduction_ae_model_template\"]"
   ]
  },
  {
   "cell_type": "code",
   "execution_count": 4,
   "metadata": {
    "execution": {
     "iopub.execute_input": "2025-05-14T16:40:43.964811Z",
     "iopub.status.busy": "2025-05-14T16:40:43.963286Z",
     "iopub.status.idle": "2025-05-14T16:40:46.817205Z",
     "shell.execute_reply": "2025-05-14T16:40:46.816010Z",
     "shell.execute_reply.started": "2025-05-14T16:40:43.964766Z"
    },
    "tags": []
   },
   "outputs": [
    {
     "name": "stdout",
     "output_type": "stream",
     "text": [
      "CPU times: user 1.83 s, sys: 397 ms, total: 2.23 s\n",
      "Wall time: 2.84 s\n"
     ]
    },
    {
     "data": {
      "text/plain": [
       "(100000, 768)"
      ]
     },
     "execution_count": 4,
     "metadata": {},
     "output_type": "execute_result"
    }
   ],
   "source": [
    "%%time\n",
    "corpus_vectors = load_vectors(corpus_sample_vector_path)\n",
    "corpus_vectors.shape"
   ]
  },
  {
   "cell_type": "code",
   "execution_count": 5,
   "metadata": {
    "execution": {
     "iopub.execute_input": "2025-05-14T16:40:46.819477Z",
     "iopub.status.busy": "2025-05-14T16:40:46.818533Z",
     "iopub.status.idle": "2025-05-14T16:40:46.831283Z",
     "shell.execute_reply": "2025-05-14T16:40:46.830310Z",
     "shell.execute_reply.started": "2025-05-14T16:40:46.819433Z"
    },
    "executionInfo": {
     "elapsed": 1,
     "status": "ok",
     "timestamp": 1746322510403,
     "user": {
      "displayName": "Аня Сафарян",
      "userId": "07200194749385482212"
     },
     "user_tz": -180
    },
    "id": "ImJcXGUBl9Dw",
    "tags": []
   },
   "outputs": [],
   "source": [
    "red_dims = [512, 256, 128, 64]"
   ]
  },
  {
   "cell_type": "code",
   "execution_count": 6,
   "metadata": {
    "execution": {
     "iopub.execute_input": "2025-05-14T16:40:46.834148Z",
     "iopub.status.busy": "2025-05-14T16:40:46.832719Z",
     "iopub.status.idle": "2025-05-14T16:40:46.848070Z",
     "shell.execute_reply": "2025-05-14T16:40:46.847305Z",
     "shell.execute_reply.started": "2025-05-14T16:40:46.834103Z"
    },
    "executionInfo": {
     "elapsed": 13,
     "status": "ok",
     "timestamp": 1746322511726,
     "user": {
      "displayName": "Аня Сафарян",
      "userId": "07200194749385482212"
     },
     "user_tz": -180
    },
    "id": "MaYCRoxcmLZ4",
    "tags": []
   },
   "outputs": [],
   "source": [
    "def train_sk_models(model_fn, red_dims):  # TODO: kwargs\n",
    "    # with warnings.catch_warnings(record=True) as w:\n",
    "    #   warnings.simplefilter(\"always\", UserWarning)\n",
    "\n",
    "    for red_dim in tqdm(red_dims):\n",
    "        try:\n",
    "            red_model = model_fn(n_components=red_dim)\n",
    "            red_model.fit(corpus_vectors)\n",
    "            model_path = sk_model_path_template.format(\n",
    "                corpus_prefix, method_prefix, model_fn.__name__, red_dim\n",
    "            )\n",
    "            print(f\"{red_dim} is saved\")\n",
    "            save_sk_model(red_model, model_path)\n",
    "        except ValueError as ve:\n",
    "            print(f\"{red_dim} is passed because of '{ve}'\")\n",
    "            continue"
   ]
  },
  {
   "cell_type": "code",
   "execution_count": 7,
   "metadata": {
    "colab": {
     "base_uri": "https://localhost:8080/"
    },
    "execution": {
     "iopub.execute_input": "2025-05-14T16:19:20.595745Z",
     "iopub.status.busy": "2025-05-14T16:19:20.589817Z",
     "iopub.status.idle": "2025-05-14T16:19:51.914275Z",
     "shell.execute_reply": "2025-05-14T16:19:51.911217Z",
     "shell.execute_reply.started": "2025-05-14T16:19:20.595636Z"
    },
    "executionInfo": {
     "elapsed": 54073,
     "status": "ok",
     "timestamp": 1746322853097,
     "user": {
      "displayName": "Аня Сафарян",
      "userId": "07200194749385482212"
     },
     "user_tz": -180
    },
    "id": "8I3QmsYaor_B",
    "outputId": "21770198-1aa1-4736-9ee4-a0e5e614d46e",
    "tags": []
   },
   "outputs": [
    {
     "name": "stderr",
     "output_type": "stream",
     "text": [
      "  0%|          | 0/4 [00:00<?, ?it/s]"
     ]
    },
    {
     "name": "stdout",
     "output_type": "stream",
     "text": [
      "512 is saved\n",
      "/home/jupyter/work/resources/DiplomDimReduction//data/models/marco/colbert exists.\n"
     ]
    },
    {
     "name": "stderr",
     "output_type": "stream",
     "text": [
      " 25%|██▌       | 1/4 [00:14<00:43, 14.43s/it]"
     ]
    },
    {
     "name": "stdout",
     "output_type": "stream",
     "text": [
      "48 -> 1587149\n"
     ]
    },
    {
     "name": "stderr",
     "output_type": "stream",
     "text": [
      " 50%|█████     | 2/4 [00:21<00:20, 10.23s/it]"
     ]
    },
    {
     "name": "stdout",
     "output_type": "stream",
     "text": [
      "256 is saved\n",
      "/home/jupyter/work/resources/DiplomDimReduction//data/models/marco/colbert exists.\n",
      "48 -> 795597\n"
     ]
    },
    {
     "name": "stderr",
     "output_type": "stream",
     "text": [
      " 75%|███████▌  | 3/4 [00:26<00:07,  7.66s/it]"
     ]
    },
    {
     "name": "stdout",
     "output_type": "stream",
     "text": [
      "128 is saved\n",
      "/home/jupyter/work/resources/DiplomDimReduction//data/models/marco/colbert exists.\n",
      "48 -> 399821\n"
     ]
    },
    {
     "name": "stderr",
     "output_type": "stream",
     "text": [
      "100%|██████████| 4/4 [00:31<00:00,  7.81s/it]"
     ]
    },
    {
     "name": "stdout",
     "output_type": "stream",
     "text": [
      "64 is saved\n",
      "/home/jupyter/work/resources/DiplomDimReduction//data/models/marco/colbert exists.\n",
      "48 -> 201933\n",
      "CPU times: user 1min 24s, sys: 23.5 s, total: 1min 47s\n",
      "Wall time: 31.2 s\n"
     ]
    },
    {
     "name": "stderr",
     "output_type": "stream",
     "text": [
      "\n"
     ]
    }
   ],
   "source": [
    "%%time\n",
    "train_sk_models(PCA, red_dims)"
   ]
  },
  {
   "cell_type": "code",
   "execution_count": 8,
   "metadata": {
    "colab": {
     "base_uri": "https://localhost:8080/"
    },
    "execution": {
     "iopub.execute_input": "2025-05-14T16:19:51.920717Z",
     "iopub.status.busy": "2025-05-14T16:19:51.917823Z",
     "iopub.status.idle": "2025-05-14T16:19:52.478302Z",
     "shell.execute_reply": "2025-05-14T16:19:52.475884Z",
     "shell.execute_reply.started": "2025-05-14T16:19:51.920591Z"
    },
    "id": "uBmLZJiqq1uJ",
    "outputId": "f948e796-ae4f-4a0d-8473-bf4cb3db4d4c",
    "tags": []
   },
   "outputs": [
    {
     "name": "stderr",
     "output_type": "stream",
     "text": [
      "  0%|          | 0/4 [00:00<?, ?it/s]\n"
     ]
    },
    {
     "ename": "MemoryError",
     "evalue": "Unable to allocate 37.3 GiB for an array with shape (100000, 100000) and data type float32",
     "output_type": "error",
     "traceback": [
      "\u001b[0;31m---------------------------------------------------------------------------\u001b[0m",
      "\u001b[0;31mMemoryError\u001b[0m                               Traceback (most recent call last)",
      "\u001b[0;32m<timed eval>\u001b[0m in \u001b[0;36m<module>\u001b[0;34m\u001b[0m\n",
      "\u001b[0;32m/tmp/ipykernel_3649/703666861.py\u001b[0m in \u001b[0;36mtrain_sk_models\u001b[0;34m(model_fn, red_dims)\u001b[0m\n\u001b[1;32m      6\u001b[0m         \u001b[0;32mtry\u001b[0m\u001b[0;34m:\u001b[0m\u001b[0;34m\u001b[0m\u001b[0;34m\u001b[0m\u001b[0m\n\u001b[1;32m      7\u001b[0m             \u001b[0mred_model\u001b[0m \u001b[0;34m=\u001b[0m \u001b[0mmodel_fn\u001b[0m\u001b[0;34m(\u001b[0m\u001b[0mn_components\u001b[0m\u001b[0;34m=\u001b[0m\u001b[0mred_dim\u001b[0m\u001b[0;34m)\u001b[0m\u001b[0;34m\u001b[0m\u001b[0;34m\u001b[0m\u001b[0m\n\u001b[0;32m----> 8\u001b[0;31m             \u001b[0mred_model\u001b[0m\u001b[0;34m.\u001b[0m\u001b[0mfit\u001b[0m\u001b[0;34m(\u001b[0m\u001b[0mcorpus_vectors\u001b[0m\u001b[0;34m)\u001b[0m\u001b[0;34m\u001b[0m\u001b[0;34m\u001b[0m\u001b[0m\n\u001b[0m\u001b[1;32m      9\u001b[0m             model_path = sk_model_path_template.format(\n\u001b[1;32m     10\u001b[0m                 \u001b[0mcorpus_prefix\u001b[0m\u001b[0;34m,\u001b[0m \u001b[0mmethod_prefix\u001b[0m\u001b[0;34m,\u001b[0m \u001b[0mmodel_fn\u001b[0m\u001b[0;34m.\u001b[0m\u001b[0m__name__\u001b[0m\u001b[0;34m,\u001b[0m \u001b[0mred_dim\u001b[0m\u001b[0;34m\u001b[0m\u001b[0;34m\u001b[0m\u001b[0m\n",
      "\u001b[0;32m/usr/local/lib/python3.10/dist-packages/sklearn/decomposition/_kernel_pca.py\u001b[0m in \u001b[0;36mfit\u001b[0;34m(self, X, y)\u001b[0m\n\u001b[1;32m    421\u001b[0m         \u001b[0mX\u001b[0m \u001b[0;34m=\u001b[0m \u001b[0mself\u001b[0m\u001b[0;34m.\u001b[0m\u001b[0m_validate_data\u001b[0m\u001b[0;34m(\u001b[0m\u001b[0mX\u001b[0m\u001b[0;34m,\u001b[0m \u001b[0maccept_sparse\u001b[0m\u001b[0;34m=\u001b[0m\u001b[0;34m\"csr\"\u001b[0m\u001b[0;34m,\u001b[0m \u001b[0mcopy\u001b[0m\u001b[0;34m=\u001b[0m\u001b[0mself\u001b[0m\u001b[0;34m.\u001b[0m\u001b[0mcopy_X\u001b[0m\u001b[0;34m)\u001b[0m\u001b[0;34m\u001b[0m\u001b[0;34m\u001b[0m\u001b[0m\n\u001b[1;32m    422\u001b[0m         \u001b[0mself\u001b[0m\u001b[0;34m.\u001b[0m\u001b[0m_centerer\u001b[0m \u001b[0;34m=\u001b[0m \u001b[0mKernelCenterer\u001b[0m\u001b[0;34m(\u001b[0m\u001b[0;34m)\u001b[0m\u001b[0;34m\u001b[0m\u001b[0;34m\u001b[0m\u001b[0m\n\u001b[0;32m--> 423\u001b[0;31m         \u001b[0mK\u001b[0m \u001b[0;34m=\u001b[0m \u001b[0mself\u001b[0m\u001b[0;34m.\u001b[0m\u001b[0m_get_kernel\u001b[0m\u001b[0;34m(\u001b[0m\u001b[0mX\u001b[0m\u001b[0;34m)\u001b[0m\u001b[0;34m\u001b[0m\u001b[0;34m\u001b[0m\u001b[0m\n\u001b[0m\u001b[1;32m    424\u001b[0m         \u001b[0mself\u001b[0m\u001b[0;34m.\u001b[0m\u001b[0m_fit_transform\u001b[0m\u001b[0;34m(\u001b[0m\u001b[0mK\u001b[0m\u001b[0;34m)\u001b[0m\u001b[0;34m\u001b[0m\u001b[0;34m\u001b[0m\u001b[0m\n\u001b[1;32m    425\u001b[0m \u001b[0;34m\u001b[0m\u001b[0m\n",
      "\u001b[0;32m/usr/local/lib/python3.10/dist-packages/sklearn/decomposition/_kernel_pca.py\u001b[0m in \u001b[0;36m_get_kernel\u001b[0;34m(self, X, Y)\u001b[0m\n\u001b[1;32m    302\u001b[0m         \u001b[0;32melse\u001b[0m\u001b[0;34m:\u001b[0m\u001b[0;34m\u001b[0m\u001b[0;34m\u001b[0m\u001b[0m\n\u001b[1;32m    303\u001b[0m             \u001b[0mparams\u001b[0m \u001b[0;34m=\u001b[0m \u001b[0;34m{\u001b[0m\u001b[0;34m\"gamma\"\u001b[0m\u001b[0;34m:\u001b[0m \u001b[0mself\u001b[0m\u001b[0;34m.\u001b[0m\u001b[0mgamma\u001b[0m\u001b[0;34m,\u001b[0m \u001b[0;34m\"degree\"\u001b[0m\u001b[0;34m:\u001b[0m \u001b[0mself\u001b[0m\u001b[0;34m.\u001b[0m\u001b[0mdegree\u001b[0m\u001b[0;34m,\u001b[0m \u001b[0;34m\"coef0\"\u001b[0m\u001b[0;34m:\u001b[0m \u001b[0mself\u001b[0m\u001b[0;34m.\u001b[0m\u001b[0mcoef0\u001b[0m\u001b[0;34m}\u001b[0m\u001b[0;34m\u001b[0m\u001b[0;34m\u001b[0m\u001b[0m\n\u001b[0;32m--> 304\u001b[0;31m         return pairwise_kernels(\n\u001b[0m\u001b[1;32m    305\u001b[0m             \u001b[0mX\u001b[0m\u001b[0;34m,\u001b[0m \u001b[0mY\u001b[0m\u001b[0;34m,\u001b[0m \u001b[0mmetric\u001b[0m\u001b[0;34m=\u001b[0m\u001b[0mself\u001b[0m\u001b[0;34m.\u001b[0m\u001b[0mkernel\u001b[0m\u001b[0;34m,\u001b[0m \u001b[0mfilter_params\u001b[0m\u001b[0;34m=\u001b[0m\u001b[0;32mTrue\u001b[0m\u001b[0;34m,\u001b[0m \u001b[0mn_jobs\u001b[0m\u001b[0;34m=\u001b[0m\u001b[0mself\u001b[0m\u001b[0;34m.\u001b[0m\u001b[0mn_jobs\u001b[0m\u001b[0;34m,\u001b[0m \u001b[0;34m**\u001b[0m\u001b[0mparams\u001b[0m\u001b[0;34m\u001b[0m\u001b[0;34m\u001b[0m\u001b[0m\n\u001b[1;32m    306\u001b[0m         )\n",
      "\u001b[0;32m/usr/local/lib/python3.10/dist-packages/sklearn/metrics/pairwise.py\u001b[0m in \u001b[0;36mpairwise_kernels\u001b[0;34m(X, Y, metric, filter_params, n_jobs, **kwds)\u001b[0m\n\u001b[1;32m   2203\u001b[0m         \u001b[0;32mraise\u001b[0m \u001b[0mValueError\u001b[0m\u001b[0;34m(\u001b[0m\u001b[0;34m\"Unknown kernel %r\"\u001b[0m \u001b[0;34m%\u001b[0m \u001b[0mmetric\u001b[0m\u001b[0;34m)\u001b[0m\u001b[0;34m\u001b[0m\u001b[0;34m\u001b[0m\u001b[0m\n\u001b[1;32m   2204\u001b[0m \u001b[0;34m\u001b[0m\u001b[0m\n\u001b[0;32m-> 2205\u001b[0;31m     \u001b[0;32mreturn\u001b[0m \u001b[0m_parallel_pairwise\u001b[0m\u001b[0;34m(\u001b[0m\u001b[0mX\u001b[0m\u001b[0;34m,\u001b[0m \u001b[0mY\u001b[0m\u001b[0;34m,\u001b[0m \u001b[0mfunc\u001b[0m\u001b[0;34m,\u001b[0m \u001b[0mn_jobs\u001b[0m\u001b[0;34m,\u001b[0m \u001b[0;34m**\u001b[0m\u001b[0mkwds\u001b[0m\u001b[0;34m)\u001b[0m\u001b[0;34m\u001b[0m\u001b[0;34m\u001b[0m\u001b[0m\n\u001b[0m",
      "\u001b[0;32m/usr/local/lib/python3.10/dist-packages/sklearn/metrics/pairwise.py\u001b[0m in \u001b[0;36m_parallel_pairwise\u001b[0;34m(X, Y, func, n_jobs, **kwds)\u001b[0m\n\u001b[1;32m   1577\u001b[0m \u001b[0;34m\u001b[0m\u001b[0m\n\u001b[1;32m   1578\u001b[0m     \u001b[0;32mif\u001b[0m \u001b[0meffective_n_jobs\u001b[0m\u001b[0;34m(\u001b[0m\u001b[0mn_jobs\u001b[0m\u001b[0;34m)\u001b[0m \u001b[0;34m==\u001b[0m \u001b[0;36m1\u001b[0m\u001b[0;34m:\u001b[0m\u001b[0;34m\u001b[0m\u001b[0;34m\u001b[0m\u001b[0m\n\u001b[0;32m-> 1579\u001b[0;31m         \u001b[0;32mreturn\u001b[0m \u001b[0mfunc\u001b[0m\u001b[0;34m(\u001b[0m\u001b[0mX\u001b[0m\u001b[0;34m,\u001b[0m \u001b[0mY\u001b[0m\u001b[0;34m,\u001b[0m \u001b[0;34m**\u001b[0m\u001b[0mkwds\u001b[0m\u001b[0;34m)\u001b[0m\u001b[0;34m\u001b[0m\u001b[0;34m\u001b[0m\u001b[0m\n\u001b[0m\u001b[1;32m   1580\u001b[0m \u001b[0;34m\u001b[0m\u001b[0m\n\u001b[1;32m   1581\u001b[0m     \u001b[0;31m# enforce a threading backend to prevent data communication overhead\u001b[0m\u001b[0;34m\u001b[0m\u001b[0;34m\u001b[0m\u001b[0m\n",
      "\u001b[0;32m/usr/local/lib/python3.10/dist-packages/sklearn/metrics/pairwise.py\u001b[0m in \u001b[0;36mlinear_kernel\u001b[0;34m(X, Y, dense_output)\u001b[0m\n\u001b[1;32m   1202\u001b[0m     \"\"\"\n\u001b[1;32m   1203\u001b[0m     \u001b[0mX\u001b[0m\u001b[0;34m,\u001b[0m \u001b[0mY\u001b[0m \u001b[0;34m=\u001b[0m \u001b[0mcheck_pairwise_arrays\u001b[0m\u001b[0;34m(\u001b[0m\u001b[0mX\u001b[0m\u001b[0;34m,\u001b[0m \u001b[0mY\u001b[0m\u001b[0;34m)\u001b[0m\u001b[0;34m\u001b[0m\u001b[0;34m\u001b[0m\u001b[0m\n\u001b[0;32m-> 1204\u001b[0;31m     \u001b[0;32mreturn\u001b[0m \u001b[0msafe_sparse_dot\u001b[0m\u001b[0;34m(\u001b[0m\u001b[0mX\u001b[0m\u001b[0;34m,\u001b[0m \u001b[0mY\u001b[0m\u001b[0;34m.\u001b[0m\u001b[0mT\u001b[0m\u001b[0;34m,\u001b[0m \u001b[0mdense_output\u001b[0m\u001b[0;34m=\u001b[0m\u001b[0mdense_output\u001b[0m\u001b[0;34m)\u001b[0m\u001b[0;34m\u001b[0m\u001b[0;34m\u001b[0m\u001b[0m\n\u001b[0m\u001b[1;32m   1205\u001b[0m \u001b[0;34m\u001b[0m\u001b[0m\n\u001b[1;32m   1206\u001b[0m \u001b[0;34m\u001b[0m\u001b[0m\n",
      "\u001b[0;32m/usr/local/lib/python3.10/dist-packages/sklearn/utils/extmath.py\u001b[0m in \u001b[0;36msafe_sparse_dot\u001b[0;34m(a, b, dense_output)\u001b[0m\n\u001b[1;32m    187\u001b[0m             \u001b[0mret\u001b[0m \u001b[0;34m=\u001b[0m \u001b[0mnp\u001b[0m\u001b[0;34m.\u001b[0m\u001b[0mdot\u001b[0m\u001b[0;34m(\u001b[0m\u001b[0ma\u001b[0m\u001b[0;34m,\u001b[0m \u001b[0mb\u001b[0m\u001b[0;34m)\u001b[0m\u001b[0;34m\u001b[0m\u001b[0;34m\u001b[0m\u001b[0m\n\u001b[1;32m    188\u001b[0m     \u001b[0;32melse\u001b[0m\u001b[0;34m:\u001b[0m\u001b[0;34m\u001b[0m\u001b[0;34m\u001b[0m\u001b[0m\n\u001b[0;32m--> 189\u001b[0;31m         \u001b[0mret\u001b[0m \u001b[0;34m=\u001b[0m \u001b[0ma\u001b[0m \u001b[0;34m@\u001b[0m \u001b[0mb\u001b[0m\u001b[0;34m\u001b[0m\u001b[0;34m\u001b[0m\u001b[0m\n\u001b[0m\u001b[1;32m    190\u001b[0m \u001b[0;34m\u001b[0m\u001b[0m\n\u001b[1;32m    191\u001b[0m     if (\n",
      "\u001b[0;31mMemoryError\u001b[0m: Unable to allocate 37.3 GiB for an array with shape (100000, 100000) and data type float32"
     ]
    }
   ],
   "source": [
    "%%time\n",
    "train_sk_models(KernelPCA, red_dims)"
   ]
  },
  {
   "cell_type": "code",
   "execution_count": 9,
   "metadata": {
    "execution": {
     "iopub.execute_input": "2025-05-14T16:19:52.485191Z",
     "iopub.status.busy": "2025-05-14T16:19:52.482439Z",
     "iopub.status.idle": "2025-05-14T16:20:28.433014Z",
     "shell.execute_reply": "2025-05-14T16:20:28.430987Z",
     "shell.execute_reply.started": "2025-05-14T16:19:52.485087Z"
    },
    "id": "ja2OE4oEqVjg",
    "tags": []
   },
   "outputs": [
    {
     "name": "stderr",
     "output_type": "stream",
     "text": [
      " 25%|██▌       | 1/4 [00:17<00:52, 17.37s/it]"
     ]
    },
    {
     "name": "stdout",
     "output_type": "stream",
     "text": [
      "512 is saved\n",
      "/home/jupyter/work/resources/DiplomDimReduction//data/models/marco/colbert exists.\n",
      "48 -> 1579751\n"
     ]
    },
    {
     "name": "stderr",
     "output_type": "stream",
     "text": [
      " 50%|█████     | 2/4 [00:26<00:24, 12.42s/it]"
     ]
    },
    {
     "name": "stdout",
     "output_type": "stream",
     "text": [
      "256 is saved\n",
      "/home/jupyter/work/resources/DiplomDimReduction//data/models/marco/colbert exists.\n",
      "48 -> 790247\n"
     ]
    },
    {
     "name": "stderr",
     "output_type": "stream",
     "text": [
      " 75%|███████▌  | 3/4 [00:31<00:09,  9.28s/it]"
     ]
    },
    {
     "name": "stdout",
     "output_type": "stream",
     "text": [
      "128 is saved\n",
      "/home/jupyter/work/resources/DiplomDimReduction//data/models/marco/colbert exists.\n",
      "48 -> 395495\n"
     ]
    },
    {
     "name": "stderr",
     "output_type": "stream",
     "text": [
      "100%|██████████| 4/4 [00:35<00:00,  8.98s/it]"
     ]
    },
    {
     "name": "stdout",
     "output_type": "stream",
     "text": [
      "64 is saved\n",
      "/home/jupyter/work/resources/DiplomDimReduction//data/models/marco/colbert exists.\n",
      "48 -> 198119\n",
      "CPU times: user 1min 37s, sys: 27 s, total: 2min 4s\n",
      "Wall time: 35.9 s\n"
     ]
    },
    {
     "name": "stderr",
     "output_type": "stream",
     "text": [
      "\n"
     ]
    }
   ],
   "source": [
    "%%time\n",
    "train_sk_models(TruncatedSVD, red_dims)"
   ]
  },
  {
   "cell_type": "code",
   "execution_count": 10,
   "metadata": {
    "execution": {
     "iopub.execute_input": "2025-05-14T16:20:28.446129Z",
     "iopub.status.busy": "2025-05-14T16:20:28.441223Z",
     "iopub.status.idle": "2025-05-14T16:23:45.259345Z",
     "shell.execute_reply": "2025-05-14T16:23:45.257668Z",
     "shell.execute_reply.started": "2025-05-14T16:20:28.446033Z"
    },
    "id": "xwLg8lOqqt7F",
    "tags": []
   },
   "outputs": [
    {
     "name": "stderr",
     "output_type": "stream",
     "text": [
      "  0%|          | 0/4 [00:00<?, ?it/s]/usr/local/lib/python3.10/dist-packages/sklearn/decomposition/_fastica.py:542: FutureWarning: Starting in v1.3, whiten='unit-variance' will be used by default.\n",
      "  warnings.warn(\n",
      " 25%|██▌       | 1/4 [00:31<01:33, 31.28s/it]"
     ]
    },
    {
     "name": "stdout",
     "output_type": "stream",
     "text": [
      "512 is passed because of 'array must not contain infs or NaNs'\n"
     ]
    },
    {
     "name": "stderr",
     "output_type": "stream",
     "text": [
      "/usr/local/lib/python3.10/dist-packages/sklearn/decomposition/_fastica.py:542: FutureWarning: Starting in v1.3, whiten='unit-variance' will be used by default.\n",
      "  warnings.warn(\n",
      " 50%|█████     | 2/4 [01:51<01:59, 59.87s/it]"
     ]
    },
    {
     "name": "stdout",
     "output_type": "stream",
     "text": [
      "256 is saved\n",
      "/home/jupyter/work/resources/DiplomDimReduction//data/models/marco/colbert exists.\n",
      "48 -> 2625319\n"
     ]
    },
    {
     "name": "stderr",
     "output_type": "stream",
     "text": [
      "/usr/local/lib/python3.10/dist-packages/sklearn/decomposition/_fastica.py:542: FutureWarning: Starting in v1.3, whiten='unit-variance' will be used by default.\n",
      "  warnings.warn(\n",
      " 75%|███████▌  | 3/4 [02:37<00:53, 53.53s/it]"
     ]
    },
    {
     "name": "stdout",
     "output_type": "stream",
     "text": [
      "128 is saved\n",
      "/home/jupyter/work/resources/DiplomDimReduction//data/models/marco/colbert exists.\n",
      "48 -> 1249063\n"
     ]
    },
    {
     "name": "stderr",
     "output_type": "stream",
     "text": [
      "/usr/local/lib/python3.10/dist-packages/sklearn/decomposition/_fastica.py:542: FutureWarning: Starting in v1.3, whiten='unit-variance' will be used by default.\n",
      "  warnings.warn(\n",
      "100%|██████████| 4/4 [03:16<00:00, 49.19s/it]"
     ]
    },
    {
     "name": "stdout",
     "output_type": "stream",
     "text": [
      "64 is saved\n",
      "/home/jupyter/work/resources/DiplomDimReduction//data/models/marco/colbert exists.\n",
      "48 -> 610087\n",
      "CPU times: user 9min 57s, sys: 2min 54s, total: 12min 52s\n",
      "Wall time: 3min 16s\n"
     ]
    },
    {
     "name": "stderr",
     "output_type": "stream",
     "text": [
      "\n"
     ]
    }
   ],
   "source": [
    "%%time\n",
    "train_sk_models(FastICA, red_dims)"
   ]
  },
  {
   "cell_type": "code",
   "execution_count": null,
   "metadata": {
    "execution": {
     "iopub.execute_input": "2025-05-14T16:40:46.849674Z",
     "iopub.status.busy": "2025-05-14T16:40:46.848990Z",
     "iopub.status.idle": "2025-05-14T17:10:55.299825Z"
    },
    "tags": []
   },
   "outputs": [
    {
     "name": "stderr",
     "output_type": "stream",
     "text": [
      "  0%|          | 0/4 [00:00<?, ?it/s]"
     ]
    },
    {
     "name": "stdout",
     "output_type": "stream",
     "text": [
      "512 is saved\n",
      "/home/jupyter/work/resources/DiplomDimReduction//data/models/marco/colbert exists.\n"
     ]
    },
    {
     "name": "stderr",
     "output_type": "stream",
     "text": [
      " 25%|██▌       | 1/4 [16:40<50:01, 1000.45s/it]"
     ]
    },
    {
     "name": "stdout",
     "output_type": "stream",
     "text": [
      "48 -> 1388481565\n",
      "256 is saved\n",
      "/home/jupyter/work/resources/DiplomDimReduction//data/models/marco/colbert exists.\n"
     ]
    },
    {
     "name": "stderr",
     "output_type": "stream",
     "text": [
      " 50%|█████     | 2/4 [23:59<22:20, 670.41s/it] "
     ]
    },
    {
     "name": "stdout",
     "output_type": "stream",
     "text": [
      "48 -> 1285930845\n",
      "128 is saved\n",
      "/home/jupyter/work/resources/DiplomDimReduction//data/models/marco/colbert exists.\n"
     ]
    },
    {
     "name": "stderr",
     "output_type": "stream",
     "text": [
      " 75%|███████▌  | 3/4 [27:42<07:45, 465.86s/it]"
     ]
    },
    {
     "name": "stdout",
     "output_type": "stream",
     "text": [
      "48 -> 1234364621\n",
      "64 is saved\n",
      "/home/jupyter/work/resources/DiplomDimReduction//data/models/marco/colbert exists.\n"
     ]
    },
    {
     "name": "stderr",
     "output_type": "stream",
     "text": [
      "100%|██████████| 4/4 [30:08<00:00, 339.64s/it]"
     ]
    },
    {
     "name": "stdout",
     "output_type": "stream",
     "text": [
      "48 -> 1207727325\n"
     ]
    },
    {
     "name": "stderr",
     "output_type": "stream",
     "text": [
      "100%|██████████| 4/4 [30:08<00:00, 452.11s/it]"
     ]
    },
    {
     "name": "stdout",
     "output_type": "stream",
     "text": [
      "CPU times: user 3h 24min 56s, sys: 14min 13s, total: 3h 39min 9s\n",
      "Wall time: 30min 8s\n"
     ]
    },
    {
     "name": "stderr",
     "output_type": "stream",
     "text": [
      "\n"
     ]
    }
   ],
   "source": [
    "%%time\n",
    "train_sk_models(UMAP, red_dims)"
   ]
  },
  {
   "cell_type": "code",
   "execution_count": null,
   "metadata": {
    "execution": {
     "iopub.execute_input": "2025-05-14T16:38:22.293643Z",
     "iopub.status.busy": "2025-05-14T16:38:22.291741Z"
    },
    "id": "FxERybSItzAR",
    "tags": []
   },
   "outputs": [
    {
     "name": "stderr",
     "output_type": "stream",
     "text": [
      "  0%|          | 0/4 [00:00<?, ?it/s]"
     ]
    }
   ],
   "source": [
    "%%time\n",
    "train_sk_models(Isomap, red_dims)"
   ]
  },
  {
   "cell_type": "code",
   "execution_count": null,
   "metadata": {
    "id": "zAl_eaz1x8nz",
    "tags": []
   },
   "outputs": [],
   "source": [
    "%%time\n",
    "train_sk_models(MDS, red_dims)"
   ]
  },
  {
   "cell_type": "code",
   "execution_count": null,
   "metadata": {
    "id": "h-YfVDIMyFzc",
    "tags": []
   },
   "outputs": [],
   "source": [
    "%%time\n",
    "train_sk_models(LocallyLinearEmbedding, red_dims)"
   ]
  },
  {
   "cell_type": "code",
   "execution_count": null,
   "metadata": {
    "execution": {
     "iopub.execute_input": "2025-05-14T17:10:55.302085Z",
     "iopub.status.busy": "2025-05-14T17:10:55.300855Z",
     "iopub.status.idle": "2025-05-14T17:10:55.314551Z"
    },
    "id": "g_Hi-HMZyJYv",
    "tags": []
   },
   "outputs": [],
   "source": [
    "class LinearAutoencoder(nn.Module):  #TODO: дропаут\n",
    "    def __init__(self, input_dim, output_dim):\n",
    "        self.__name__ = \"LinearAutoEncoder\"\n",
    "        super(LinearAutoencoder, self).__init__()\n",
    "        self.encoder = nn.Linear(input_dim, output_dim)\n",
    "        self.decoder = nn.Linear(output_dim, input_dim)\n",
    "\n",
    "    def forward(self, x):\n",
    "        encoded = self.encoder(x)\n",
    "        decoded = self.decoder(encoded)\n",
    "        return encoded, decoded"
   ]
  },
  {
   "cell_type": "code",
   "execution_count": null,
   "metadata": {
    "execution": {
     "iopub.execute_input": "2025-05-14T17:10:55.316477Z",
     "iopub.status.busy": "2025-05-14T17:10:55.315885Z",
     "iopub.status.idle": "2025-05-14T17:10:55.521215Z"
    },
    "id": "sik9Ln-kz1n8",
    "tags": []
   },
   "outputs": [],
   "source": [
    "device = torch.device(\"cuda\" if torch.cuda.is_available() else \"cpu\")"
   ]
  },
  {
   "cell_type": "code",
   "execution_count": null,
   "metadata": {
    "execution": {
     "iopub.execute_input": "2025-05-14T17:10:55.525249Z",
     "iopub.status.busy": "2025-05-14T17:10:55.524466Z",
     "iopub.status.idle": "2025-05-14T17:10:55.775713Z"
    },
    "id": "jmCEfN4Zz4Tp",
    "tags": []
   },
   "outputs": [],
   "source": [
    "batch_size = 16\n",
    "dataloader = DataLoader(\n",
    "    TensorDataset(torch.tensor(corpus_vectors, dtype=torch.float32)),\n",
    "    batch_size=batch_size,\n",
    "    shuffle=True,\n",
    ")"
   ]
  },
  {
   "cell_type": "code",
   "execution_count": null,
   "metadata": {
    "execution": {
     "iopub.execute_input": "2025-05-14T17:10:55.778652Z",
     "iopub.status.busy": "2025-05-14T17:10:55.776939Z",
     "iopub.status.idle": "2025-05-14T17:10:55.792982Z"
    },
    "id": "vrEN6ueZ0rQE",
    "tags": []
   },
   "outputs": [],
   "source": [
    "def train_ae_models(model_class, red_dims, n_epochs):\n",
    "    for red_dim in tqdm(red_dims):\n",
    "        model = model_class(input_dim=corpus_vectors.shape[1], output_dim=red_dim)\n",
    "        model.to(device)\n",
    "        optimizer = torch.optim.Adam(model.parameters(), lr=1e-3)\n",
    "        loss_fn = nn.MSELoss()\n",
    "\n",
    "        for epoch in range(n_epochs):\n",
    "            model.train()\n",
    "            total_loss = 0\n",
    "            for batch in dataloader:\n",
    "                batch_inputs = batch[0].to(device)\n",
    "\n",
    "                optimizer.zero_grad()\n",
    "                _, decoded = model(batch_inputs)\n",
    "                loss = loss_fn(decoded, batch_inputs)\n",
    "                loss.backward()\n",
    "                optimizer.step()\n",
    "\n",
    "                total_loss += loss.item()\n",
    "\n",
    "            avg_loss = total_loss / len(dataloader)\n",
    "            if (epoch + 1) % 5 == 0:\n",
    "                print(f\"Epoch {epoch+1}, Average Loss: {avg_loss:.4f}\")\n",
    "\n",
    "            # model.eval()\n",
    "            # with torch.no_grad():\n",
    "            #   embeddings_tensor = torch.tensor(corpus_vectors, dtype=torch.float32).to(device)\n",
    "            #   reduced_embeddings, _ = model(embeddings_tensor)\n",
    "            #   reduced_embeddings = reduced_embeddings.cpu().numpy()\n",
    "\n",
    "        ae_model_path = ae_model_path_template.format(\n",
    "            corpus_prefix, method_prefix, model.__name__, red_dim\n",
    "        )\n",
    "        save_ae_model(model, ae_model_path)"
   ]
  },
  {
   "cell_type": "code",
   "execution_count": null,
   "metadata": {
    "execution": {
     "iopub.execute_input": "2025-05-14T17:10:55.795119Z",
     "iopub.status.busy": "2025-05-14T17:10:55.794020Z",
     "iopub.status.idle": "2025-05-14T17:25:20.229020Z"
    },
    "id": "V1iZApQllE7h",
    "tags": []
   },
   "outputs": [
    {
     "name": "stderr",
     "output_type": "stream",
     "text": [
      "  0%|          | 0/4 [00:00<?, ?it/s]"
     ]
    },
    {
     "name": "stdout",
     "output_type": "stream",
     "text": [
      "Epoch 5, Average Loss: 0.0001\n",
      "Epoch 10, Average Loss: 0.0001\n",
      "Epoch 15, Average Loss: 0.0001\n",
      "Epoch 20, Average Loss: 0.0001\n",
      "/home/jupyter/work/resources/DiplomDimReduction//data/models/marco/colbert exists.\n"
     ]
    },
    {
     "name": "stderr",
     "output_type": "stream",
     "text": [
      " 25%|██▌       | 1/4 [04:59<14:59, 299.88s/it]"
     ]
    },
    {
     "name": "stdout",
     "output_type": "stream",
     "text": [
      "48 -> 3153513\n",
      "Epoch 5, Average Loss: 0.0001\n",
      "Epoch 10, Average Loss: 0.0001\n",
      "Epoch 15, Average Loss: 0.0001\n"
     ]
    },
    {
     "name": "stderr",
     "output_type": "stream",
     "text": [
      " 50%|█████     | 2/4 [08:31<08:16, 248.02s/it]"
     ]
    },
    {
     "name": "stdout",
     "output_type": "stream",
     "text": [
      "Epoch 20, Average Loss: 0.0001\n",
      "/home/jupyter/work/resources/DiplomDimReduction//data/models/marco/colbert exists.\n",
      "48 -> 1579625\n",
      "Epoch 5, Average Loss: 0.0002\n",
      "Epoch 10, Average Loss: 0.0002\n",
      "Epoch 15, Average Loss: 0.0002\n"
     ]
    },
    {
     "name": "stderr",
     "output_type": "stream",
     "text": [
      " 75%|███████▌  | 3/4 [11:35<03:38, 218.69s/it]"
     ]
    },
    {
     "name": "stdout",
     "output_type": "stream",
     "text": [
      "Epoch 20, Average Loss: 0.0002\n",
      "/home/jupyter/work/resources/DiplomDimReduction//data/models/marco/colbert exists.\n",
      "48 -> 792681\n",
      "Epoch 5, Average Loss: 0.0004\n",
      "Epoch 10, Average Loss: 0.0004\n",
      "Epoch 15, Average Loss: 0.0004\n"
     ]
    },
    {
     "name": "stderr",
     "output_type": "stream",
     "text": [
      "100%|██████████| 4/4 [14:24<00:00, 216.10s/it]"
     ]
    },
    {
     "name": "stdout",
     "output_type": "stream",
     "text": [
      "Epoch 20, Average Loss: 0.0004\n",
      "/home/jupyter/work/resources/DiplomDimReduction//data/models/marco/colbert exists.\n",
      "48 -> 399199\n"
     ]
    },
    {
     "name": "stderr",
     "output_type": "stream",
     "text": [
      "\n"
     ]
    }
   ],
   "source": [
    "train_ae_models(LinearAutoencoder, red_dims, n_epochs=20)"
   ]
  },
  {
   "cell_type": "code",
   "execution_count": null,
   "metadata": {
    "execution": {
     "iopub.execute_input": "2025-05-14T17:25:20.231346Z",
     "iopub.status.busy": "2025-05-14T17:25:20.230111Z",
     "iopub.status.idle": "2025-05-14T17:25:20.242637Z"
    }
   },
   "outputs": [],
   "source": [
    "class Autoencoder(nn.Module):  #TODO: дропаут\n",
    "    def __init__(self, input_dim, output_dim, hidden_dim=256):\n",
    "        self.__name__ = f\"AutoEncoder{hidden_dim}\"\n",
    "        super(Autoencoder, self).__init__()\n",
    "        self.encoder = nn.Sequential(\n",
    "            nn.Linear(input_dim, hidden_dim),\n",
    "            nn.ReLU(),\n",
    "            nn.Linear(hidden_dim, output_dim),\n",
    "        )\n",
    "        self.decoder = nn.Sequential(\n",
    "            nn.Linear(output_dim, hidden_dim),\n",
    "            nn.ReLU(),\n",
    "            nn.Linear(hidden_dim, input_dim),\n",
    "        )\n",
    "        \n",
    "    def forward(self, x):\n",
    "        encoded = self.encoder(x)\n",
    "        decoded = self.decoder(encoded)\n",
    "        return encoded, decoded"
   ]
  },
  {
   "cell_type": "code",
   "execution_count": null,
   "metadata": {
    "execution": {
     "iopub.execute_input": "2025-05-14T17:25:20.244272Z",
     "iopub.status.busy": "2025-05-14T17:25:20.243522Z",
     "iopub.status.idle": "2025-05-14T17:25:20.379951Z"
    }
   },
   "outputs": [
    {
     "name": "stderr",
     "output_type": "stream",
     "text": [
      "  0%|          | 0/4 [00:00<?, ?it/s]\n"
     ]
    },
    {
     "ename": "TypeError",
     "evalue": "super(type, obj): obj must be an instance or subtype of type",
     "output_type": "error",
     "traceback": [
      "\u001b[0;31m---------------------------------------------------------------------------\u001b[0m",
      "\u001b[0;31mTypeError\u001b[0m                                 Traceback (most recent call last)",
      "\u001b[0;32m/tmp/ipykernel_4043/1493313422.py\u001b[0m in \u001b[0;36m<cell line: 1>\u001b[0;34m()\u001b[0m\n\u001b[0;32m----> 1\u001b[0;31m \u001b[0mtrain_ae_models\u001b[0m\u001b[0;34m(\u001b[0m\u001b[0mAutoencoder\u001b[0m\u001b[0;34m,\u001b[0m \u001b[0mred_dims\u001b[0m\u001b[0;34m,\u001b[0m \u001b[0mn_epochs\u001b[0m\u001b[0;34m=\u001b[0m\u001b[0;36m20\u001b[0m\u001b[0;34m)\u001b[0m\u001b[0;34m\u001b[0m\u001b[0;34m\u001b[0m\u001b[0m\n\u001b[0m",
      "\u001b[0;32m/tmp/ipykernel_4043/1684874251.py\u001b[0m in \u001b[0;36mtrain_ae_models\u001b[0;34m(model_class, red_dims, n_epochs)\u001b[0m\n\u001b[1;32m      1\u001b[0m \u001b[0;32mdef\u001b[0m \u001b[0mtrain_ae_models\u001b[0m\u001b[0;34m(\u001b[0m\u001b[0mmodel_class\u001b[0m\u001b[0;34m,\u001b[0m \u001b[0mred_dims\u001b[0m\u001b[0;34m,\u001b[0m \u001b[0mn_epochs\u001b[0m\u001b[0;34m)\u001b[0m\u001b[0;34m:\u001b[0m\u001b[0;34m\u001b[0m\u001b[0;34m\u001b[0m\u001b[0m\n\u001b[1;32m      2\u001b[0m     \u001b[0;32mfor\u001b[0m \u001b[0mred_dim\u001b[0m \u001b[0;32min\u001b[0m \u001b[0mtqdm\u001b[0m\u001b[0;34m(\u001b[0m\u001b[0mred_dims\u001b[0m\u001b[0;34m)\u001b[0m\u001b[0;34m:\u001b[0m\u001b[0;34m\u001b[0m\u001b[0;34m\u001b[0m\u001b[0m\n\u001b[0;32m----> 3\u001b[0;31m         \u001b[0mmodel\u001b[0m \u001b[0;34m=\u001b[0m \u001b[0mmodel_class\u001b[0m\u001b[0;34m(\u001b[0m\u001b[0minput_dim\u001b[0m\u001b[0;34m=\u001b[0m\u001b[0mcorpus_vectors\u001b[0m\u001b[0;34m.\u001b[0m\u001b[0mshape\u001b[0m\u001b[0;34m[\u001b[0m\u001b[0;36m1\u001b[0m\u001b[0;34m]\u001b[0m\u001b[0;34m,\u001b[0m \u001b[0moutput_dim\u001b[0m\u001b[0;34m=\u001b[0m\u001b[0mred_dim\u001b[0m\u001b[0;34m)\u001b[0m\u001b[0;34m\u001b[0m\u001b[0;34m\u001b[0m\u001b[0m\n\u001b[0m\u001b[1;32m      4\u001b[0m         \u001b[0mmodel\u001b[0m\u001b[0;34m.\u001b[0m\u001b[0mto\u001b[0m\u001b[0;34m(\u001b[0m\u001b[0mdevice\u001b[0m\u001b[0;34m)\u001b[0m\u001b[0;34m\u001b[0m\u001b[0;34m\u001b[0m\u001b[0m\n\u001b[1;32m      5\u001b[0m         \u001b[0moptimizer\u001b[0m \u001b[0;34m=\u001b[0m \u001b[0mtorch\u001b[0m\u001b[0;34m.\u001b[0m\u001b[0moptim\u001b[0m\u001b[0;34m.\u001b[0m\u001b[0mAdam\u001b[0m\u001b[0;34m(\u001b[0m\u001b[0mmodel\u001b[0m\u001b[0;34m.\u001b[0m\u001b[0mparameters\u001b[0m\u001b[0;34m(\u001b[0m\u001b[0;34m)\u001b[0m\u001b[0;34m,\u001b[0m \u001b[0mlr\u001b[0m\u001b[0;34m=\u001b[0m\u001b[0;36m1e-3\u001b[0m\u001b[0;34m)\u001b[0m\u001b[0;34m\u001b[0m\u001b[0;34m\u001b[0m\u001b[0m\n",
      "\u001b[0;32m/tmp/ipykernel_4043/2875236210.py\u001b[0m in \u001b[0;36m__init__\u001b[0;34m(self, input_dim, output_dim, hidden_dim)\u001b[0m\n\u001b[1;32m      2\u001b[0m     \u001b[0;32mdef\u001b[0m \u001b[0m__init__\u001b[0m\u001b[0;34m(\u001b[0m\u001b[0mself\u001b[0m\u001b[0;34m,\u001b[0m \u001b[0minput_dim\u001b[0m\u001b[0;34m,\u001b[0m \u001b[0moutput_dim\u001b[0m\u001b[0;34m,\u001b[0m \u001b[0mhidden_dim\u001b[0m\u001b[0;34m=\u001b[0m\u001b[0;36m256\u001b[0m\u001b[0;34m)\u001b[0m\u001b[0;34m:\u001b[0m\u001b[0;34m\u001b[0m\u001b[0;34m\u001b[0m\u001b[0m\n\u001b[1;32m      3\u001b[0m         \u001b[0mself\u001b[0m\u001b[0;34m.\u001b[0m\u001b[0m__name__\u001b[0m \u001b[0;34m=\u001b[0m \u001b[0;34mf\"AutoEncoder{hidden_dim}\"\u001b[0m\u001b[0;34m\u001b[0m\u001b[0;34m\u001b[0m\u001b[0m\n\u001b[0;32m----> 4\u001b[0;31m         \u001b[0msuper\u001b[0m\u001b[0;34m(\u001b[0m\u001b[0mLinearAutoencoder\u001b[0m\u001b[0;34m,\u001b[0m \u001b[0mself\u001b[0m\u001b[0;34m)\u001b[0m\u001b[0;34m.\u001b[0m\u001b[0m__init__\u001b[0m\u001b[0;34m(\u001b[0m\u001b[0;34m)\u001b[0m\u001b[0;34m\u001b[0m\u001b[0;34m\u001b[0m\u001b[0m\n\u001b[0m\u001b[1;32m      5\u001b[0m         self.encoder = nn.Sequential(\n\u001b[1;32m      6\u001b[0m             \u001b[0mnn\u001b[0m\u001b[0;34m.\u001b[0m\u001b[0mLinear\u001b[0m\u001b[0;34m(\u001b[0m\u001b[0minput_dim\u001b[0m\u001b[0;34m,\u001b[0m \u001b[0mhidden_dim\u001b[0m\u001b[0;34m)\u001b[0m\u001b[0;34m,\u001b[0m\u001b[0;34m\u001b[0m\u001b[0;34m\u001b[0m\u001b[0m\n",
      "\u001b[0;31mTypeError\u001b[0m: super(type, obj): obj must be an instance or subtype of type"
     ]
    }
   ],
   "source": [
    "train_ae_models(Autoencoder, red_dims, n_epochs=20)"
   ]
  },
  {
   "cell_type": "code",
   "execution_count": null,
   "metadata": {},
   "outputs": [],
   "source": []
  }
 ],
 "metadata": {
  "colab": {
   "authorship_tag": "ABX9TyNg3dubQ3S8R5LuPF6U1sA+",
   "gpuType": "T4",
   "mount_file_id": "1qbUIaeNZ9G1Q0jTdIsjBt-szoj5l0HRY",
   "provenance": []
  },
  "kernelspec": {
   "display_name": "DataSphere Kernel",
   "language": "python",
   "name": "python3"
  },
  "language_info": {
   "codemirror_mode": {
    "name": "ipython",
    "version": 3
   },
   "file_extension": ".py",
   "mimetype": "text/x-python",
   "name": "python",
   "nbconvert_exporter": "python",
   "pygments_lexer": "ipython3",
   "version": "3.10.12"
  }
 },
 "nbformat": 4,
 "nbformat_minor": 4
}
